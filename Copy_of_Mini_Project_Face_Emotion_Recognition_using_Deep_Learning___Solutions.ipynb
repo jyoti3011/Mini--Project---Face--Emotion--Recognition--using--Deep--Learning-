{
  "nbformat": 4,
  "nbformat_minor": 0,
  "metadata": {
    "colab": {
      "provenance": [],
      "gpuType": "T4"
    },
    "kernelspec": {
      "name": "python3",
      "display_name": "Python 3"
    },
    "language_info": {
      "name": "python"
    },
    "accelerator": "GPU"
  },
  "cells": [
    {
      "cell_type": "markdown",
      "source": [
        "# 📌 Step 1: Install Required Libraries"
      ],
      "metadata": {
        "id": "Slcw15EuFHxa"
      }
    },
    {
      "cell_type": "code",
      "execution_count": null,
      "metadata": {
        "id": "LdTVQWtrE0Qq"
      },
      "outputs": [],
      "source": [
        "!pip install kaggle --quiet\n",
        "!pip install tensorflow matplotlib seaborn --quiet"
      ]
    },
    {
      "cell_type": "markdown",
      "source": [
        "# 📌 Step 2: Upload Your Kaggle API Token\n",
        "Go to https://www.kaggle.com/settings\n",
        "\n",
        "Scroll down to “API” and click “Create New API Token”\n",
        "\n",
        "Upload the kaggle.json file in Colab"
      ],
      "metadata": {
        "id": "_8RAuHA-FMqB"
      }
    },
    {
      "cell_type": "code",
      "source": [
        "kaggle_api = '/content/kaggle.json'"
      ],
      "metadata": {
        "id": "EbBAoOVhFKWz"
      },
      "execution_count": null,
      "outputs": []
    },
    {
      "cell_type": "code",
      "source": [
        "# Copy Kaggle API Key from Drive to .kaggle/\n",
        "!mkdir -p ~/.kaggle\n",
        "!cp /content/kaggle.json ~/.kaggle/\n",
        "!chmod 600 ~/.kaggle/kaggle.json"
      ],
      "metadata": {
        "id": "PN5eGUw3Fiak"
      },
      "execution_count": null,
      "outputs": []
    },
    {
      "cell_type": "markdown",
      "source": [
        "# 📌 Step 3: Download FER2013 Dataset from Kaggle"
      ],
      "metadata": {
        "id": "SUa9_nvZF284"
      }
    },
    {
      "cell_type": "code",
      "source": [
        "!kaggle datasets download -d msambare/fer2013\n",
        "!unzip -q fer2013.zip"
      ],
      "metadata": {
        "colab": {
          "base_uri": "https://localhost:8080/"
        },
        "id": "fnN7zkN9FwKi",
        "outputId": "825cca9d-f845-4a8d-85e6-2a307b1aab2b"
      },
      "execution_count": null,
      "outputs": [
        {
          "output_type": "stream",
          "name": "stdout",
          "text": [
            "Dataset URL: https://www.kaggle.com/datasets/msambare/fer2013\n",
            "License(s): DbCL-1.0\n",
            "Downloading fer2013.zip to /content\n",
            "  0% 0.00/60.3M [00:00<?, ?B/s]\n",
            "100% 60.3M/60.3M [00:00<00:00, 1.35GB/s]\n"
          ]
        }
      ]
    },
    {
      "cell_type": "markdown",
      "source": [
        "# 📌 Step 4: Set Up Image Data Loaders"
      ],
      "metadata": {
        "id": "GU3CKjQSGEX6"
      }
    },
    {
      "cell_type": "code",
      "source": [
        "from tensorflow.keras.preprocessing.image import ImageDataGenerator\n",
        "\n",
        "# Base directory\n",
        "train_dir = \"/content/train\"\n",
        "test_dir = \"/content/test\"\n",
        "\n",
        "# Create ImageDataGenerator with validation split\n",
        "datagen = ImageDataGenerator(\n",
        "    rescale=1./255,\n",
        "    validation_split=0.2  # 20% of training data for validation\n",
        ")\n",
        "\n",
        "# Training generator (80% of train data)\n",
        "train_generator = datagen.flow_from_directory(\n",
        "    train_dir,\n",
        "    target_size=(48, 48),\n",
        "    batch_size=64,\n",
        "    color_mode='grayscale',\n",
        "    class_mode='categorical',\n",
        "    subset='training',\n",
        "    shuffle=True\n",
        ")\n",
        "\n",
        "# Validation generator (20% of train data)\n",
        "val_generator = datagen.flow_from_directory(\n",
        "    train_dir,\n",
        "    target_size=(48, 48),\n",
        "    batch_size=64,\n",
        "    color_mode='grayscale',\n",
        "    class_mode='categorical',\n",
        "    subset='validation',\n",
        "    shuffle=True\n",
        ")\n",
        "\n",
        "# Test generator (no split needed)\n",
        "test_datagen = ImageDataGenerator(rescale=1./255)\n",
        "test_generator = test_datagen.flow_from_directory(\n",
        "    test_dir,\n",
        "    target_size=(48, 48),\n",
        "    batch_size=64,\n",
        "    color_mode='grayscale',\n",
        "    class_mode='categorical',\n",
        "    shuffle=False\n",
        ")"
      ],
      "metadata": {
        "colab": {
          "base_uri": "https://localhost:8080/"
        },
        "id": "bPND1TzbF7Oj",
        "outputId": "6e9dcf24-e0aa-44f4-fbf1-99dd60c849a5"
      },
      "execution_count": null,
      "outputs": [
        {
          "output_type": "stream",
          "name": "stdout",
          "text": [
            "Found 22968 images belonging to 7 classes.\n",
            "Found 5741 images belonging to 7 classes.\n",
            "Found 7178 images belonging to 7 classes.\n"
          ]
        }
      ]
    },
    {
      "cell_type": "markdown",
      "source": [
        "# 📌 Step 5: Build the CNN Model"
      ],
      "metadata": {
        "id": "ieCD03dzG1hj"
      }
    },
    {
      "cell_type": "code",
      "source": [
        "from tensorflow.keras.models import Sequential\n",
        "from tensorflow.keras.layers import Conv2D, MaxPooling2D, Flatten, Dense, Dropout\n",
        "\n",
        "model = Sequential([\n",
        "    Conv2D(52, (3, 3), activation='relu', input_shape=(48, 48, 1)),\n",
        "    MaxPooling2D(2, 2),\n",
        "    Dropout(0.25),\n",
        "\n",
        "    Conv2D(104, (3, 3), activation='relu'),\n",
        "    MaxPooling2D(2, 2),\n",
        "    Dropout(0.25),\n",
        "\n",
        "    Flatten(),\n",
        "    Dense(208, activation='relu'),\n",
        "    Dropout(0.5),\n",
        "    Dense(7, activation='softmax')  # 7 classes\n",
        "])\n",
        "\n",
        "model.compile(optimizer='adam', loss='categorical_crossentropy', metrics=['accuracy'])\n",
        "model.summary()"
      ],
      "metadata": {
        "colab": {
          "base_uri": "https://localhost:8080/",
          "height": 518
        },
        "id": "srA5LtciGF8K",
        "outputId": "f3dbefe6-62a5-4e27-9a9e-3fb9b1b99960"
      },
      "execution_count": null,
      "outputs": [
        {
          "output_type": "stream",
          "name": "stderr",
          "text": [
            "/usr/local/lib/python3.11/dist-packages/keras/src/layers/convolutional/base_conv.py:107: UserWarning: Do not pass an `input_shape`/`input_dim` argument to a layer. When using Sequential models, prefer using an `Input(shape)` object as the first layer in the model instead.\n",
            "  super().__init__(activity_regularizer=activity_regularizer, **kwargs)\n"
          ]
        },
        {
          "output_type": "display_data",
          "data": {
            "text/plain": [
              "\u001b[1mModel: \"sequential\"\u001b[0m\n"
            ],
            "text/html": [
              "<pre style=\"white-space:pre;overflow-x:auto;line-height:normal;font-family:Menlo,'DejaVu Sans Mono',consolas,'Courier New',monospace\"><span style=\"font-weight: bold\">Model: \"sequential\"</span>\n",
              "</pre>\n"
            ]
          },
          "metadata": {}
        },
        {
          "output_type": "display_data",
          "data": {
            "text/plain": [
              "┏━━━━━━━━━━━━━━━━━━━━━━━━━━━━━━━━━┳━━━━━━━━━━━━━━━━━━━━━━━━┳━━━━━━━━━━━━━━━┓\n",
              "┃\u001b[1m \u001b[0m\u001b[1mLayer (type)                   \u001b[0m\u001b[1m \u001b[0m┃\u001b[1m \u001b[0m\u001b[1mOutput Shape          \u001b[0m\u001b[1m \u001b[0m┃\u001b[1m \u001b[0m\u001b[1m      Param #\u001b[0m\u001b[1m \u001b[0m┃\n",
              "┡━━━━━━━━━━━━━━━━━━━━━━━━━━━━━━━━━╇━━━━━━━━━━━━━━━━━━━━━━━━╇━━━━━━━━━━━━━━━┩\n",
              "│ conv2d (\u001b[38;5;33mConv2D\u001b[0m)                 │ (\u001b[38;5;45mNone\u001b[0m, \u001b[38;5;34m46\u001b[0m, \u001b[38;5;34m46\u001b[0m, \u001b[38;5;34m52\u001b[0m)     │           \u001b[38;5;34m520\u001b[0m │\n",
              "├─────────────────────────────────┼────────────────────────┼───────────────┤\n",
              "│ max_pooling2d (\u001b[38;5;33mMaxPooling2D\u001b[0m)    │ (\u001b[38;5;45mNone\u001b[0m, \u001b[38;5;34m23\u001b[0m, \u001b[38;5;34m23\u001b[0m, \u001b[38;5;34m52\u001b[0m)     │             \u001b[38;5;34m0\u001b[0m │\n",
              "├─────────────────────────────────┼────────────────────────┼───────────────┤\n",
              "│ dropout (\u001b[38;5;33mDropout\u001b[0m)               │ (\u001b[38;5;45mNone\u001b[0m, \u001b[38;5;34m23\u001b[0m, \u001b[38;5;34m23\u001b[0m, \u001b[38;5;34m52\u001b[0m)     │             \u001b[38;5;34m0\u001b[0m │\n",
              "├─────────────────────────────────┼────────────────────────┼───────────────┤\n",
              "│ conv2d_1 (\u001b[38;5;33mConv2D\u001b[0m)               │ (\u001b[38;5;45mNone\u001b[0m, \u001b[38;5;34m21\u001b[0m, \u001b[38;5;34m21\u001b[0m, \u001b[38;5;34m104\u001b[0m)    │        \u001b[38;5;34m48,776\u001b[0m │\n",
              "├─────────────────────────────────┼────────────────────────┼───────────────┤\n",
              "│ max_pooling2d_1 (\u001b[38;5;33mMaxPooling2D\u001b[0m)  │ (\u001b[38;5;45mNone\u001b[0m, \u001b[38;5;34m10\u001b[0m, \u001b[38;5;34m10\u001b[0m, \u001b[38;5;34m104\u001b[0m)    │             \u001b[38;5;34m0\u001b[0m │\n",
              "├─────────────────────────────────┼────────────────────────┼───────────────┤\n",
              "│ dropout_1 (\u001b[38;5;33mDropout\u001b[0m)             │ (\u001b[38;5;45mNone\u001b[0m, \u001b[38;5;34m10\u001b[0m, \u001b[38;5;34m10\u001b[0m, \u001b[38;5;34m104\u001b[0m)    │             \u001b[38;5;34m0\u001b[0m │\n",
              "├─────────────────────────────────┼────────────────────────┼───────────────┤\n",
              "│ flatten (\u001b[38;5;33mFlatten\u001b[0m)               │ (\u001b[38;5;45mNone\u001b[0m, \u001b[38;5;34m10400\u001b[0m)          │             \u001b[38;5;34m0\u001b[0m │\n",
              "├─────────────────────────────────┼────────────────────────┼───────────────┤\n",
              "│ dense (\u001b[38;5;33mDense\u001b[0m)                   │ (\u001b[38;5;45mNone\u001b[0m, \u001b[38;5;34m208\u001b[0m)            │     \u001b[38;5;34m2,163,408\u001b[0m │\n",
              "├─────────────────────────────────┼────────────────────────┼───────────────┤\n",
              "│ dropout_2 (\u001b[38;5;33mDropout\u001b[0m)             │ (\u001b[38;5;45mNone\u001b[0m, \u001b[38;5;34m208\u001b[0m)            │             \u001b[38;5;34m0\u001b[0m │\n",
              "├─────────────────────────────────┼────────────────────────┼───────────────┤\n",
              "│ dense_1 (\u001b[38;5;33mDense\u001b[0m)                 │ (\u001b[38;5;45mNone\u001b[0m, \u001b[38;5;34m7\u001b[0m)              │         \u001b[38;5;34m1,463\u001b[0m │\n",
              "└─────────────────────────────────┴────────────────────────┴───────────────┘\n"
            ],
            "text/html": [
              "<pre style=\"white-space:pre;overflow-x:auto;line-height:normal;font-family:Menlo,'DejaVu Sans Mono',consolas,'Courier New',monospace\">┏━━━━━━━━━━━━━━━━━━━━━━━━━━━━━━━━━┳━━━━━━━━━━━━━━━━━━━━━━━━┳━━━━━━━━━━━━━━━┓\n",
              "┃<span style=\"font-weight: bold\"> Layer (type)                    </span>┃<span style=\"font-weight: bold\"> Output Shape           </span>┃<span style=\"font-weight: bold\">       Param # </span>┃\n",
              "┡━━━━━━━━━━━━━━━━━━━━━━━━━━━━━━━━━╇━━━━━━━━━━━━━━━━━━━━━━━━╇━━━━━━━━━━━━━━━┩\n",
              "│ conv2d (<span style=\"color: #0087ff; text-decoration-color: #0087ff\">Conv2D</span>)                 │ (<span style=\"color: #00d7ff; text-decoration-color: #00d7ff\">None</span>, <span style=\"color: #00af00; text-decoration-color: #00af00\">46</span>, <span style=\"color: #00af00; text-decoration-color: #00af00\">46</span>, <span style=\"color: #00af00; text-decoration-color: #00af00\">52</span>)     │           <span style=\"color: #00af00; text-decoration-color: #00af00\">520</span> │\n",
              "├─────────────────────────────────┼────────────────────────┼───────────────┤\n",
              "│ max_pooling2d (<span style=\"color: #0087ff; text-decoration-color: #0087ff\">MaxPooling2D</span>)    │ (<span style=\"color: #00d7ff; text-decoration-color: #00d7ff\">None</span>, <span style=\"color: #00af00; text-decoration-color: #00af00\">23</span>, <span style=\"color: #00af00; text-decoration-color: #00af00\">23</span>, <span style=\"color: #00af00; text-decoration-color: #00af00\">52</span>)     │             <span style=\"color: #00af00; text-decoration-color: #00af00\">0</span> │\n",
              "├─────────────────────────────────┼────────────────────────┼───────────────┤\n",
              "│ dropout (<span style=\"color: #0087ff; text-decoration-color: #0087ff\">Dropout</span>)               │ (<span style=\"color: #00d7ff; text-decoration-color: #00d7ff\">None</span>, <span style=\"color: #00af00; text-decoration-color: #00af00\">23</span>, <span style=\"color: #00af00; text-decoration-color: #00af00\">23</span>, <span style=\"color: #00af00; text-decoration-color: #00af00\">52</span>)     │             <span style=\"color: #00af00; text-decoration-color: #00af00\">0</span> │\n",
              "├─────────────────────────────────┼────────────────────────┼───────────────┤\n",
              "│ conv2d_1 (<span style=\"color: #0087ff; text-decoration-color: #0087ff\">Conv2D</span>)               │ (<span style=\"color: #00d7ff; text-decoration-color: #00d7ff\">None</span>, <span style=\"color: #00af00; text-decoration-color: #00af00\">21</span>, <span style=\"color: #00af00; text-decoration-color: #00af00\">21</span>, <span style=\"color: #00af00; text-decoration-color: #00af00\">104</span>)    │        <span style=\"color: #00af00; text-decoration-color: #00af00\">48,776</span> │\n",
              "├─────────────────────────────────┼────────────────────────┼───────────────┤\n",
              "│ max_pooling2d_1 (<span style=\"color: #0087ff; text-decoration-color: #0087ff\">MaxPooling2D</span>)  │ (<span style=\"color: #00d7ff; text-decoration-color: #00d7ff\">None</span>, <span style=\"color: #00af00; text-decoration-color: #00af00\">10</span>, <span style=\"color: #00af00; text-decoration-color: #00af00\">10</span>, <span style=\"color: #00af00; text-decoration-color: #00af00\">104</span>)    │             <span style=\"color: #00af00; text-decoration-color: #00af00\">0</span> │\n",
              "├─────────────────────────────────┼────────────────────────┼───────────────┤\n",
              "│ dropout_1 (<span style=\"color: #0087ff; text-decoration-color: #0087ff\">Dropout</span>)             │ (<span style=\"color: #00d7ff; text-decoration-color: #00d7ff\">None</span>, <span style=\"color: #00af00; text-decoration-color: #00af00\">10</span>, <span style=\"color: #00af00; text-decoration-color: #00af00\">10</span>, <span style=\"color: #00af00; text-decoration-color: #00af00\">104</span>)    │             <span style=\"color: #00af00; text-decoration-color: #00af00\">0</span> │\n",
              "├─────────────────────────────────┼────────────────────────┼───────────────┤\n",
              "│ flatten (<span style=\"color: #0087ff; text-decoration-color: #0087ff\">Flatten</span>)               │ (<span style=\"color: #00d7ff; text-decoration-color: #00d7ff\">None</span>, <span style=\"color: #00af00; text-decoration-color: #00af00\">10400</span>)          │             <span style=\"color: #00af00; text-decoration-color: #00af00\">0</span> │\n",
              "├─────────────────────────────────┼────────────────────────┼───────────────┤\n",
              "│ dense (<span style=\"color: #0087ff; text-decoration-color: #0087ff\">Dense</span>)                   │ (<span style=\"color: #00d7ff; text-decoration-color: #00d7ff\">None</span>, <span style=\"color: #00af00; text-decoration-color: #00af00\">208</span>)            │     <span style=\"color: #00af00; text-decoration-color: #00af00\">2,163,408</span> │\n",
              "├─────────────────────────────────┼────────────────────────┼───────────────┤\n",
              "│ dropout_2 (<span style=\"color: #0087ff; text-decoration-color: #0087ff\">Dropout</span>)             │ (<span style=\"color: #00d7ff; text-decoration-color: #00d7ff\">None</span>, <span style=\"color: #00af00; text-decoration-color: #00af00\">208</span>)            │             <span style=\"color: #00af00; text-decoration-color: #00af00\">0</span> │\n",
              "├─────────────────────────────────┼────────────────────────┼───────────────┤\n",
              "│ dense_1 (<span style=\"color: #0087ff; text-decoration-color: #0087ff\">Dense</span>)                 │ (<span style=\"color: #00d7ff; text-decoration-color: #00d7ff\">None</span>, <span style=\"color: #00af00; text-decoration-color: #00af00\">7</span>)              │         <span style=\"color: #00af00; text-decoration-color: #00af00\">1,463</span> │\n",
              "└─────────────────────────────────┴────────────────────────┴───────────────┘\n",
              "</pre>\n"
            ]
          },
          "metadata": {}
        },
        {
          "output_type": "display_data",
          "data": {
            "text/plain": [
              "\u001b[1m Total params: \u001b[0m\u001b[38;5;34m2,214,167\u001b[0m (8.45 MB)\n"
            ],
            "text/html": [
              "<pre style=\"white-space:pre;overflow-x:auto;line-height:normal;font-family:Menlo,'DejaVu Sans Mono',consolas,'Courier New',monospace\"><span style=\"font-weight: bold\"> Total params: </span><span style=\"color: #00af00; text-decoration-color: #00af00\">2,214,167</span> (8.45 MB)\n",
              "</pre>\n"
            ]
          },
          "metadata": {}
        },
        {
          "output_type": "display_data",
          "data": {
            "text/plain": [
              "\u001b[1m Trainable params: \u001b[0m\u001b[38;5;34m2,214,167\u001b[0m (8.45 MB)\n"
            ],
            "text/html": [
              "<pre style=\"white-space:pre;overflow-x:auto;line-height:normal;font-family:Menlo,'DejaVu Sans Mono',consolas,'Courier New',monospace\"><span style=\"font-weight: bold\"> Trainable params: </span><span style=\"color: #00af00; text-decoration-color: #00af00\">2,214,167</span> (8.45 MB)\n",
              "</pre>\n"
            ]
          },
          "metadata": {}
        },
        {
          "output_type": "display_data",
          "data": {
            "text/plain": [
              "\u001b[1m Non-trainable params: \u001b[0m\u001b[38;5;34m0\u001b[0m (0.00 B)\n"
            ],
            "text/html": [
              "<pre style=\"white-space:pre;overflow-x:auto;line-height:normal;font-family:Menlo,'DejaVu Sans Mono',consolas,'Courier New',monospace\"><span style=\"font-weight: bold\"> Non-trainable params: </span><span style=\"color: #00af00; text-decoration-color: #00af00\">0</span> (0.00 B)\n",
              "</pre>\n"
            ]
          },
          "metadata": {}
        }
      ]
    },
    {
      "cell_type": "markdown",
      "source": [
        "# 📌 Step 6: Train the Model"
      ],
      "metadata": {
        "id": "kjog22sbH3ui"
      }
    },
    {
      "cell_type": "code",
      "source": [
        "history = model.fit(\n",
        "    train_generator,\n",
        "    validation_data=val_generator,batch_size=128,\n",
        "    epochs=400\n",
        ")"
      ],
      "metadata": {
        "colab": {
          "base_uri": "https://localhost:8080/"
        },
        "id": "b2QpsrsvG4T6",
        "outputId": "30c5922d-d2cf-46d7-9195-3e467402ecc7"
      },
      "execution_count": null,
      "outputs": [
        {
          "output_type": "stream",
          "name": "stdout",
          "text": [
            "Epoch 1/400\n",
            "\u001b[1m359/359\u001b[0m \u001b[32m━━━━━━━━━━━━━━━━━━━━\u001b[0m\u001b[37m\u001b[0m \u001b[1m10s\u001b[0m 28ms/step - accuracy: 0.7959 - loss: 0.5348 - val_accuracy: 0.5544 - val_loss: 1.5004\n",
            "Epoch 2/400\n",
            "\u001b[1m359/359\u001b[0m \u001b[32m━━━━━━━━━━━━━━━━━━━━\u001b[0m\u001b[37m\u001b[0m \u001b[1m9s\u001b[0m 25ms/step - accuracy: 0.7910 - loss: 0.5364 - val_accuracy: 0.5530 - val_loss: 1.5269\n",
            "Epoch 3/400\n",
            "\u001b[1m359/359\u001b[0m \u001b[32m━━━━━━━━━━━━━━━━━━━━\u001b[0m\u001b[37m\u001b[0m \u001b[1m11s\u001b[0m 26ms/step - accuracy: 0.7932 - loss: 0.5297 - val_accuracy: 0.5550 - val_loss: 1.5184\n",
            "Epoch 4/400\n",
            "\u001b[1m359/359\u001b[0m \u001b[32m━━━━━━━━━━━━━━━━━━━━\u001b[0m\u001b[37m\u001b[0m \u001b[1m8s\u001b[0m 24ms/step - accuracy: 0.7981 - loss: 0.5245 - val_accuracy: 0.5518 - val_loss: 1.4916\n",
            "Epoch 5/400\n",
            "\u001b[1m359/359\u001b[0m \u001b[32m━━━━━━━━━━━━━━━━━━━━\u001b[0m\u001b[37m\u001b[0m \u001b[1m9s\u001b[0m 25ms/step - accuracy: 0.7956 - loss: 0.5421 - val_accuracy: 0.5569 - val_loss: 1.5394\n",
            "Epoch 6/400\n",
            "\u001b[1m359/359\u001b[0m \u001b[32m━━━━━━━━━━━━━━━━━━━━\u001b[0m\u001b[37m\u001b[0m \u001b[1m9s\u001b[0m 25ms/step - accuracy: 0.7984 - loss: 0.5327 - val_accuracy: 0.5590 - val_loss: 1.5522\n",
            "Epoch 7/400\n",
            "\u001b[1m359/359\u001b[0m \u001b[32m━━━━━━━━━━━━━━━━━━━━\u001b[0m\u001b[37m\u001b[0m \u001b[1m9s\u001b[0m 25ms/step - accuracy: 0.7981 - loss: 0.5228 - val_accuracy: 0.5529 - val_loss: 1.5030\n",
            "Epoch 8/400\n",
            "\u001b[1m359/359\u001b[0m \u001b[32m━━━━━━━━━━━━━━━━━━━━\u001b[0m\u001b[37m\u001b[0m \u001b[1m11s\u001b[0m 26ms/step - accuracy: 0.8006 - loss: 0.5292 - val_accuracy: 0.5576 - val_loss: 1.5396\n",
            "Epoch 9/400\n",
            "\u001b[1m359/359\u001b[0m \u001b[32m━━━━━━━━━━━━━━━━━━━━\u001b[0m\u001b[37m\u001b[0m \u001b[1m10s\u001b[0m 28ms/step - accuracy: 0.8028 - loss: 0.5181 - val_accuracy: 0.5520 - val_loss: 1.5112\n",
            "Epoch 10/400\n",
            "\u001b[1m359/359\u001b[0m \u001b[32m━━━━━━━━━━━━━━━━━━━━\u001b[0m\u001b[37m\u001b[0m \u001b[1m9s\u001b[0m 26ms/step - accuracy: 0.8010 - loss: 0.5145 - val_accuracy: 0.5567 - val_loss: 1.5609\n",
            "Epoch 11/400\n",
            "\u001b[1m359/359\u001b[0m \u001b[32m━━━━━━━━━━━━━━━━━━━━\u001b[0m\u001b[37m\u001b[0m \u001b[1m10s\u001b[0m 26ms/step - accuracy: 0.8048 - loss: 0.5122 - val_accuracy: 0.5537 - val_loss: 1.5352\n",
            "Epoch 12/400\n",
            "\u001b[1m359/359\u001b[0m \u001b[32m━━━━━━━━━━━━━━━━━━━━\u001b[0m\u001b[37m\u001b[0m \u001b[1m10s\u001b[0m 27ms/step - accuracy: 0.8008 - loss: 0.5238 - val_accuracy: 0.5548 - val_loss: 1.6004\n",
            "Epoch 13/400\n",
            "\u001b[1m359/359\u001b[0m \u001b[32m━━━━━━━━━━━━━━━━━━━━\u001b[0m\u001b[37m\u001b[0m \u001b[1m9s\u001b[0m 24ms/step - accuracy: 0.8073 - loss: 0.5057 - val_accuracy: 0.5516 - val_loss: 1.5386\n",
            "Epoch 14/400\n",
            "\u001b[1m359/359\u001b[0m \u001b[32m━━━━━━━━━━━━━━━━━━━━\u001b[0m\u001b[37m\u001b[0m \u001b[1m9s\u001b[0m 25ms/step - accuracy: 0.8048 - loss: 0.5154 - val_accuracy: 0.5597 - val_loss: 1.5581\n",
            "Epoch 15/400\n",
            "\u001b[1m359/359\u001b[0m \u001b[32m━━━━━━━━━━━━━━━━━━━━\u001b[0m\u001b[37m\u001b[0m \u001b[1m9s\u001b[0m 26ms/step - accuracy: 0.8025 - loss: 0.5174 - val_accuracy: 0.5511 - val_loss: 1.5361\n",
            "Epoch 16/400\n",
            "\u001b[1m359/359\u001b[0m \u001b[32m━━━━━━━━━━━━━━━━━━━━\u001b[0m\u001b[37m\u001b[0m \u001b[1m10s\u001b[0m 27ms/step - accuracy: 0.8070 - loss: 0.5055 - val_accuracy: 0.5586 - val_loss: 1.5917\n",
            "Epoch 17/400\n",
            "\u001b[1m359/359\u001b[0m \u001b[32m━━━━━━━━━━━━━━━━━━━━\u001b[0m\u001b[37m\u001b[0m \u001b[1m9s\u001b[0m 24ms/step - accuracy: 0.8071 - loss: 0.5128 - val_accuracy: 0.5541 - val_loss: 1.6137\n",
            "Epoch 18/400\n",
            "\u001b[1m359/359\u001b[0m \u001b[32m━━━━━━━━━━━━━━━━━━━━\u001b[0m\u001b[37m\u001b[0m \u001b[1m10s\u001b[0m 28ms/step - accuracy: 0.8123 - loss: 0.4962 - val_accuracy: 0.5515 - val_loss: 1.5563\n",
            "Epoch 19/400\n",
            "\u001b[1m359/359\u001b[0m \u001b[32m━━━━━━━━━━━━━━━━━━━━\u001b[0m\u001b[37m\u001b[0m \u001b[1m9s\u001b[0m 26ms/step - accuracy: 0.8065 - loss: 0.5055 - val_accuracy: 0.5532 - val_loss: 1.5730\n",
            "Epoch 20/400\n",
            "\u001b[1m359/359\u001b[0m \u001b[32m━━━━━━━━━━━━━━━━━━━━\u001b[0m\u001b[37m\u001b[0m \u001b[1m9s\u001b[0m 25ms/step - accuracy: 0.8119 - loss: 0.4875 - val_accuracy: 0.5509 - val_loss: 1.5874\n",
            "Epoch 21/400\n",
            "\u001b[1m359/359\u001b[0m \u001b[32m━━━━━━━━━━━━━━━━━━━━\u001b[0m\u001b[37m\u001b[0m \u001b[1m10s\u001b[0m 29ms/step - accuracy: 0.8096 - loss: 0.4938 - val_accuracy: 0.5551 - val_loss: 1.5581\n",
            "Epoch 22/400\n",
            "\u001b[1m359/359\u001b[0m \u001b[32m━━━━━━━━━━━━━━━━━━━━\u001b[0m\u001b[37m\u001b[0m \u001b[1m9s\u001b[0m 24ms/step - accuracy: 0.8151 - loss: 0.4892 - val_accuracy: 0.5508 - val_loss: 1.5826\n",
            "Epoch 23/400\n",
            "\u001b[1m359/359\u001b[0m \u001b[32m━━━━━━━━━━━━━━━━━━━━\u001b[0m\u001b[37m\u001b[0m \u001b[1m10s\u001b[0m 29ms/step - accuracy: 0.8128 - loss: 0.4845 - val_accuracy: 0.5518 - val_loss: 1.5674\n",
            "Epoch 24/400\n",
            "\u001b[1m359/359\u001b[0m \u001b[32m━━━━━━━━━━━━━━━━━━━━\u001b[0m\u001b[37m\u001b[0m \u001b[1m10s\u001b[0m 28ms/step - accuracy: 0.8089 - loss: 0.5022 - val_accuracy: 0.5520 - val_loss: 1.6029\n",
            "Epoch 25/400\n",
            "\u001b[1m359/359\u001b[0m \u001b[32m━━━━━━━━━━━━━━━━━━━━\u001b[0m\u001b[37m\u001b[0m \u001b[1m9s\u001b[0m 25ms/step - accuracy: 0.8093 - loss: 0.4927 - val_accuracy: 0.5548 - val_loss: 1.6089\n",
            "Epoch 26/400\n",
            "\u001b[1m359/359\u001b[0m \u001b[32m━━━━━━━━━━━━━━━━━━━━\u001b[0m\u001b[37m\u001b[0m \u001b[1m9s\u001b[0m 24ms/step - accuracy: 0.8192 - loss: 0.4846 - val_accuracy: 0.5496 - val_loss: 1.6239\n",
            "Epoch 27/400\n",
            "\u001b[1m359/359\u001b[0m \u001b[32m━━━━━━━━━━━━━━━━━━━━\u001b[0m\u001b[37m\u001b[0m \u001b[1m11s\u001b[0m 25ms/step - accuracy: 0.8264 - loss: 0.4670 - val_accuracy: 0.5509 - val_loss: 1.6080\n",
            "Epoch 28/400\n",
            "\u001b[1m359/359\u001b[0m \u001b[32m━━━━━━━━━━━━━━━━━━━━\u001b[0m\u001b[37m\u001b[0m \u001b[1m9s\u001b[0m 26ms/step - accuracy: 0.8167 - loss: 0.4917 - val_accuracy: 0.5562 - val_loss: 1.5950\n",
            "Epoch 29/400\n",
            "\u001b[1m359/359\u001b[0m \u001b[32m━━━━━━━━━━━━━━━━━━━━\u001b[0m\u001b[37m\u001b[0m \u001b[1m9s\u001b[0m 25ms/step - accuracy: 0.8230 - loss: 0.4734 - val_accuracy: 0.5548 - val_loss: 1.6041\n",
            "Epoch 30/400\n",
            "\u001b[1m359/359\u001b[0m \u001b[32m━━━━━━━━━━━━━━━━━━━━\u001b[0m\u001b[37m\u001b[0m \u001b[1m9s\u001b[0m 26ms/step - accuracy: 0.8195 - loss: 0.4811 - val_accuracy: 0.5516 - val_loss: 1.5810\n",
            "Epoch 31/400\n",
            "\u001b[1m359/359\u001b[0m \u001b[32m━━━━━━━━━━━━━━━━━━━━\u001b[0m\u001b[37m\u001b[0m \u001b[1m9s\u001b[0m 25ms/step - accuracy: 0.8210 - loss: 0.4724 - val_accuracy: 0.5501 - val_loss: 1.5777\n",
            "Epoch 32/400\n",
            "\u001b[1m359/359\u001b[0m \u001b[32m━━━━━━━━━━━━━━━━━━━━\u001b[0m\u001b[37m\u001b[0m \u001b[1m10s\u001b[0m 28ms/step - accuracy: 0.8183 - loss: 0.4840 - val_accuracy: 0.5513 - val_loss: 1.6101\n",
            "Epoch 33/400\n",
            "\u001b[1m359/359\u001b[0m \u001b[32m━━━━━━━━━━━━━━━━━━━━\u001b[0m\u001b[37m\u001b[0m \u001b[1m9s\u001b[0m 26ms/step - accuracy: 0.8239 - loss: 0.4712 - val_accuracy: 0.5597 - val_loss: 1.6182\n",
            "Epoch 34/400\n",
            "\u001b[1m359/359\u001b[0m \u001b[32m━━━━━━━━━━━━━━━━━━━━\u001b[0m\u001b[37m\u001b[0m \u001b[1m9s\u001b[0m 26ms/step - accuracy: 0.8203 - loss: 0.4780 - val_accuracy: 0.5555 - val_loss: 1.6328\n",
            "Epoch 35/400\n",
            "\u001b[1m359/359\u001b[0m \u001b[32m━━━━━━━━━━━━━━━━━━━━\u001b[0m\u001b[37m\u001b[0m \u001b[1m11s\u001b[0m 27ms/step - accuracy: 0.8229 - loss: 0.4708 - val_accuracy: 0.5548 - val_loss: 1.6396\n",
            "Epoch 36/400\n",
            "\u001b[1m359/359\u001b[0m \u001b[32m━━━━━━━━━━━━━━━━━━━━\u001b[0m\u001b[37m\u001b[0m \u001b[1m10s\u001b[0m 27ms/step - accuracy: 0.8227 - loss: 0.4674 - val_accuracy: 0.5548 - val_loss: 1.6098\n",
            "Epoch 37/400\n",
            "\u001b[1m359/359\u001b[0m \u001b[32m━━━━━━━━━━━━━━━━━━━━\u001b[0m\u001b[37m\u001b[0m \u001b[1m9s\u001b[0m 25ms/step - accuracy: 0.8202 - loss: 0.4702 - val_accuracy: 0.5548 - val_loss: 1.6355\n",
            "Epoch 38/400\n",
            "\u001b[1m359/359\u001b[0m \u001b[32m━━━━━━━━━━━━━━━━━━━━\u001b[0m\u001b[37m\u001b[0m \u001b[1m9s\u001b[0m 25ms/step - accuracy: 0.8320 - loss: 0.4503 - val_accuracy: 0.5572 - val_loss: 1.6102\n",
            "Epoch 39/400\n",
            "\u001b[1m359/359\u001b[0m \u001b[32m━━━━━━━━━━━━━━━━━━━━\u001b[0m\u001b[37m\u001b[0m \u001b[1m12s\u001b[0m 29ms/step - accuracy: 0.8256 - loss: 0.4544 - val_accuracy: 0.5527 - val_loss: 1.6141\n",
            "Epoch 40/400\n",
            "\u001b[1m359/359\u001b[0m \u001b[32m━━━━━━━━━━━━━━━━━━━━\u001b[0m\u001b[37m\u001b[0m \u001b[1m10s\u001b[0m 27ms/step - accuracy: 0.8227 - loss: 0.4630 - val_accuracy: 0.5499 - val_loss: 1.6290\n",
            "Epoch 41/400\n",
            "\u001b[1m359/359\u001b[0m \u001b[32m━━━━━━━━━━━━━━━━━━━━\u001b[0m\u001b[37m\u001b[0m \u001b[1m9s\u001b[0m 24ms/step - accuracy: 0.8263 - loss: 0.4618 - val_accuracy: 0.5504 - val_loss: 1.6715\n",
            "Epoch 42/400\n",
            "\u001b[1m359/359\u001b[0m \u001b[32m━━━━━━━━━━━━━━━━━━━━\u001b[0m\u001b[37m\u001b[0m \u001b[1m9s\u001b[0m 25ms/step - accuracy: 0.8203 - loss: 0.4655 - val_accuracy: 0.5570 - val_loss: 1.6405\n",
            "Epoch 43/400\n",
            "\u001b[1m359/359\u001b[0m \u001b[32m━━━━━━━━━━━━━━━━━━━━\u001b[0m\u001b[37m\u001b[0m \u001b[1m11s\u001b[0m 31ms/step - accuracy: 0.8244 - loss: 0.4670 - val_accuracy: 0.5503 - val_loss: 1.6415\n",
            "Epoch 44/400\n",
            "\u001b[1m359/359\u001b[0m \u001b[32m━━━━━━━━━━━━━━━━━━━━\u001b[0m\u001b[37m\u001b[0m \u001b[1m10s\u001b[0m 27ms/step - accuracy: 0.8245 - loss: 0.4564 - val_accuracy: 0.5537 - val_loss: 1.6063\n",
            "Epoch 45/400\n",
            "\u001b[1m359/359\u001b[0m \u001b[32m━━━━━━━━━━━━━━━━━━━━\u001b[0m\u001b[37m\u001b[0m \u001b[1m8s\u001b[0m 24ms/step - accuracy: 0.8244 - loss: 0.4572 - val_accuracy: 0.5503 - val_loss: 1.6451\n",
            "Epoch 46/400\n",
            "\u001b[1m359/359\u001b[0m \u001b[32m━━━━━━━━━━━━━━━━━━━━\u001b[0m\u001b[37m\u001b[0m \u001b[1m9s\u001b[0m 25ms/step - accuracy: 0.8261 - loss: 0.4650 - val_accuracy: 0.5562 - val_loss: 1.6486\n",
            "Epoch 47/400\n",
            "\u001b[1m359/359\u001b[0m \u001b[32m━━━━━━━━━━━━━━━━━━━━\u001b[0m\u001b[37m\u001b[0m \u001b[1m9s\u001b[0m 26ms/step - accuracy: 0.8232 - loss: 0.4495 - val_accuracy: 0.5548 - val_loss: 1.5985\n",
            "Epoch 48/400\n",
            "\u001b[1m359/359\u001b[0m \u001b[32m━━━━━━━━━━━━━━━━━━━━\u001b[0m\u001b[37m\u001b[0m \u001b[1m9s\u001b[0m 25ms/step - accuracy: 0.8311 - loss: 0.4404 - val_accuracy: 0.5527 - val_loss: 1.6546\n",
            "Epoch 49/400\n",
            "\u001b[1m359/359\u001b[0m \u001b[32m━━━━━━━━━━━━━━━━━━━━\u001b[0m\u001b[37m\u001b[0m \u001b[1m8s\u001b[0m 23ms/step - accuracy: 0.8284 - loss: 0.4505 - val_accuracy: 0.5487 - val_loss: 1.6380\n",
            "Epoch 50/400\n",
            "\u001b[1m359/359\u001b[0m \u001b[32m━━━━━━━━━━━━━━━━━━━━\u001b[0m\u001b[37m\u001b[0m \u001b[1m9s\u001b[0m 25ms/step - accuracy: 0.8325 - loss: 0.4535 - val_accuracy: 0.5551 - val_loss: 1.6597\n",
            "Epoch 51/400\n",
            "\u001b[1m359/359\u001b[0m \u001b[32m━━━━━━━━━━━━━━━━━━━━\u001b[0m\u001b[37m\u001b[0m \u001b[1m10s\u001b[0m 29ms/step - accuracy: 0.8296 - loss: 0.4525 - val_accuracy: 0.5570 - val_loss: 1.6865\n",
            "Epoch 52/400\n",
            "\u001b[1m359/359\u001b[0m \u001b[32m━━━━━━━━━━━━━━━━━━━━\u001b[0m\u001b[37m\u001b[0m \u001b[1m9s\u001b[0m 25ms/step - accuracy: 0.8327 - loss: 0.4517 - val_accuracy: 0.5527 - val_loss: 1.6420\n",
            "Epoch 53/400\n",
            "\u001b[1m359/359\u001b[0m \u001b[32m━━━━━━━━━━━━━━━━━━━━\u001b[0m\u001b[37m\u001b[0m \u001b[1m10s\u001b[0m 27ms/step - accuracy: 0.8261 - loss: 0.4550 - val_accuracy: 0.5569 - val_loss: 1.6119\n",
            "Epoch 54/400\n",
            "\u001b[1m359/359\u001b[0m \u001b[32m━━━━━━━━━━━━━━━━━━━━\u001b[0m\u001b[37m\u001b[0m \u001b[1m9s\u001b[0m 25ms/step - accuracy: 0.8371 - loss: 0.4338 - val_accuracy: 0.5572 - val_loss: 1.6580\n",
            "Epoch 55/400\n",
            "\u001b[1m359/359\u001b[0m \u001b[32m━━━━━━━━━━━━━━━━━━━━\u001b[0m\u001b[37m\u001b[0m \u001b[1m11s\u001b[0m 29ms/step - accuracy: 0.8307 - loss: 0.4457 - val_accuracy: 0.5527 - val_loss: 1.6407\n",
            "Epoch 56/400\n",
            "\u001b[1m359/359\u001b[0m \u001b[32m━━━━━━━━━━━━━━━━━━━━\u001b[0m\u001b[37m\u001b[0m \u001b[1m9s\u001b[0m 25ms/step - accuracy: 0.8322 - loss: 0.4476 - val_accuracy: 0.5553 - val_loss: 1.6711\n",
            "Epoch 57/400\n",
            "\u001b[1m359/359\u001b[0m \u001b[32m━━━━━━━━━━━━━━━━━━━━\u001b[0m\u001b[37m\u001b[0m \u001b[1m9s\u001b[0m 24ms/step - accuracy: 0.8311 - loss: 0.4430 - val_accuracy: 0.5550 - val_loss: 1.6431\n",
            "Epoch 58/400\n",
            "\u001b[1m359/359\u001b[0m \u001b[32m━━━━━━━━━━━━━━━━━━━━\u001b[0m\u001b[37m\u001b[0m \u001b[1m9s\u001b[0m 25ms/step - accuracy: 0.8333 - loss: 0.4436 - val_accuracy: 0.5464 - val_loss: 1.6259\n",
            "Epoch 59/400\n",
            "\u001b[1m359/359\u001b[0m \u001b[32m━━━━━━━━━━━━━━━━━━━━\u001b[0m\u001b[37m\u001b[0m \u001b[1m9s\u001b[0m 26ms/step - accuracy: 0.8368 - loss: 0.4328 - val_accuracy: 0.5550 - val_loss: 1.6502\n",
            "Epoch 60/400\n",
            "\u001b[1m359/359\u001b[0m \u001b[32m━━━━━━━━━━━━━━━━━━━━\u001b[0m\u001b[37m\u001b[0m \u001b[1m9s\u001b[0m 25ms/step - accuracy: 0.8333 - loss: 0.4368 - val_accuracy: 0.5513 - val_loss: 1.6528\n",
            "Epoch 61/400\n",
            "\u001b[1m359/359\u001b[0m \u001b[32m━━━━━━━━━━━━━━━━━━━━\u001b[0m\u001b[37m\u001b[0m \u001b[1m10s\u001b[0m 27ms/step - accuracy: 0.8427 - loss: 0.4132 - val_accuracy: 0.5550 - val_loss: 1.6672\n",
            "Epoch 62/400\n",
            "\u001b[1m359/359\u001b[0m \u001b[32m━━━━━━━━━━━━━━━━━━━━\u001b[0m\u001b[37m\u001b[0m \u001b[1m10s\u001b[0m 27ms/step - accuracy: 0.8390 - loss: 0.4221 - val_accuracy: 0.5544 - val_loss: 1.6723\n",
            "Epoch 63/400\n",
            "\u001b[1m359/359\u001b[0m \u001b[32m━━━━━━━━━━━━━━━━━━━━\u001b[0m\u001b[37m\u001b[0m \u001b[1m10s\u001b[0m 26ms/step - accuracy: 0.8420 - loss: 0.4169 - val_accuracy: 0.5544 - val_loss: 1.6532\n",
            "Epoch 64/400\n",
            "\u001b[1m359/359\u001b[0m \u001b[32m━━━━━━━━━━━━━━━━━━━━\u001b[0m\u001b[37m\u001b[0m \u001b[1m9s\u001b[0m 26ms/step - accuracy: 0.8370 - loss: 0.4359 - val_accuracy: 0.5570 - val_loss: 1.6465\n",
            "Epoch 65/400\n",
            "\u001b[1m359/359\u001b[0m \u001b[32m━━━━━━━━━━━━━━━━━━━━\u001b[0m\u001b[37m\u001b[0m \u001b[1m10s\u001b[0m 27ms/step - accuracy: 0.8395 - loss: 0.4356 - val_accuracy: 0.5513 - val_loss: 1.6728\n",
            "Epoch 66/400\n",
            "\u001b[1m359/359\u001b[0m \u001b[32m━━━━━━━━━━━━━━━━━━━━\u001b[0m\u001b[37m\u001b[0m \u001b[1m9s\u001b[0m 24ms/step - accuracy: 0.8360 - loss: 0.4325 - val_accuracy: 0.5537 - val_loss: 1.6357\n",
            "Epoch 67/400\n",
            "\u001b[1m359/359\u001b[0m \u001b[32m━━━━━━━━━━━━━━━━━━━━\u001b[0m\u001b[37m\u001b[0m \u001b[1m10s\u001b[0m 25ms/step - accuracy: 0.8418 - loss: 0.4153 - val_accuracy: 0.5576 - val_loss: 1.6521\n",
            "Epoch 68/400\n",
            "\u001b[1m359/359\u001b[0m \u001b[32m━━━━━━━━━━━━━━━━━━━━\u001b[0m\u001b[37m\u001b[0m \u001b[1m9s\u001b[0m 26ms/step - accuracy: 0.8396 - loss: 0.4259 - val_accuracy: 0.5548 - val_loss: 1.6112\n",
            "Epoch 69/400\n",
            "\u001b[1m359/359\u001b[0m \u001b[32m━━━━━━━━━━━━━━━━━━━━\u001b[0m\u001b[37m\u001b[0m \u001b[1m9s\u001b[0m 26ms/step - accuracy: 0.8480 - loss: 0.4153 - val_accuracy: 0.5504 - val_loss: 1.7452\n",
            "Epoch 70/400\n",
            "\u001b[1m359/359\u001b[0m \u001b[32m━━━━━━━━━━━━━━━━━━━━\u001b[0m\u001b[37m\u001b[0m \u001b[1m9s\u001b[0m 25ms/step - accuracy: 0.8461 - loss: 0.4088 - val_accuracy: 0.5553 - val_loss: 1.6675\n",
            "Epoch 71/400\n",
            "\u001b[1m359/359\u001b[0m \u001b[32m━━━━━━━━━━━━━━━━━━━━\u001b[0m\u001b[37m\u001b[0m \u001b[1m9s\u001b[0m 25ms/step - accuracy: 0.8396 - loss: 0.4275 - val_accuracy: 0.5532 - val_loss: 1.6397\n",
            "Epoch 72/400\n",
            "\u001b[1m359/359\u001b[0m \u001b[32m━━━━━━━━━━━━━━━━━━━━\u001b[0m\u001b[37m\u001b[0m \u001b[1m9s\u001b[0m 26ms/step - accuracy: 0.8392 - loss: 0.4262 - val_accuracy: 0.5563 - val_loss: 1.7029\n",
            "Epoch 73/400\n",
            "\u001b[1m359/359\u001b[0m \u001b[32m━━━━━━━━━━━━━━━━━━━━\u001b[0m\u001b[37m\u001b[0m \u001b[1m9s\u001b[0m 25ms/step - accuracy: 0.8434 - loss: 0.4286 - val_accuracy: 0.5543 - val_loss: 1.7035\n",
            "Epoch 74/400\n",
            "\u001b[1m359/359\u001b[0m \u001b[32m━━━━━━━━━━━━━━━━━━━━\u001b[0m\u001b[37m\u001b[0m \u001b[1m9s\u001b[0m 25ms/step - accuracy: 0.8441 - loss: 0.4200 - val_accuracy: 0.5543 - val_loss: 1.6231\n",
            "Epoch 75/400\n",
            "\u001b[1m359/359\u001b[0m \u001b[32m━━━━━━━━━━━━━━━━━━━━\u001b[0m\u001b[37m\u001b[0m \u001b[1m9s\u001b[0m 26ms/step - accuracy: 0.8404 - loss: 0.4142 - val_accuracy: 0.5529 - val_loss: 1.6838\n",
            "Epoch 76/400\n",
            "\u001b[1m359/359\u001b[0m \u001b[32m━━━━━━━━━━━━━━━━━━━━\u001b[0m\u001b[37m\u001b[0m \u001b[1m9s\u001b[0m 26ms/step - accuracy: 0.8479 - loss: 0.3912 - val_accuracy: 0.5555 - val_loss: 1.7093\n",
            "Epoch 77/400\n",
            "\u001b[1m359/359\u001b[0m \u001b[32m━━━━━━━━━━━━━━━━━━━━\u001b[0m\u001b[37m\u001b[0m \u001b[1m9s\u001b[0m 25ms/step - accuracy: 0.8500 - loss: 0.4017 - val_accuracy: 0.5572 - val_loss: 1.6691\n",
            "Epoch 78/400\n",
            "\u001b[1m359/359\u001b[0m \u001b[32m━━━━━━━━━━━━━━━━━━━━\u001b[0m\u001b[37m\u001b[0m \u001b[1m10s\u001b[0m 27ms/step - accuracy: 0.8466 - loss: 0.4072 - val_accuracy: 0.5541 - val_loss: 1.6453\n",
            "Epoch 79/400\n",
            "\u001b[1m359/359\u001b[0m \u001b[32m━━━━━━━━━━━━━━━━━━━━\u001b[0m\u001b[37m\u001b[0m \u001b[1m10s\u001b[0m 27ms/step - accuracy: 0.8444 - loss: 0.4103 - val_accuracy: 0.5504 - val_loss: 1.6998\n",
            "Epoch 80/400\n",
            "\u001b[1m359/359\u001b[0m \u001b[32m━━━━━━━━━━━━━━━━━━━━\u001b[0m\u001b[37m\u001b[0m \u001b[1m9s\u001b[0m 24ms/step - accuracy: 0.8470 - loss: 0.4135 - val_accuracy: 0.5509 - val_loss: 1.6735\n",
            "Epoch 81/400\n",
            "\u001b[1m359/359\u001b[0m \u001b[32m━━━━━━━━━━━━━━━━━━━━\u001b[0m\u001b[37m\u001b[0m \u001b[1m9s\u001b[0m 26ms/step - accuracy: 0.8479 - loss: 0.4091 - val_accuracy: 0.5527 - val_loss: 1.6666\n",
            "Epoch 82/400\n",
            "\u001b[1m359/359\u001b[0m \u001b[32m━━━━━━━━━━━━━━━━━━━━\u001b[0m\u001b[37m\u001b[0m \u001b[1m9s\u001b[0m 25ms/step - accuracy: 0.8493 - loss: 0.4027 - val_accuracy: 0.5513 - val_loss: 1.6728\n",
            "Epoch 83/400\n",
            "\u001b[1m359/359\u001b[0m \u001b[32m━━━━━━━━━━━━━━━━━━━━\u001b[0m\u001b[37m\u001b[0m \u001b[1m10s\u001b[0m 28ms/step - accuracy: 0.8484 - loss: 0.4040 - val_accuracy: 0.5499 - val_loss: 1.6930\n",
            "Epoch 84/400\n",
            "\u001b[1m359/359\u001b[0m \u001b[32m━━━━━━━━━━━━━━━━━━━━\u001b[0m\u001b[37m\u001b[0m \u001b[1m10s\u001b[0m 27ms/step - accuracy: 0.8454 - loss: 0.4064 - val_accuracy: 0.5569 - val_loss: 1.6413\n",
            "Epoch 85/400\n",
            "\u001b[1m359/359\u001b[0m \u001b[32m━━━━━━━━━━━━━━━━━━━━\u001b[0m\u001b[37m\u001b[0m \u001b[1m10s\u001b[0m 28ms/step - accuracy: 0.8513 - loss: 0.3916 - val_accuracy: 0.5483 - val_loss: 1.7179\n",
            "Epoch 86/400\n",
            "\u001b[1m359/359\u001b[0m \u001b[32m━━━━━━━━━━━━━━━━━━━━\u001b[0m\u001b[37m\u001b[0m \u001b[1m9s\u001b[0m 25ms/step - accuracy: 0.8495 - loss: 0.3974 - val_accuracy: 0.5534 - val_loss: 1.6989\n",
            "Epoch 87/400\n",
            "\u001b[1m359/359\u001b[0m \u001b[32m━━━━━━━━━━━━━━━━━━━━\u001b[0m\u001b[37m\u001b[0m \u001b[1m10s\u001b[0m 27ms/step - accuracy: 0.8453 - loss: 0.3982 - val_accuracy: 0.5482 - val_loss: 1.7424\n",
            "Epoch 88/400\n",
            "\u001b[1m359/359\u001b[0m \u001b[32m━━━━━━━━━━━━━━━━━━━━\u001b[0m\u001b[37m\u001b[0m \u001b[1m10s\u001b[0m 27ms/step - accuracy: 0.8488 - loss: 0.4062 - val_accuracy: 0.5522 - val_loss: 1.6939\n",
            "Epoch 89/400\n",
            "\u001b[1m359/359\u001b[0m \u001b[32m━━━━━━━━━━━━━━━━━━━━\u001b[0m\u001b[37m\u001b[0m \u001b[1m9s\u001b[0m 24ms/step - accuracy: 0.8510 - loss: 0.4015 - val_accuracy: 0.5530 - val_loss: 1.7229\n",
            "Epoch 90/400\n",
            "\u001b[1m359/359\u001b[0m \u001b[32m━━━━━━━━━━━━━━━━━━━━\u001b[0m\u001b[37m\u001b[0m \u001b[1m9s\u001b[0m 25ms/step - accuracy: 0.8510 - loss: 0.4032 - val_accuracy: 0.5518 - val_loss: 1.6288\n",
            "Epoch 91/400\n",
            "\u001b[1m359/359\u001b[0m \u001b[32m━━━━━━━━━━━━━━━━━━━━\u001b[0m\u001b[37m\u001b[0m \u001b[1m11s\u001b[0m 29ms/step - accuracy: 0.8526 - loss: 0.3957 - val_accuracy: 0.5611 - val_loss: 1.7361\n",
            "Epoch 92/400\n",
            "\u001b[1m359/359\u001b[0m \u001b[32m━━━━━━━━━━━━━━━━━━━━\u001b[0m\u001b[37m\u001b[0m \u001b[1m9s\u001b[0m 25ms/step - accuracy: 0.8512 - loss: 0.3922 - val_accuracy: 0.5562 - val_loss: 1.6622\n",
            "Epoch 93/400\n",
            "\u001b[1m359/359\u001b[0m \u001b[32m━━━━━━━━━━━━━━━━━━━━\u001b[0m\u001b[37m\u001b[0m \u001b[1m9s\u001b[0m 24ms/step - accuracy: 0.8499 - loss: 0.4022 - val_accuracy: 0.5577 - val_loss: 1.7116\n",
            "Epoch 94/400\n",
            "\u001b[1m359/359\u001b[0m \u001b[32m━━━━━━━━━━━━━━━━━━━━\u001b[0m\u001b[37m\u001b[0m \u001b[1m9s\u001b[0m 26ms/step - accuracy: 0.8495 - loss: 0.3979 - val_accuracy: 0.5518 - val_loss: 1.7129\n",
            "Epoch 95/400\n",
            "\u001b[1m359/359\u001b[0m \u001b[32m━━━━━━━━━━━━━━━━━━━━\u001b[0m\u001b[37m\u001b[0m \u001b[1m10s\u001b[0m 27ms/step - accuracy: 0.8529 - loss: 0.3852 - val_accuracy: 0.5520 - val_loss: 1.7354\n",
            "Epoch 96/400\n",
            "\u001b[1m359/359\u001b[0m \u001b[32m━━━━━━━━━━━━━━━━━━━━\u001b[0m\u001b[37m\u001b[0m \u001b[1m10s\u001b[0m 28ms/step - accuracy: 0.8512 - loss: 0.3946 - val_accuracy: 0.5536 - val_loss: 1.7107\n",
            "Epoch 97/400\n",
            "\u001b[1m359/359\u001b[0m \u001b[32m━━━━━━━━━━━━━━━━━━━━\u001b[0m\u001b[37m\u001b[0m \u001b[1m10s\u001b[0m 27ms/step - accuracy: 0.8468 - loss: 0.4077 - val_accuracy: 0.5490 - val_loss: 1.7388\n",
            "Epoch 98/400\n",
            "\u001b[1m359/359\u001b[0m \u001b[32m━━━━━━━━━━━━━━━━━━━━\u001b[0m\u001b[37m\u001b[0m \u001b[1m9s\u001b[0m 24ms/step - accuracy: 0.8538 - loss: 0.3881 - val_accuracy: 0.5501 - val_loss: 1.7101\n",
            "Epoch 99/400\n",
            "\u001b[1m359/359\u001b[0m \u001b[32m━━━━━━━━━━━━━━━━━━━━\u001b[0m\u001b[37m\u001b[0m \u001b[1m10s\u001b[0m 27ms/step - accuracy: 0.8561 - loss: 0.3883 - val_accuracy: 0.5543 - val_loss: 1.7334\n",
            "Epoch 100/400\n",
            "\u001b[1m359/359\u001b[0m \u001b[32m━━━━━━━━━━━━━━━━━━━━\u001b[0m\u001b[37m\u001b[0m \u001b[1m9s\u001b[0m 26ms/step - accuracy: 0.8522 - loss: 0.3896 - val_accuracy: 0.5518 - val_loss: 1.6718\n",
            "Epoch 101/400\n",
            "\u001b[1m359/359\u001b[0m \u001b[32m━━━━━━━━━━━━━━━━━━━━\u001b[0m\u001b[37m\u001b[0m \u001b[1m9s\u001b[0m 26ms/step - accuracy: 0.8553 - loss: 0.3917 - val_accuracy: 0.5562 - val_loss: 1.6652\n",
            "Epoch 102/400\n",
            "\u001b[1m359/359\u001b[0m \u001b[32m━━━━━━━━━━━━━━━━━━━━\u001b[0m\u001b[37m\u001b[0m \u001b[1m9s\u001b[0m 24ms/step - accuracy: 0.8522 - loss: 0.3913 - val_accuracy: 0.5555 - val_loss: 1.7770\n",
            "Epoch 103/400\n",
            "\u001b[1m359/359\u001b[0m \u001b[32m━━━━━━━━━━━━━━━━━━━━\u001b[0m\u001b[37m\u001b[0m \u001b[1m10s\u001b[0m 27ms/step - accuracy: 0.8502 - loss: 0.3859 - val_accuracy: 0.5588 - val_loss: 1.6971\n",
            "Epoch 104/400\n",
            "\u001b[1m359/359\u001b[0m \u001b[32m━━━━━━━━━━━━━━━━━━━━\u001b[0m\u001b[37m\u001b[0m \u001b[1m10s\u001b[0m 29ms/step - accuracy: 0.8557 - loss: 0.3924 - val_accuracy: 0.5560 - val_loss: 1.7079\n",
            "Epoch 105/400\n",
            "\u001b[1m359/359\u001b[0m \u001b[32m━━━━━━━━━━━━━━━━━━━━\u001b[0m\u001b[37m\u001b[0m \u001b[1m9s\u001b[0m 26ms/step - accuracy: 0.8554 - loss: 0.3798 - val_accuracy: 0.5584 - val_loss: 1.7255\n",
            "Epoch 106/400\n",
            "\u001b[1m359/359\u001b[0m \u001b[32m━━━━━━━━━━━━━━━━━━━━\u001b[0m\u001b[37m\u001b[0m \u001b[1m10s\u001b[0m 27ms/step - accuracy: 0.8516 - loss: 0.3945 - val_accuracy: 0.5567 - val_loss: 1.7070\n",
            "Epoch 107/400\n",
            "\u001b[1m359/359\u001b[0m \u001b[32m━━━━━━━━━━━━━━━━━━━━\u001b[0m\u001b[37m\u001b[0m \u001b[1m9s\u001b[0m 25ms/step - accuracy: 0.8596 - loss: 0.3764 - val_accuracy: 0.5553 - val_loss: 1.7120\n",
            "Epoch 108/400\n",
            "\u001b[1m359/359\u001b[0m \u001b[32m━━━━━━━━━━━━━━━━━━━━\u001b[0m\u001b[37m\u001b[0m \u001b[1m9s\u001b[0m 25ms/step - accuracy: 0.8584 - loss: 0.3704 - val_accuracy: 0.5565 - val_loss: 1.7478\n",
            "Epoch 109/400\n",
            "\u001b[1m359/359\u001b[0m \u001b[32m━━━━━━━━━━━━━━━━━━━━\u001b[0m\u001b[37m\u001b[0m \u001b[1m10s\u001b[0m 28ms/step - accuracy: 0.8575 - loss: 0.3761 - val_accuracy: 0.5555 - val_loss: 1.7252\n",
            "Epoch 110/400\n",
            "\u001b[1m359/359\u001b[0m \u001b[32m━━━━━━━━━━━━━━━━━━━━\u001b[0m\u001b[37m\u001b[0m \u001b[1m9s\u001b[0m 25ms/step - accuracy: 0.8606 - loss: 0.3748 - val_accuracy: 0.5515 - val_loss: 1.7341\n",
            "Epoch 111/400\n",
            "\u001b[1m359/359\u001b[0m \u001b[32m━━━━━━━━━━━━━━━━━━━━\u001b[0m\u001b[37m\u001b[0m \u001b[1m9s\u001b[0m 25ms/step - accuracy: 0.8518 - loss: 0.3951 - val_accuracy: 0.5523 - val_loss: 1.7494\n",
            "Epoch 112/400\n",
            "\u001b[1m359/359\u001b[0m \u001b[32m━━━━━━━━━━━━━━━━━━━━\u001b[0m\u001b[37m\u001b[0m \u001b[1m9s\u001b[0m 25ms/step - accuracy: 0.8636 - loss: 0.3691 - val_accuracy: 0.5583 - val_loss: 1.7516\n",
            "Epoch 113/400\n",
            "\u001b[1m359/359\u001b[0m \u001b[32m━━━━━━━━━━━━━━━━━━━━\u001b[0m\u001b[37m\u001b[0m \u001b[1m9s\u001b[0m 26ms/step - accuracy: 0.8561 - loss: 0.3823 - val_accuracy: 0.5555 - val_loss: 1.6827\n",
            "Epoch 114/400\n",
            "\u001b[1m359/359\u001b[0m \u001b[32m━━━━━━━━━━━━━━━━━━━━\u001b[0m\u001b[37m\u001b[0m \u001b[1m9s\u001b[0m 25ms/step - accuracy: 0.8590 - loss: 0.3820 - val_accuracy: 0.5553 - val_loss: 1.7017\n",
            "Epoch 115/400\n",
            "\u001b[1m359/359\u001b[0m \u001b[32m━━━━━━━━━━━━━━━━━━━━\u001b[0m\u001b[37m\u001b[0m \u001b[1m9s\u001b[0m 25ms/step - accuracy: 0.8622 - loss: 0.3647 - val_accuracy: 0.5590 - val_loss: 1.7327\n",
            "Epoch 116/400\n",
            "\u001b[1m359/359\u001b[0m \u001b[32m━━━━━━━━━━━━━━━━━━━━\u001b[0m\u001b[37m\u001b[0m \u001b[1m10s\u001b[0m 29ms/step - accuracy: 0.8547 - loss: 0.3906 - val_accuracy: 0.5546 - val_loss: 1.7141\n",
            "Epoch 117/400\n",
            "\u001b[1m359/359\u001b[0m \u001b[32m━━━━━━━━━━━━━━━━━━━━\u001b[0m\u001b[37m\u001b[0m \u001b[1m9s\u001b[0m 25ms/step - accuracy: 0.8629 - loss: 0.3743 - val_accuracy: 0.5588 - val_loss: 1.7293\n",
            "Epoch 118/400\n",
            "\u001b[1m359/359\u001b[0m \u001b[32m━━━━━━━━━━━━━━━━━━━━\u001b[0m\u001b[37m\u001b[0m \u001b[1m9s\u001b[0m 25ms/step - accuracy: 0.8598 - loss: 0.3737 - val_accuracy: 0.5553 - val_loss: 1.7423\n",
            "Epoch 119/400\n",
            "\u001b[1m359/359\u001b[0m \u001b[32m━━━━━━━━━━━━━━━━━━━━\u001b[0m\u001b[37m\u001b[0m \u001b[1m9s\u001b[0m 25ms/step - accuracy: 0.8602 - loss: 0.3673 - val_accuracy: 0.5555 - val_loss: 1.7401\n",
            "Epoch 120/400\n",
            "\u001b[1m359/359\u001b[0m \u001b[32m━━━━━━━━━━━━━━━━━━━━\u001b[0m\u001b[37m\u001b[0m \u001b[1m10s\u001b[0m 29ms/step - accuracy: 0.8620 - loss: 0.3684 - val_accuracy: 0.5581 - val_loss: 1.7114\n",
            "Epoch 121/400\n",
            "\u001b[1m359/359\u001b[0m \u001b[32m━━━━━━━━━━━━━━━━━━━━\u001b[0m\u001b[37m\u001b[0m \u001b[1m9s\u001b[0m 26ms/step - accuracy: 0.8588 - loss: 0.3667 - val_accuracy: 0.5558 - val_loss: 1.7975\n",
            "Epoch 122/400\n",
            "\u001b[1m359/359\u001b[0m \u001b[32m━━━━━━━━━━━━━━━━━━━━\u001b[0m\u001b[37m\u001b[0m \u001b[1m10s\u001b[0m 29ms/step - accuracy: 0.8583 - loss: 0.3696 - val_accuracy: 0.5508 - val_loss: 1.7830\n",
            "Epoch 123/400\n",
            "\u001b[1m359/359\u001b[0m \u001b[32m━━━━━━━━━━━━━━━━━━━━\u001b[0m\u001b[37m\u001b[0m \u001b[1m10s\u001b[0m 27ms/step - accuracy: 0.8650 - loss: 0.3644 - val_accuracy: 0.5506 - val_loss: 1.7727\n",
            "Epoch 124/400\n",
            "\u001b[1m359/359\u001b[0m \u001b[32m━━━━━━━━━━━━━━━━━━━━\u001b[0m\u001b[37m\u001b[0m \u001b[1m10s\u001b[0m 27ms/step - accuracy: 0.8627 - loss: 0.3624 - val_accuracy: 0.5576 - val_loss: 1.7754\n",
            "Epoch 125/400\n",
            "\u001b[1m359/359\u001b[0m \u001b[32m━━━━━━━━━━━━━━━━━━━━\u001b[0m\u001b[37m\u001b[0m \u001b[1m9s\u001b[0m 25ms/step - accuracy: 0.8585 - loss: 0.3726 - val_accuracy: 0.5567 - val_loss: 1.7485\n",
            "Epoch 126/400\n",
            "\u001b[1m359/359\u001b[0m \u001b[32m━━━━━━━━━━━━━━━━━━━━\u001b[0m\u001b[37m\u001b[0m \u001b[1m11s\u001b[0m 25ms/step - accuracy: 0.8629 - loss: 0.3634 - val_accuracy: 0.5626 - val_loss: 1.7507\n",
            "Epoch 127/400\n",
            "\u001b[1m359/359\u001b[0m \u001b[32m━━━━━━━━━━━━━━━━━━━━\u001b[0m\u001b[37m\u001b[0m \u001b[1m9s\u001b[0m 26ms/step - accuracy: 0.8661 - loss: 0.3643 - val_accuracy: 0.5579 - val_loss: 1.7594\n",
            "Epoch 128/400\n",
            "\u001b[1m359/359\u001b[0m \u001b[32m━━━━━━━━━━━━━━━━━━━━\u001b[0m\u001b[37m\u001b[0m \u001b[1m10s\u001b[0m 27ms/step - accuracy: 0.8694 - loss: 0.3516 - val_accuracy: 0.5584 - val_loss: 1.7177\n",
            "Epoch 129/400\n",
            "\u001b[1m359/359\u001b[0m \u001b[32m━━━━━━━━━━━━━━━━━━━━\u001b[0m\u001b[37m\u001b[0m \u001b[1m10s\u001b[0m 27ms/step - accuracy: 0.8631 - loss: 0.3658 - val_accuracy: 0.5508 - val_loss: 1.7588\n",
            "Epoch 130/400\n",
            "\u001b[1m359/359\u001b[0m \u001b[32m━━━━━━━━━━━━━━━━━━━━\u001b[0m\u001b[37m\u001b[0m \u001b[1m10s\u001b[0m 27ms/step - accuracy: 0.8589 - loss: 0.3711 - val_accuracy: 0.5558 - val_loss: 1.7713\n",
            "Epoch 131/400\n",
            "\u001b[1m359/359\u001b[0m \u001b[32m━━━━━━━━━━━━━━━━━━━━\u001b[0m\u001b[37m\u001b[0m \u001b[1m10s\u001b[0m 28ms/step - accuracy: 0.8625 - loss: 0.3683 - val_accuracy: 0.5496 - val_loss: 1.6981\n",
            "Epoch 132/400\n",
            "\u001b[1m359/359\u001b[0m \u001b[32m━━━━━━━━━━━━━━━━━━━━\u001b[0m\u001b[37m\u001b[0m \u001b[1m9s\u001b[0m 26ms/step - accuracy: 0.8612 - loss: 0.3692 - val_accuracy: 0.5511 - val_loss: 1.7320\n",
            "Epoch 133/400\n",
            "\u001b[1m359/359\u001b[0m \u001b[32m━━━━━━━━━━━━━━━━━━━━\u001b[0m\u001b[37m\u001b[0m \u001b[1m9s\u001b[0m 26ms/step - accuracy: 0.8604 - loss: 0.3676 - val_accuracy: 0.5553 - val_loss: 1.7335\n",
            "Epoch 134/400\n",
            "\u001b[1m359/359\u001b[0m \u001b[32m━━━━━━━━━━━━━━━━━━━━\u001b[0m\u001b[37m\u001b[0m \u001b[1m9s\u001b[0m 24ms/step - accuracy: 0.8666 - loss: 0.3574 - val_accuracy: 0.5586 - val_loss: 1.8039\n",
            "Epoch 135/400\n",
            "\u001b[1m359/359\u001b[0m \u001b[32m━━━━━━━━━━━━━━━━━━━━\u001b[0m\u001b[37m\u001b[0m \u001b[1m9s\u001b[0m 26ms/step - accuracy: 0.8638 - loss: 0.3575 - val_accuracy: 0.5513 - val_loss: 1.7633\n",
            "Epoch 136/400\n",
            "\u001b[1m359/359\u001b[0m \u001b[32m━━━━━━━━━━━━━━━━━━━━\u001b[0m\u001b[37m\u001b[0m \u001b[1m10s\u001b[0m 28ms/step - accuracy: 0.8683 - loss: 0.3576 - val_accuracy: 0.5506 - val_loss: 1.7156\n",
            "Epoch 137/400\n",
            "\u001b[1m359/359\u001b[0m \u001b[32m━━━━━━━━━━━━━━━━━━━━\u001b[0m\u001b[37m\u001b[0m \u001b[1m10s\u001b[0m 28ms/step - accuracy: 0.8627 - loss: 0.3632 - val_accuracy: 0.5551 - val_loss: 1.7427\n",
            "Epoch 138/400\n",
            "\u001b[1m359/359\u001b[0m \u001b[32m━━━━━━━━━━━━━━━━━━━━\u001b[0m\u001b[37m\u001b[0m \u001b[1m9s\u001b[0m 25ms/step - accuracy: 0.8677 - loss: 0.3494 - val_accuracy: 0.5579 - val_loss: 1.7441\n",
            "Epoch 139/400\n",
            "\u001b[1m359/359\u001b[0m \u001b[32m━━━━━━━━━━━━━━━━━━━━\u001b[0m\u001b[37m\u001b[0m \u001b[1m9s\u001b[0m 25ms/step - accuracy: 0.8658 - loss: 0.3678 - val_accuracy: 0.5565 - val_loss: 1.7259\n",
            "Epoch 140/400\n",
            "\u001b[1m359/359\u001b[0m \u001b[32m━━━━━━━━━━━━━━━━━━━━\u001b[0m\u001b[37m\u001b[0m \u001b[1m10s\u001b[0m 28ms/step - accuracy: 0.8676 - loss: 0.3648 - val_accuracy: 0.5597 - val_loss: 1.7377\n",
            "Epoch 141/400\n",
            "\u001b[1m359/359\u001b[0m \u001b[32m━━━━━━━━━━━━━━━━━━━━\u001b[0m\u001b[37m\u001b[0m \u001b[1m9s\u001b[0m 25ms/step - accuracy: 0.8669 - loss: 0.3611 - val_accuracy: 0.5553 - val_loss: 1.8189\n",
            "Epoch 142/400\n",
            "\u001b[1m359/359\u001b[0m \u001b[32m━━━━━━━━━━━━━━━━━━━━\u001b[0m\u001b[37m\u001b[0m \u001b[1m9s\u001b[0m 25ms/step - accuracy: 0.8648 - loss: 0.3616 - val_accuracy: 0.5567 - val_loss: 1.7472\n",
            "Epoch 143/400\n",
            "\u001b[1m359/359\u001b[0m \u001b[32m━━━━━━━━━━━━━━━━━━━━\u001b[0m\u001b[37m\u001b[0m \u001b[1m9s\u001b[0m 25ms/step - accuracy: 0.8681 - loss: 0.3588 - val_accuracy: 0.5577 - val_loss: 1.7499\n",
            "Epoch 144/400\n",
            "\u001b[1m359/359\u001b[0m \u001b[32m━━━━━━━━━━━━━━━━━━━━\u001b[0m\u001b[37m\u001b[0m \u001b[1m9s\u001b[0m 25ms/step - accuracy: 0.8663 - loss: 0.3503 - val_accuracy: 0.5567 - val_loss: 1.7569\n",
            "Epoch 145/400\n",
            "\u001b[1m359/359\u001b[0m \u001b[32m━━━━━━━━━━━━━━━━━━━━\u001b[0m\u001b[37m\u001b[0m \u001b[1m9s\u001b[0m 25ms/step - accuracy: 0.8565 - loss: 0.3744 - val_accuracy: 0.5511 - val_loss: 1.7721\n",
            "Epoch 146/400\n",
            "\u001b[1m359/359\u001b[0m \u001b[32m━━━━━━━━━━━━━━━━━━━━\u001b[0m\u001b[37m\u001b[0m \u001b[1m9s\u001b[0m 25ms/step - accuracy: 0.8640 - loss: 0.3606 - val_accuracy: 0.5543 - val_loss: 1.7148\n",
            "Epoch 147/400\n",
            "\u001b[1m359/359\u001b[0m \u001b[32m━━━━━━━━━━━━━━━━━━━━\u001b[0m\u001b[37m\u001b[0m \u001b[1m10s\u001b[0m 28ms/step - accuracy: 0.8664 - loss: 0.3656 - val_accuracy: 0.5574 - val_loss: 1.7715\n",
            "Epoch 148/400\n",
            "\u001b[1m359/359\u001b[0m \u001b[32m━━━━━━━━━━━━━━━━━━━━\u001b[0m\u001b[37m\u001b[0m \u001b[1m10s\u001b[0m 28ms/step - accuracy: 0.8714 - loss: 0.3510 - val_accuracy: 0.5523 - val_loss: 1.7795\n",
            "Epoch 149/400\n",
            "\u001b[1m359/359\u001b[0m \u001b[32m━━━━━━━━━━━━━━━━━━━━\u001b[0m\u001b[37m\u001b[0m \u001b[1m9s\u001b[0m 25ms/step - accuracy: 0.8676 - loss: 0.3565 - val_accuracy: 0.5550 - val_loss: 1.7677\n",
            "Epoch 150/400\n",
            "\u001b[1m359/359\u001b[0m \u001b[32m━━━━━━━━━━━━━━━━━━━━\u001b[0m\u001b[37m\u001b[0m \u001b[1m9s\u001b[0m 25ms/step - accuracy: 0.8653 - loss: 0.3523 - val_accuracy: 0.5593 - val_loss: 1.7733\n",
            "Epoch 151/400\n",
            "\u001b[1m359/359\u001b[0m \u001b[32m━━━━━━━━━━━━━━━━━━━━\u001b[0m\u001b[37m\u001b[0m \u001b[1m9s\u001b[0m 24ms/step - accuracy: 0.8686 - loss: 0.3595 - val_accuracy: 0.5525 - val_loss: 1.8031\n",
            "Epoch 152/400\n",
            "\u001b[1m359/359\u001b[0m \u001b[32m━━━━━━━━━━━━━━━━━━━━\u001b[0m\u001b[37m\u001b[0m \u001b[1m11s\u001b[0m 27ms/step - accuracy: 0.8698 - loss: 0.3489 - val_accuracy: 0.5548 - val_loss: 1.7400\n",
            "Epoch 153/400\n",
            "\u001b[1m359/359\u001b[0m \u001b[32m━━━━━━━━━━━━━━━━━━━━\u001b[0m\u001b[37m\u001b[0m \u001b[1m11s\u001b[0m 31ms/step - accuracy: 0.8708 - loss: 0.3455 - val_accuracy: 0.5570 - val_loss: 1.8138\n",
            "Epoch 154/400\n",
            "\u001b[1m359/359\u001b[0m \u001b[32m━━━━━━━━━━━━━━━━━━━━\u001b[0m\u001b[37m\u001b[0m \u001b[1m9s\u001b[0m 25ms/step - accuracy: 0.8669 - loss: 0.3478 - val_accuracy: 0.5560 - val_loss: 1.8040\n",
            "Epoch 155/400\n",
            "\u001b[1m359/359\u001b[0m \u001b[32m━━━━━━━━━━━━━━━━━━━━\u001b[0m\u001b[37m\u001b[0m \u001b[1m10s\u001b[0m 29ms/step - accuracy: 0.8733 - loss: 0.3414 - val_accuracy: 0.5553 - val_loss: 1.7256\n",
            "Epoch 156/400\n",
            "\u001b[1m359/359\u001b[0m \u001b[32m━━━━━━━━━━━━━━━━━━━━\u001b[0m\u001b[37m\u001b[0m \u001b[1m10s\u001b[0m 27ms/step - accuracy: 0.8724 - loss: 0.3496 - val_accuracy: 0.5536 - val_loss: 1.7855\n",
            "Epoch 157/400\n",
            "\u001b[1m359/359\u001b[0m \u001b[32m━━━━━━━━━━━━━━━━━━━━\u001b[0m\u001b[37m\u001b[0m \u001b[1m10s\u001b[0m 27ms/step - accuracy: 0.8705 - loss: 0.3449 - val_accuracy: 0.5569 - val_loss: 1.7436\n",
            "Epoch 158/400\n",
            "\u001b[1m359/359\u001b[0m \u001b[32m━━━━━━━━━━━━━━━━━━━━\u001b[0m\u001b[37m\u001b[0m \u001b[1m10s\u001b[0m 28ms/step - accuracy: 0.8735 - loss: 0.3322 - val_accuracy: 0.5595 - val_loss: 1.7328\n",
            "Epoch 159/400\n",
            "\u001b[1m359/359\u001b[0m \u001b[32m━━━━━━━━━━━━━━━━━━━━\u001b[0m\u001b[37m\u001b[0m \u001b[1m9s\u001b[0m 26ms/step - accuracy: 0.8738 - loss: 0.3285 - val_accuracy: 0.5595 - val_loss: 1.7688\n",
            "Epoch 160/400\n",
            "\u001b[1m359/359\u001b[0m \u001b[32m━━━━━━━━━━━━━━━━━━━━\u001b[0m\u001b[37m\u001b[0m \u001b[1m9s\u001b[0m 25ms/step - accuracy: 0.8687 - loss: 0.3477 - val_accuracy: 0.5595 - val_loss: 1.7433\n",
            "Epoch 161/400\n",
            "\u001b[1m359/359\u001b[0m \u001b[32m━━━━━━━━━━━━━━━━━━━━\u001b[0m\u001b[37m\u001b[0m \u001b[1m10s\u001b[0m 27ms/step - accuracy: 0.8694 - loss: 0.3492 - val_accuracy: 0.5590 - val_loss: 1.7682\n",
            "Epoch 162/400\n",
            "\u001b[1m359/359\u001b[0m \u001b[32m━━━━━━━━━━━━━━━━━━━━\u001b[0m\u001b[37m\u001b[0m \u001b[1m9s\u001b[0m 24ms/step - accuracy: 0.8663 - loss: 0.3554 - val_accuracy: 0.5550 - val_loss: 1.7425\n",
            "Epoch 163/400\n",
            "\u001b[1m359/359\u001b[0m \u001b[32m━━━━━━━━━━━━━━━━━━━━\u001b[0m\u001b[37m\u001b[0m \u001b[1m9s\u001b[0m 25ms/step - accuracy: 0.8782 - loss: 0.3276 - val_accuracy: 0.5558 - val_loss: 1.7184\n",
            "Epoch 164/400\n",
            "\u001b[1m359/359\u001b[0m \u001b[32m━━━━━━━━━━━━━━━━━━━━\u001b[0m\u001b[37m\u001b[0m \u001b[1m9s\u001b[0m 25ms/step - accuracy: 0.8705 - loss: 0.3385 - val_accuracy: 0.5530 - val_loss: 1.7898\n",
            "Epoch 165/400\n",
            "\u001b[1m359/359\u001b[0m \u001b[32m━━━━━━━━━━━━━━━━━━━━\u001b[0m\u001b[37m\u001b[0m \u001b[1m9s\u001b[0m 25ms/step - accuracy: 0.8767 - loss: 0.3395 - val_accuracy: 0.5530 - val_loss: 1.7231\n",
            "Epoch 166/400\n",
            "\u001b[1m359/359\u001b[0m \u001b[32m━━━━━━━━━━━━━━━━━━━━\u001b[0m\u001b[37m\u001b[0m \u001b[1m10s\u001b[0m 27ms/step - accuracy: 0.8699 - loss: 0.3434 - val_accuracy: 0.5560 - val_loss: 1.8012\n",
            "Epoch 167/400\n",
            "\u001b[1m359/359\u001b[0m \u001b[32m━━━━━━━━━━━━━━━━━━━━\u001b[0m\u001b[37m\u001b[0m \u001b[1m9s\u001b[0m 25ms/step - accuracy: 0.8719 - loss: 0.3475 - val_accuracy: 0.5553 - val_loss: 1.8508\n",
            "Epoch 168/400\n",
            "\u001b[1m359/359\u001b[0m \u001b[32m━━━━━━━━━━━━━━━━━━━━\u001b[0m\u001b[37m\u001b[0m \u001b[1m9s\u001b[0m 26ms/step - accuracy: 0.8726 - loss: 0.3386 - val_accuracy: 0.5604 - val_loss: 1.8021\n",
            "Epoch 169/400\n",
            "\u001b[1m359/359\u001b[0m \u001b[32m━━━━━━━━━━━━━━━━━━━━\u001b[0m\u001b[37m\u001b[0m \u001b[1m9s\u001b[0m 25ms/step - accuracy: 0.8729 - loss: 0.3380 - val_accuracy: 0.5576 - val_loss: 1.7928\n",
            "Epoch 170/400\n",
            "\u001b[1m359/359\u001b[0m \u001b[32m━━━━━━━━━━━━━━━━━━━━\u001b[0m\u001b[37m\u001b[0m \u001b[1m10s\u001b[0m 27ms/step - accuracy: 0.8735 - loss: 0.3330 - val_accuracy: 0.5574 - val_loss: 1.7481\n",
            "Epoch 171/400\n",
            "\u001b[1m359/359\u001b[0m \u001b[32m━━━━━━━━━━━━━━━━━━━━\u001b[0m\u001b[37m\u001b[0m \u001b[1m9s\u001b[0m 26ms/step - accuracy: 0.8728 - loss: 0.3371 - val_accuracy: 0.5525 - val_loss: 1.7068\n",
            "Epoch 172/400\n",
            "\u001b[1m359/359\u001b[0m \u001b[32m━━━━━━━━━━━━━━━━━━━━\u001b[0m\u001b[37m\u001b[0m \u001b[1m9s\u001b[0m 26ms/step - accuracy: 0.8785 - loss: 0.3320 - val_accuracy: 0.5584 - val_loss: 1.8159\n",
            "Epoch 173/400\n",
            "\u001b[1m359/359\u001b[0m \u001b[32m━━━━━━━━━━━━━━━━━━━━\u001b[0m\u001b[37m\u001b[0m \u001b[1m9s\u001b[0m 26ms/step - accuracy: 0.8770 - loss: 0.3344 - val_accuracy: 0.5577 - val_loss: 1.8289\n",
            "Epoch 174/400\n",
            "\u001b[1m359/359\u001b[0m \u001b[32m━━━━━━━━━━━━━━━━━━━━\u001b[0m\u001b[37m\u001b[0m \u001b[1m10s\u001b[0m 28ms/step - accuracy: 0.8750 - loss: 0.3359 - val_accuracy: 0.5513 - val_loss: 1.7322\n",
            "Epoch 175/400\n",
            "\u001b[1m359/359\u001b[0m \u001b[32m━━━━━━━━━━━━━━━━━━━━\u001b[0m\u001b[37m\u001b[0m \u001b[1m9s\u001b[0m 24ms/step - accuracy: 0.8785 - loss: 0.3285 - val_accuracy: 0.5572 - val_loss: 1.7677\n",
            "Epoch 176/400\n",
            "\u001b[1m359/359\u001b[0m \u001b[32m━━━━━━━━━━━━━━━━━━━━\u001b[0m\u001b[37m\u001b[0m \u001b[1m9s\u001b[0m 26ms/step - accuracy: 0.8804 - loss: 0.3208 - val_accuracy: 0.5553 - val_loss: 1.7769\n",
            "Epoch 177/400\n",
            "\u001b[1m359/359\u001b[0m \u001b[32m━━━━━━━━━━━━━━━━━━━━\u001b[0m\u001b[37m\u001b[0m \u001b[1m10s\u001b[0m 29ms/step - accuracy: 0.8724 - loss: 0.3436 - val_accuracy: 0.5541 - val_loss: 1.7463\n",
            "Epoch 178/400\n",
            "\u001b[1m359/359\u001b[0m \u001b[32m━━━━━━━━━━━━━━━━━━━━\u001b[0m\u001b[37m\u001b[0m \u001b[1m20s\u001b[0m 27ms/step - accuracy: 0.8736 - loss: 0.3422 - val_accuracy: 0.5569 - val_loss: 1.7847\n",
            "Epoch 179/400\n",
            "\u001b[1m359/359\u001b[0m \u001b[32m━━━━━━━━━━━━━━━━━━━━\u001b[0m\u001b[37m\u001b[0m \u001b[1m9s\u001b[0m 24ms/step - accuracy: 0.8742 - loss: 0.3329 - val_accuracy: 0.5541 - val_loss: 1.8109\n",
            "Epoch 180/400\n",
            "\u001b[1m359/359\u001b[0m \u001b[32m━━━━━━━━━━━━━━━━━━━━\u001b[0m\u001b[37m\u001b[0m \u001b[1m9s\u001b[0m 26ms/step - accuracy: 0.8738 - loss: 0.3419 - val_accuracy: 0.5525 - val_loss: 1.7738\n",
            "Epoch 181/400\n",
            "\u001b[1m359/359\u001b[0m \u001b[32m━━━━━━━━━━━━━━━━━━━━\u001b[0m\u001b[37m\u001b[0m \u001b[1m9s\u001b[0m 25ms/step - accuracy: 0.8741 - loss: 0.3342 - val_accuracy: 0.5581 - val_loss: 1.7500\n",
            "Epoch 182/400\n",
            "\u001b[1m359/359\u001b[0m \u001b[32m━━━━━━━━━━━━━━━━━━━━\u001b[0m\u001b[37m\u001b[0m \u001b[1m10s\u001b[0m 27ms/step - accuracy: 0.8789 - loss: 0.3208 - val_accuracy: 0.5553 - val_loss: 1.7908\n",
            "Epoch 183/400\n",
            "\u001b[1m359/359\u001b[0m \u001b[32m━━━━━━━━━━━━━━━━━━━━\u001b[0m\u001b[37m\u001b[0m \u001b[1m9s\u001b[0m 24ms/step - accuracy: 0.8737 - loss: 0.3328 - val_accuracy: 0.5543 - val_loss: 1.7444\n",
            "Epoch 184/400\n",
            "\u001b[1m359/359\u001b[0m \u001b[32m━━━━━━━━━━━━━━━━━━━━\u001b[0m\u001b[37m\u001b[0m \u001b[1m9s\u001b[0m 26ms/step - accuracy: 0.8817 - loss: 0.3280 - val_accuracy: 0.5508 - val_loss: 1.8015\n",
            "Epoch 185/400\n",
            "\u001b[1m359/359\u001b[0m \u001b[32m━━━━━━━━━━━━━━━━━━━━\u001b[0m\u001b[37m\u001b[0m \u001b[1m9s\u001b[0m 26ms/step - accuracy: 0.8759 - loss: 0.3305 - val_accuracy: 0.5522 - val_loss: 1.7691\n",
            "Epoch 186/400\n",
            "\u001b[1m359/359\u001b[0m \u001b[32m━━━━━━━━━━━━━━━━━━━━\u001b[0m\u001b[37m\u001b[0m \u001b[1m11s\u001b[0m 28ms/step - accuracy: 0.8753 - loss: 0.3318 - val_accuracy: 0.5536 - val_loss: 1.7937\n",
            "Epoch 187/400\n",
            "\u001b[1m359/359\u001b[0m \u001b[32m━━━━━━━━━━━━━━━━━━━━\u001b[0m\u001b[37m\u001b[0m \u001b[1m10s\u001b[0m 27ms/step - accuracy: 0.8754 - loss: 0.3330 - val_accuracy: 0.5562 - val_loss: 1.8154\n",
            "Epoch 188/400\n",
            "\u001b[1m359/359\u001b[0m \u001b[32m━━━━━━━━━━━━━━━━━━━━\u001b[0m\u001b[37m\u001b[0m \u001b[1m9s\u001b[0m 25ms/step - accuracy: 0.8795 - loss: 0.3273 - val_accuracy: 0.5588 - val_loss: 1.7796\n",
            "Epoch 189/400\n",
            "\u001b[1m359/359\u001b[0m \u001b[32m━━━━━━━━━━━━━━━━━━━━\u001b[0m\u001b[37m\u001b[0m \u001b[1m9s\u001b[0m 26ms/step - accuracy: 0.8786 - loss: 0.3284 - val_accuracy: 0.5590 - val_loss: 1.7854\n",
            "Epoch 190/400\n",
            "\u001b[1m359/359\u001b[0m \u001b[32m━━━━━━━━━━━━━━━━━━━━\u001b[0m\u001b[37m\u001b[0m \u001b[1m9s\u001b[0m 25ms/step - accuracy: 0.8754 - loss: 0.3306 - val_accuracy: 0.5612 - val_loss: 1.8008\n",
            "Epoch 191/400\n",
            "\u001b[1m359/359\u001b[0m \u001b[32m━━━━━━━━━━━━━━━━━━━━\u001b[0m\u001b[37m\u001b[0m \u001b[1m10s\u001b[0m 27ms/step - accuracy: 0.8716 - loss: 0.3423 - val_accuracy: 0.5595 - val_loss: 1.7898\n",
            "Epoch 192/400\n",
            "\u001b[1m359/359\u001b[0m \u001b[32m━━━━━━━━━━━━━━━━━━━━\u001b[0m\u001b[37m\u001b[0m \u001b[1m10s\u001b[0m 28ms/step - accuracy: 0.8781 - loss: 0.3203 - val_accuracy: 0.5563 - val_loss: 1.7654\n",
            "Epoch 193/400\n",
            "\u001b[1m359/359\u001b[0m \u001b[32m━━━━━━━━━━━━━━━━━━━━\u001b[0m\u001b[37m\u001b[0m \u001b[1m9s\u001b[0m 25ms/step - accuracy: 0.8801 - loss: 0.3348 - val_accuracy: 0.5574 - val_loss: 1.8037\n",
            "Epoch 194/400\n",
            "\u001b[1m359/359\u001b[0m \u001b[32m━━━━━━━━━━━━━━━━━━━━\u001b[0m\u001b[37m\u001b[0m \u001b[1m10s\u001b[0m 29ms/step - accuracy: 0.8732 - loss: 0.3390 - val_accuracy: 0.5598 - val_loss: 1.8024\n",
            "Epoch 195/400\n",
            "\u001b[1m359/359\u001b[0m \u001b[32m━━━━━━━━━━━━━━━━━━━━\u001b[0m\u001b[37m\u001b[0m \u001b[1m10s\u001b[0m 27ms/step - accuracy: 0.8840 - loss: 0.3146 - val_accuracy: 0.5537 - val_loss: 1.8379\n",
            "Epoch 196/400\n",
            "\u001b[1m359/359\u001b[0m \u001b[32m━━━━━━━━━━━━━━━━━━━━\u001b[0m\u001b[37m\u001b[0m \u001b[1m10s\u001b[0m 27ms/step - accuracy: 0.8802 - loss: 0.3285 - val_accuracy: 0.5541 - val_loss: 1.7623\n",
            "Epoch 197/400\n",
            "\u001b[1m359/359\u001b[0m \u001b[32m━━━━━━━━━━━━━━━━━━━━\u001b[0m\u001b[37m\u001b[0m \u001b[1m9s\u001b[0m 24ms/step - accuracy: 0.8782 - loss: 0.3260 - val_accuracy: 0.5616 - val_loss: 1.7997\n",
            "Epoch 198/400\n",
            "\u001b[1m359/359\u001b[0m \u001b[32m━━━━━━━━━━━━━━━━━━━━\u001b[0m\u001b[37m\u001b[0m \u001b[1m10s\u001b[0m 29ms/step - accuracy: 0.8782 - loss: 0.3319 - val_accuracy: 0.5551 - val_loss: 1.7571\n",
            "Epoch 199/400\n",
            "\u001b[1m359/359\u001b[0m \u001b[32m━━━━━━━━━━━━━━━━━━━━\u001b[0m\u001b[37m\u001b[0m \u001b[1m9s\u001b[0m 26ms/step - accuracy: 0.8800 - loss: 0.3241 - val_accuracy: 0.5576 - val_loss: 1.8199\n",
            "Epoch 200/400\n",
            "\u001b[1m359/359\u001b[0m \u001b[32m━━━━━━━━━━━━━━━━━━━━\u001b[0m\u001b[37m\u001b[0m \u001b[1m10s\u001b[0m 26ms/step - accuracy: 0.8781 - loss: 0.3194 - val_accuracy: 0.5550 - val_loss: 1.8448\n",
            "Epoch 201/400\n",
            "\u001b[1m359/359\u001b[0m \u001b[32m━━━━━━━━━━━━━━━━━━━━\u001b[0m\u001b[37m\u001b[0m \u001b[1m10s\u001b[0m 27ms/step - accuracy: 0.8837 - loss: 0.3230 - val_accuracy: 0.5619 - val_loss: 1.8150\n",
            "Epoch 202/400\n",
            "\u001b[1m359/359\u001b[0m \u001b[32m━━━━━━━━━━━━━━━━━━━━\u001b[0m\u001b[37m\u001b[0m \u001b[1m10s\u001b[0m 27ms/step - accuracy: 0.8797 - loss: 0.3200 - val_accuracy: 0.5586 - val_loss: 1.8897\n",
            "Epoch 203/400\n",
            "\u001b[1m359/359\u001b[0m \u001b[32m━━━━━━━━━━━━━━━━━━━━\u001b[0m\u001b[37m\u001b[0m \u001b[1m9s\u001b[0m 26ms/step - accuracy: 0.8841 - loss: 0.3213 - val_accuracy: 0.5553 - val_loss: 1.8192\n",
            "Epoch 204/400\n",
            "\u001b[1m359/359\u001b[0m \u001b[32m━━━━━━━━━━━━━━━━━━━━\u001b[0m\u001b[37m\u001b[0m \u001b[1m11s\u001b[0m 30ms/step - accuracy: 0.8840 - loss: 0.3248 - val_accuracy: 0.5604 - val_loss: 1.8428\n",
            "Epoch 205/400\n",
            "\u001b[1m359/359\u001b[0m \u001b[32m━━━━━━━━━━━━━━━━━━━━\u001b[0m\u001b[37m\u001b[0m \u001b[1m10s\u001b[0m 29ms/step - accuracy: 0.8854 - loss: 0.3196 - val_accuracy: 0.5525 - val_loss: 1.8260\n",
            "Epoch 206/400\n",
            "\u001b[1m359/359\u001b[0m \u001b[32m━━━━━━━━━━━━━━━━━━━━\u001b[0m\u001b[37m\u001b[0m \u001b[1m9s\u001b[0m 25ms/step - accuracy: 0.8771 - loss: 0.3277 - val_accuracy: 0.5586 - val_loss: 1.8234\n",
            "Epoch 207/400\n",
            "\u001b[1m359/359\u001b[0m \u001b[32m━━━━━━━━━━━━━━━━━━━━\u001b[0m\u001b[37m\u001b[0m \u001b[1m10s\u001b[0m 24ms/step - accuracy: 0.8797 - loss: 0.3230 - val_accuracy: 0.5537 - val_loss: 1.7971\n",
            "Epoch 208/400\n",
            "\u001b[1m359/359\u001b[0m \u001b[32m━━━━━━━━━━━━━━━━━━━━\u001b[0m\u001b[37m\u001b[0m \u001b[1m10s\u001b[0m 27ms/step - accuracy: 0.8807 - loss: 0.3162 - val_accuracy: 0.5576 - val_loss: 1.8259\n",
            "Epoch 209/400\n",
            "\u001b[1m359/359\u001b[0m \u001b[32m━━━━━━━━━━━━━━━━━━━━\u001b[0m\u001b[37m\u001b[0m \u001b[1m10s\u001b[0m 26ms/step - accuracy: 0.8845 - loss: 0.3167 - val_accuracy: 0.5616 - val_loss: 1.8560\n",
            "Epoch 210/400\n",
            "\u001b[1m359/359\u001b[0m \u001b[32m━━━━━━━━━━━━━━━━━━━━\u001b[0m\u001b[37m\u001b[0m \u001b[1m9s\u001b[0m 26ms/step - accuracy: 0.8872 - loss: 0.3127 - val_accuracy: 0.5543 - val_loss: 1.8834\n",
            "Epoch 211/400\n",
            "\u001b[1m359/359\u001b[0m \u001b[32m━━━━━━━━━━━━━━━━━━━━\u001b[0m\u001b[37m\u001b[0m \u001b[1m9s\u001b[0m 25ms/step - accuracy: 0.8814 - loss: 0.3207 - val_accuracy: 0.5544 - val_loss: 1.8016\n",
            "Epoch 212/400\n",
            "\u001b[1m359/359\u001b[0m \u001b[32m━━━━━━━━━━━━━━━━━━━━\u001b[0m\u001b[37m\u001b[0m \u001b[1m9s\u001b[0m 26ms/step - accuracy: 0.8825 - loss: 0.3179 - val_accuracy: 0.5504 - val_loss: 1.8177\n",
            "Epoch 213/400\n",
            "\u001b[1m359/359\u001b[0m \u001b[32m━━━━━━━━━━━━━━━━━━━━\u001b[0m\u001b[37m\u001b[0m \u001b[1m9s\u001b[0m 25ms/step - accuracy: 0.8869 - loss: 0.3063 - val_accuracy: 0.5567 - val_loss: 1.8041\n",
            "Epoch 214/400\n",
            "\u001b[1m359/359\u001b[0m \u001b[32m━━━━━━━━━━━━━━━━━━━━\u001b[0m\u001b[37m\u001b[0m \u001b[1m10s\u001b[0m 29ms/step - accuracy: 0.8759 - loss: 0.3272 - val_accuracy: 0.5504 - val_loss: 1.8139\n",
            "Epoch 215/400\n",
            "\u001b[1m359/359\u001b[0m \u001b[32m━━━━━━━━━━━━━━━━━━━━\u001b[0m\u001b[37m\u001b[0m \u001b[1m9s\u001b[0m 26ms/step - accuracy: 0.8822 - loss: 0.3196 - val_accuracy: 0.5563 - val_loss: 1.8090\n",
            "Epoch 216/400\n",
            "\u001b[1m359/359\u001b[0m \u001b[32m━━━━━━━━━━━━━━━━━━━━\u001b[0m\u001b[37m\u001b[0m \u001b[1m10s\u001b[0m 27ms/step - accuracy: 0.8796 - loss: 0.3275 - val_accuracy: 0.5522 - val_loss: 1.8030\n",
            "Epoch 217/400\n",
            "\u001b[1m359/359\u001b[0m \u001b[32m━━━━━━━━━━━━━━━━━━━━\u001b[0m\u001b[37m\u001b[0m \u001b[1m11s\u001b[0m 29ms/step - accuracy: 0.8777 - loss: 0.3263 - val_accuracy: 0.5558 - val_loss: 1.7704\n",
            "Epoch 218/400\n",
            "\u001b[1m359/359\u001b[0m \u001b[32m━━━━━━━━━━━━━━━━━━━━\u001b[0m\u001b[37m\u001b[0m \u001b[1m10s\u001b[0m 29ms/step - accuracy: 0.8784 - loss: 0.3245 - val_accuracy: 0.5560 - val_loss: 1.7893\n",
            "Epoch 219/400\n",
            "\u001b[1m359/359\u001b[0m \u001b[32m━━━━━━━━━━━━━━━━━━━━\u001b[0m\u001b[37m\u001b[0m \u001b[1m10s\u001b[0m 29ms/step - accuracy: 0.8851 - loss: 0.3154 - val_accuracy: 0.5553 - val_loss: 1.7778\n",
            "Epoch 220/400\n",
            "\u001b[1m359/359\u001b[0m \u001b[32m━━━━━━━━━━━━━━━━━━━━\u001b[0m\u001b[37m\u001b[0m \u001b[1m10s\u001b[0m 29ms/step - accuracy: 0.8831 - loss: 0.3178 - val_accuracy: 0.5588 - val_loss: 1.8412\n",
            "Epoch 221/400\n",
            "\u001b[1m359/359\u001b[0m \u001b[32m━━━━━━━━━━━━━━━━━━━━\u001b[0m\u001b[37m\u001b[0m \u001b[1m19s\u001b[0m 24ms/step - accuracy: 0.8829 - loss: 0.3106 - val_accuracy: 0.5569 - val_loss: 1.8305\n",
            "Epoch 222/400\n",
            "\u001b[1m359/359\u001b[0m \u001b[32m━━━━━━━━━━━━━━━━━━━━\u001b[0m\u001b[37m\u001b[0m \u001b[1m9s\u001b[0m 26ms/step - accuracy: 0.8838 - loss: 0.3190 - val_accuracy: 0.5619 - val_loss: 1.8093\n",
            "Epoch 223/400\n",
            "\u001b[1m359/359\u001b[0m \u001b[32m━━━━━━━━━━━━━━━━━━━━\u001b[0m\u001b[37m\u001b[0m \u001b[1m9s\u001b[0m 26ms/step - accuracy: 0.8837 - loss: 0.3076 - val_accuracy: 0.5558 - val_loss: 1.9130\n",
            "Epoch 224/400\n",
            "\u001b[1m359/359\u001b[0m \u001b[32m━━━━━━━━━━━━━━━━━━━━\u001b[0m\u001b[37m\u001b[0m \u001b[1m10s\u001b[0m 28ms/step - accuracy: 0.8810 - loss: 0.3218 - val_accuracy: 0.5590 - val_loss: 1.8607\n",
            "Epoch 225/400\n",
            "\u001b[1m359/359\u001b[0m \u001b[32m━━━━━━━━━━━━━━━━━━━━\u001b[0m\u001b[37m\u001b[0m \u001b[1m9s\u001b[0m 24ms/step - accuracy: 0.8856 - loss: 0.3045 - val_accuracy: 0.5537 - val_loss: 1.8196\n",
            "Epoch 226/400\n",
            "\u001b[1m359/359\u001b[0m \u001b[32m━━━━━━━━━━━━━━━━━━━━\u001b[0m\u001b[37m\u001b[0m \u001b[1m10s\u001b[0m 29ms/step - accuracy: 0.8807 - loss: 0.3209 - val_accuracy: 0.5600 - val_loss: 1.8324\n",
            "Epoch 227/400\n",
            "\u001b[1m359/359\u001b[0m \u001b[32m━━━━━━━━━━━━━━━━━━━━\u001b[0m\u001b[37m\u001b[0m \u001b[1m9s\u001b[0m 26ms/step - accuracy: 0.8828 - loss: 0.3181 - val_accuracy: 0.5595 - val_loss: 1.8306\n",
            "Epoch 228/400\n",
            "\u001b[1m359/359\u001b[0m \u001b[32m━━━━━━━━━━━━━━━━━━━━\u001b[0m\u001b[37m\u001b[0m \u001b[1m11s\u001b[0m 29ms/step - accuracy: 0.8896 - loss: 0.2957 - val_accuracy: 0.5567 - val_loss: 1.8322\n",
            "Epoch 229/400\n",
            "\u001b[1m359/359\u001b[0m \u001b[32m━━━━━━━━━━━━━━━━━━━━\u001b[0m\u001b[37m\u001b[0m \u001b[1m10s\u001b[0m 28ms/step - accuracy: 0.8825 - loss: 0.3101 - val_accuracy: 0.5563 - val_loss: 1.8280\n",
            "Epoch 230/400\n",
            "\u001b[1m359/359\u001b[0m \u001b[32m━━━━━━━━━━━━━━━━━━━━\u001b[0m\u001b[37m\u001b[0m \u001b[1m10s\u001b[0m 27ms/step - accuracy: 0.8816 - loss: 0.3153 - val_accuracy: 0.5609 - val_loss: 1.8534\n",
            "Epoch 231/400\n",
            "\u001b[1m359/359\u001b[0m \u001b[32m━━━━━━━━━━━━━━━━━━━━\u001b[0m\u001b[37m\u001b[0m \u001b[1m9s\u001b[0m 25ms/step - accuracy: 0.8829 - loss: 0.3118 - val_accuracy: 0.5576 - val_loss: 1.9094\n",
            "Epoch 232/400\n",
            "\u001b[1m359/359\u001b[0m \u001b[32m━━━━━━━━━━━━━━━━━━━━\u001b[0m\u001b[37m\u001b[0m \u001b[1m11s\u001b[0m 29ms/step - accuracy: 0.8835 - loss: 0.3157 - val_accuracy: 0.5590 - val_loss: 1.8524\n",
            "Epoch 233/400\n",
            "\u001b[1m359/359\u001b[0m \u001b[32m━━━━━━━━━━━━━━━━━━━━\u001b[0m\u001b[37m\u001b[0m \u001b[1m19s\u001b[0m 26ms/step - accuracy: 0.8881 - loss: 0.3089 - val_accuracy: 0.5565 - val_loss: 1.8551\n",
            "Epoch 234/400\n",
            "\u001b[1m359/359\u001b[0m \u001b[32m━━━━━━━━━━━━━━━━━━━━\u001b[0m\u001b[37m\u001b[0m \u001b[1m10s\u001b[0m 27ms/step - accuracy: 0.8889 - loss: 0.3056 - val_accuracy: 0.5544 - val_loss: 1.8527\n",
            "Epoch 235/400\n",
            "\u001b[1m359/359\u001b[0m \u001b[32m━━━━━━━━━━━━━━━━━━━━\u001b[0m\u001b[37m\u001b[0m \u001b[1m11s\u001b[0m 29ms/step - accuracy: 0.8860 - loss: 0.3070 - val_accuracy: 0.5529 - val_loss: 1.7980\n",
            "Epoch 236/400\n",
            "\u001b[1m359/359\u001b[0m \u001b[32m━━━━━━━━━━━━━━━━━━━━\u001b[0m\u001b[37m\u001b[0m \u001b[1m19s\u001b[0m 26ms/step - accuracy: 0.8853 - loss: 0.3071 - val_accuracy: 0.5518 - val_loss: 1.8197\n",
            "Epoch 237/400\n",
            "\u001b[1m359/359\u001b[0m \u001b[32m━━━━━━━━━━━━━━━━━━━━\u001b[0m\u001b[37m\u001b[0m \u001b[1m11s\u001b[0m 29ms/step - accuracy: 0.8864 - loss: 0.2982 - val_accuracy: 0.5597 - val_loss: 1.8833\n",
            "Epoch 238/400\n",
            "\u001b[1m359/359\u001b[0m \u001b[32m━━━━━━━━━━━━━━━━━━━━\u001b[0m\u001b[37m\u001b[0m \u001b[1m9s\u001b[0m 26ms/step - accuracy: 0.8840 - loss: 0.3111 - val_accuracy: 0.5584 - val_loss: 1.8376\n",
            "Epoch 239/400\n",
            "\u001b[1m359/359\u001b[0m \u001b[32m━━━━━━━━━━━━━━━━━━━━\u001b[0m\u001b[37m\u001b[0m \u001b[1m9s\u001b[0m 24ms/step - accuracy: 0.8869 - loss: 0.3029 - val_accuracy: 0.5548 - val_loss: 1.8394\n",
            "Epoch 240/400\n",
            "\u001b[1m359/359\u001b[0m \u001b[32m━━━━━━━━━━━━━━━━━━━━\u001b[0m\u001b[37m\u001b[0m \u001b[1m9s\u001b[0m 26ms/step - accuracy: 0.8914 - loss: 0.2938 - val_accuracy: 0.5611 - val_loss: 1.8588\n",
            "Epoch 241/400\n",
            "\u001b[1m359/359\u001b[0m \u001b[32m━━━━━━━━━━━━━━━━━━━━\u001b[0m\u001b[37m\u001b[0m \u001b[1m10s\u001b[0m 27ms/step - accuracy: 0.8908 - loss: 0.2933 - val_accuracy: 0.5530 - val_loss: 1.8317\n",
            "Epoch 242/400\n",
            "\u001b[1m359/359\u001b[0m \u001b[32m━━━━━━━━━━━━━━━━━━━━\u001b[0m\u001b[37m\u001b[0m \u001b[1m10s\u001b[0m 28ms/step - accuracy: 0.8860 - loss: 0.3115 - val_accuracy: 0.5567 - val_loss: 1.7973\n",
            "Epoch 243/400\n",
            "\u001b[1m359/359\u001b[0m \u001b[32m━━━━━━━━━━━━━━━━━━━━\u001b[0m\u001b[37m\u001b[0m \u001b[1m9s\u001b[0m 25ms/step - accuracy: 0.8872 - loss: 0.2981 - val_accuracy: 0.5586 - val_loss: 1.8489\n",
            "Epoch 244/400\n",
            "\u001b[1m359/359\u001b[0m \u001b[32m━━━━━━━━━━━━━━━━━━━━\u001b[0m\u001b[37m\u001b[0m \u001b[1m10s\u001b[0m 24ms/step - accuracy: 0.8875 - loss: 0.3043 - val_accuracy: 0.5563 - val_loss: 1.8158\n",
            "Epoch 245/400\n",
            "\u001b[1m359/359\u001b[0m \u001b[32m━━━━━━━━━━━━━━━━━━━━\u001b[0m\u001b[37m\u001b[0m \u001b[1m10s\u001b[0m 27ms/step - accuracy: 0.8891 - loss: 0.3036 - val_accuracy: 0.5541 - val_loss: 1.8617\n",
            "Epoch 246/400\n",
            "\u001b[1m359/359\u001b[0m \u001b[32m━━━━━━━━━━━━━━━━━━━━\u001b[0m\u001b[37m\u001b[0m \u001b[1m9s\u001b[0m 26ms/step - accuracy: 0.8846 - loss: 0.3174 - val_accuracy: 0.5593 - val_loss: 1.8162\n",
            "Epoch 247/400\n",
            "\u001b[1m359/359\u001b[0m \u001b[32m━━━━━━━━━━━━━━━━━━━━\u001b[0m\u001b[37m\u001b[0m \u001b[1m9s\u001b[0m 26ms/step - accuracy: 0.8876 - loss: 0.3013 - val_accuracy: 0.5553 - val_loss: 1.8482\n",
            "Epoch 248/400\n",
            "\u001b[1m359/359\u001b[0m \u001b[32m━━━━━━━━━━━━━━━━━━━━\u001b[0m\u001b[37m\u001b[0m \u001b[1m9s\u001b[0m 25ms/step - accuracy: 0.8886 - loss: 0.3037 - val_accuracy: 0.5541 - val_loss: 1.8501\n",
            "Epoch 249/400\n",
            "\u001b[1m359/359\u001b[0m \u001b[32m━━━━━━━━━━━━━━━━━━━━\u001b[0m\u001b[37m\u001b[0m \u001b[1m10s\u001b[0m 27ms/step - accuracy: 0.8898 - loss: 0.3020 - val_accuracy: 0.5633 - val_loss: 1.8293\n",
            "Epoch 250/400\n",
            "\u001b[1m359/359\u001b[0m \u001b[32m━━━━━━━━━━━━━━━━━━━━\u001b[0m\u001b[37m\u001b[0m \u001b[1m10s\u001b[0m 26ms/step - accuracy: 0.8862 - loss: 0.3031 - val_accuracy: 0.5605 - val_loss: 1.8342\n",
            "Epoch 251/400\n",
            "\u001b[1m359/359\u001b[0m \u001b[32m━━━━━━━━━━━━━━━━━━━━\u001b[0m\u001b[37m\u001b[0m \u001b[1m10s\u001b[0m 29ms/step - accuracy: 0.8904 - loss: 0.2914 - val_accuracy: 0.5591 - val_loss: 1.8423\n",
            "Epoch 252/400\n",
            "\u001b[1m359/359\u001b[0m \u001b[32m━━━━━━━━━━━━━━━━━━━━\u001b[0m\u001b[37m\u001b[0m \u001b[1m10s\u001b[0m 28ms/step - accuracy: 0.8886 - loss: 0.3059 - val_accuracy: 0.5569 - val_loss: 1.7892\n",
            "Epoch 253/400\n",
            "\u001b[1m359/359\u001b[0m \u001b[32m━━━━━━━━━━━━━━━━━━━━\u001b[0m\u001b[37m\u001b[0m \u001b[1m9s\u001b[0m 25ms/step - accuracy: 0.8861 - loss: 0.3121 - val_accuracy: 0.5591 - val_loss: 1.8514\n",
            "Epoch 254/400\n",
            "\u001b[1m359/359\u001b[0m \u001b[32m━━━━━━━━━━━━━━━━━━━━\u001b[0m\u001b[37m\u001b[0m \u001b[1m11s\u001b[0m 27ms/step - accuracy: 0.8841 - loss: 0.3115 - val_accuracy: 0.5604 - val_loss: 1.7932\n",
            "Epoch 255/400\n",
            "\u001b[1m359/359\u001b[0m \u001b[32m━━━━━━━━━━━━━━━━━━━━\u001b[0m\u001b[37m\u001b[0m \u001b[1m10s\u001b[0m 29ms/step - accuracy: 0.8945 - loss: 0.2948 - val_accuracy: 0.5609 - val_loss: 1.7809\n",
            "Epoch 256/400\n",
            "\u001b[1m359/359\u001b[0m \u001b[32m━━━━━━━━━━━━━━━━━━━━\u001b[0m\u001b[37m\u001b[0m \u001b[1m9s\u001b[0m 26ms/step - accuracy: 0.8852 - loss: 0.3082 - val_accuracy: 0.5593 - val_loss: 1.7967\n",
            "Epoch 257/400\n",
            "\u001b[1m359/359\u001b[0m \u001b[32m━━━━━━━━━━━━━━━━━━━━\u001b[0m\u001b[37m\u001b[0m \u001b[1m10s\u001b[0m 27ms/step - accuracy: 0.8899 - loss: 0.2946 - val_accuracy: 0.5623 - val_loss: 1.8344\n",
            "Epoch 258/400\n",
            "\u001b[1m359/359\u001b[0m \u001b[32m━━━━━━━━━━━━━━━━━━━━\u001b[0m\u001b[37m\u001b[0m \u001b[1m9s\u001b[0m 25ms/step - accuracy: 0.8904 - loss: 0.2940 - val_accuracy: 0.5616 - val_loss: 1.8401\n",
            "Epoch 259/400\n",
            "\u001b[1m359/359\u001b[0m \u001b[32m━━━━━━━━━━━━━━━━━━━━\u001b[0m\u001b[37m\u001b[0m \u001b[1m10s\u001b[0m 27ms/step - accuracy: 0.8918 - loss: 0.2939 - val_accuracy: 0.5621 - val_loss: 1.8725\n",
            "Epoch 260/400\n",
            "\u001b[1m359/359\u001b[0m \u001b[32m━━━━━━━━━━━━━━━━━━━━\u001b[0m\u001b[37m\u001b[0m \u001b[1m10s\u001b[0m 29ms/step - accuracy: 0.8882 - loss: 0.3038 - val_accuracy: 0.5579 - val_loss: 1.7925\n",
            "Epoch 261/400\n",
            "\u001b[1m359/359\u001b[0m \u001b[32m━━━━━━━━━━━━━━━━━━━━\u001b[0m\u001b[37m\u001b[0m \u001b[1m9s\u001b[0m 26ms/step - accuracy: 0.8889 - loss: 0.2997 - val_accuracy: 0.5567 - val_loss: 1.8761\n",
            "Epoch 262/400\n",
            "\u001b[1m359/359\u001b[0m \u001b[32m━━━━━━━━━━━━━━━━━━━━\u001b[0m\u001b[37m\u001b[0m \u001b[1m9s\u001b[0m 26ms/step - accuracy: 0.8903 - loss: 0.2974 - val_accuracy: 0.5570 - val_loss: 1.8638\n",
            "Epoch 263/400\n",
            "\u001b[1m359/359\u001b[0m \u001b[32m━━━━━━━━━━━━━━━━━━━━\u001b[0m\u001b[37m\u001b[0m \u001b[1m9s\u001b[0m 24ms/step - accuracy: 0.8914 - loss: 0.2896 - val_accuracy: 0.5536 - val_loss: 1.8484\n",
            "Epoch 264/400\n",
            "\u001b[1m359/359\u001b[0m \u001b[32m━━━━━━━━━━━━━━━━━━━━\u001b[0m\u001b[37m\u001b[0m \u001b[1m9s\u001b[0m 25ms/step - accuracy: 0.8865 - loss: 0.3035 - val_accuracy: 0.5529 - val_loss: 1.8221\n",
            "Epoch 265/400\n",
            "\u001b[1m359/359\u001b[0m \u001b[32m━━━━━━━━━━━━━━━━━━━━\u001b[0m\u001b[37m\u001b[0m \u001b[1m9s\u001b[0m 26ms/step - accuracy: 0.8860 - loss: 0.3059 - val_accuracy: 0.5558 - val_loss: 1.8457\n",
            "Epoch 266/400\n",
            "\u001b[1m359/359\u001b[0m \u001b[32m━━━━━━━━━━━━━━━━━━━━\u001b[0m\u001b[37m\u001b[0m \u001b[1m9s\u001b[0m 26ms/step - accuracy: 0.8884 - loss: 0.2989 - val_accuracy: 0.5530 - val_loss: 1.8370\n",
            "Epoch 267/400\n",
            "\u001b[1m359/359\u001b[0m \u001b[32m━━━━━━━━━━━━━━━━━━━━\u001b[0m\u001b[37m\u001b[0m \u001b[1m10s\u001b[0m 28ms/step - accuracy: 0.8969 - loss: 0.2911 - val_accuracy: 0.5612 - val_loss: 1.8420\n",
            "Epoch 268/400\n",
            "\u001b[1m359/359\u001b[0m \u001b[32m━━━━━━━━━━━━━━━━━━━━\u001b[0m\u001b[37m\u001b[0m \u001b[1m9s\u001b[0m 26ms/step - accuracy: 0.8911 - loss: 0.2966 - val_accuracy: 0.5544 - val_loss: 1.8652\n",
            "Epoch 269/400\n",
            "\u001b[1m359/359\u001b[0m \u001b[32m━━━━━━━━━━━━━━━━━━━━\u001b[0m\u001b[37m\u001b[0m \u001b[1m10s\u001b[0m 26ms/step - accuracy: 0.8909 - loss: 0.2936 - val_accuracy: 0.5565 - val_loss: 1.9201\n",
            "Epoch 270/400\n",
            "\u001b[1m359/359\u001b[0m \u001b[32m━━━━━━━━━━━━━━━━━━━━\u001b[0m\u001b[37m\u001b[0m \u001b[1m10s\u001b[0m 29ms/step - accuracy: 0.8932 - loss: 0.2866 - val_accuracy: 0.5586 - val_loss: 1.8746\n",
            "Epoch 271/400\n",
            "\u001b[1m359/359\u001b[0m \u001b[32m━━━━━━━━━━━━━━━━━━━━\u001b[0m\u001b[37m\u001b[0m \u001b[1m9s\u001b[0m 26ms/step - accuracy: 0.8883 - loss: 0.2974 - val_accuracy: 0.5562 - val_loss: 1.8541\n",
            "Epoch 272/400\n",
            "\u001b[1m359/359\u001b[0m \u001b[32m━━━━━━━━━━━━━━━━━━━━\u001b[0m\u001b[37m\u001b[0m \u001b[1m11s\u001b[0m 28ms/step - accuracy: 0.8956 - loss: 0.2831 - val_accuracy: 0.5579 - val_loss: 1.8067\n",
            "Epoch 273/400\n",
            "\u001b[1m359/359\u001b[0m \u001b[32m━━━━━━━━━━━━━━━━━━━━\u001b[0m\u001b[37m\u001b[0m \u001b[1m9s\u001b[0m 25ms/step - accuracy: 0.8887 - loss: 0.3058 - val_accuracy: 0.5520 - val_loss: 1.8394\n",
            "Epoch 274/400\n",
            "\u001b[1m359/359\u001b[0m \u001b[32m━━━━━━━━━━━━━━━━━━━━\u001b[0m\u001b[37m\u001b[0m \u001b[1m11s\u001b[0m 29ms/step - accuracy: 0.8908 - loss: 0.2976 - val_accuracy: 0.5555 - val_loss: 1.8520\n",
            "Epoch 275/400\n",
            "\u001b[1m359/359\u001b[0m \u001b[32m━━━━━━━━━━━━━━━━━━━━\u001b[0m\u001b[37m\u001b[0m \u001b[1m10s\u001b[0m 28ms/step - accuracy: 0.8913 - loss: 0.2924 - val_accuracy: 0.5570 - val_loss: 1.8898\n",
            "Epoch 276/400\n",
            "\u001b[1m359/359\u001b[0m \u001b[32m━━━━━━━━━━━━━━━━━━━━\u001b[0m\u001b[37m\u001b[0m \u001b[1m10s\u001b[0m 26ms/step - accuracy: 0.8923 - loss: 0.2954 - val_accuracy: 0.5602 - val_loss: 1.8441\n",
            "Epoch 277/400\n",
            "\u001b[1m359/359\u001b[0m \u001b[32m━━━━━━━━━━━━━━━━━━━━\u001b[0m\u001b[37m\u001b[0m \u001b[1m9s\u001b[0m 26ms/step - accuracy: 0.8933 - loss: 0.2909 - val_accuracy: 0.5539 - val_loss: 1.8784\n",
            "Epoch 278/400\n",
            "\u001b[1m359/359\u001b[0m \u001b[32m━━━━━━━━━━━━━━━━━━━━\u001b[0m\u001b[37m\u001b[0m \u001b[1m10s\u001b[0m 28ms/step - accuracy: 0.8911 - loss: 0.2960 - val_accuracy: 0.5583 - val_loss: 1.8911\n",
            "Epoch 279/400\n",
            "\u001b[1m359/359\u001b[0m \u001b[32m━━━━━━━━━━━━━━━━━━━━\u001b[0m\u001b[37m\u001b[0m \u001b[1m10s\u001b[0m 27ms/step - accuracy: 0.8912 - loss: 0.2887 - val_accuracy: 0.5536 - val_loss: 1.9013\n",
            "Epoch 280/400\n",
            "\u001b[1m359/359\u001b[0m \u001b[32m━━━━━━━━━━━━━━━━━━━━\u001b[0m\u001b[37m\u001b[0m \u001b[1m9s\u001b[0m 26ms/step - accuracy: 0.8973 - loss: 0.2812 - val_accuracy: 0.5581 - val_loss: 1.8501\n",
            "Epoch 281/400\n",
            "\u001b[1m359/359\u001b[0m \u001b[32m━━━━━━━━━━━━━━━━━━━━\u001b[0m\u001b[37m\u001b[0m \u001b[1m10s\u001b[0m 26ms/step - accuracy: 0.8898 - loss: 0.2939 - val_accuracy: 0.5518 - val_loss: 1.8418\n",
            "Epoch 282/400\n",
            "\u001b[1m359/359\u001b[0m \u001b[32m━━━━━━━━━━━━━━━━━━━━\u001b[0m\u001b[37m\u001b[0m \u001b[1m9s\u001b[0m 26ms/step - accuracy: 0.8939 - loss: 0.2940 - val_accuracy: 0.5581 - val_loss: 1.8952\n",
            "Epoch 283/400\n",
            "\u001b[1m359/359\u001b[0m \u001b[32m━━━━━━━━━━━━━━━━━━━━\u001b[0m\u001b[37m\u001b[0m \u001b[1m10s\u001b[0m 29ms/step - accuracy: 0.8916 - loss: 0.2879 - val_accuracy: 0.5586 - val_loss: 1.7873\n",
            "Epoch 284/400\n",
            "\u001b[1m359/359\u001b[0m \u001b[32m━━━━━━━━━━━━━━━━━━━━\u001b[0m\u001b[37m\u001b[0m \u001b[1m10s\u001b[0m 27ms/step - accuracy: 0.8885 - loss: 0.2992 - val_accuracy: 0.5565 - val_loss: 1.8712\n",
            "Epoch 285/400\n",
            "\u001b[1m359/359\u001b[0m \u001b[32m━━━━━━━━━━━━━━━━━━━━\u001b[0m\u001b[37m\u001b[0m \u001b[1m11s\u001b[0m 29ms/step - accuracy: 0.8947 - loss: 0.2889 - val_accuracy: 0.5593 - val_loss: 1.8553\n",
            "Epoch 286/400\n",
            "\u001b[1m359/359\u001b[0m \u001b[32m━━━━━━━━━━━━━━━━━━━━\u001b[0m\u001b[37m\u001b[0m \u001b[1m9s\u001b[0m 26ms/step - accuracy: 0.8964 - loss: 0.2848 - val_accuracy: 0.5551 - val_loss: 1.8217\n",
            "Epoch 287/400\n",
            "\u001b[1m359/359\u001b[0m \u001b[32m━━━━━━━━━━━━━━━━━━━━\u001b[0m\u001b[37m\u001b[0m \u001b[1m11s\u001b[0m 28ms/step - accuracy: 0.8891 - loss: 0.2911 - val_accuracy: 0.5576 - val_loss: 1.8616\n",
            "Epoch 288/400\n",
            "\u001b[1m359/359\u001b[0m \u001b[32m━━━━━━━━━━━━━━━━━━━━\u001b[0m\u001b[37m\u001b[0m \u001b[1m9s\u001b[0m 25ms/step - accuracy: 0.8904 - loss: 0.2948 - val_accuracy: 0.5558 - val_loss: 1.7991\n",
            "Epoch 289/400\n",
            "\u001b[1m359/359\u001b[0m \u001b[32m━━━━━━━━━━━━━━━━━━━━\u001b[0m\u001b[37m\u001b[0m \u001b[1m10s\u001b[0m 25ms/step - accuracy: 0.8921 - loss: 0.2936 - val_accuracy: 0.5590 - val_loss: 1.8601\n",
            "Epoch 290/400\n",
            "\u001b[1m359/359\u001b[0m \u001b[32m━━━━━━━━━━━━━━━━━━━━\u001b[0m\u001b[37m\u001b[0m \u001b[1m11s\u001b[0m 27ms/step - accuracy: 0.8965 - loss: 0.2830 - val_accuracy: 0.5548 - val_loss: 1.8766\n",
            "Epoch 291/400\n",
            "\u001b[1m359/359\u001b[0m \u001b[32m━━━━━━━━━━━━━━━━━━━━\u001b[0m\u001b[37m\u001b[0m \u001b[1m10s\u001b[0m 27ms/step - accuracy: 0.8948 - loss: 0.2853 - val_accuracy: 0.5567 - val_loss: 1.8258\n",
            "Epoch 292/400\n",
            "\u001b[1m359/359\u001b[0m \u001b[32m━━━━━━━━━━━━━━━━━━━━\u001b[0m\u001b[37m\u001b[0m \u001b[1m10s\u001b[0m 26ms/step - accuracy: 0.8974 - loss: 0.2799 - val_accuracy: 0.5593 - val_loss: 1.8820\n",
            "Epoch 293/400\n",
            "\u001b[1m359/359\u001b[0m \u001b[32m━━━━━━━━━━━━━━━━━━━━\u001b[0m\u001b[37m\u001b[0m \u001b[1m11s\u001b[0m 29ms/step - accuracy: 0.8911 - loss: 0.2980 - val_accuracy: 0.5595 - val_loss: 1.8456\n",
            "Epoch 294/400\n",
            "\u001b[1m359/359\u001b[0m \u001b[32m━━━━━━━━━━━━━━━━━━━━\u001b[0m\u001b[37m\u001b[0m \u001b[1m10s\u001b[0m 28ms/step - accuracy: 0.8926 - loss: 0.2866 - val_accuracy: 0.5520 - val_loss: 1.9124\n",
            "Epoch 295/400\n",
            "\u001b[1m359/359\u001b[0m \u001b[32m━━━━━━━━━━━━━━━━━━━━\u001b[0m\u001b[37m\u001b[0m \u001b[1m10s\u001b[0m 29ms/step - accuracy: 0.9006 - loss: 0.2803 - val_accuracy: 0.5562 - val_loss: 1.8927\n",
            "Epoch 296/400\n",
            "\u001b[1m359/359\u001b[0m \u001b[32m━━━━━━━━━━━━━━━━━━━━\u001b[0m\u001b[37m\u001b[0m \u001b[1m10s\u001b[0m 28ms/step - accuracy: 0.8843 - loss: 0.3085 - val_accuracy: 0.5651 - val_loss: 1.9275\n",
            "Epoch 297/400\n",
            "\u001b[1m359/359\u001b[0m \u001b[32m━━━━━━━━━━━━━━━━━━━━\u001b[0m\u001b[37m\u001b[0m \u001b[1m9s\u001b[0m 26ms/step - accuracy: 0.8940 - loss: 0.2831 - val_accuracy: 0.5550 - val_loss: 1.8579\n",
            "Epoch 298/400\n",
            "\u001b[1m359/359\u001b[0m \u001b[32m━━━━━━━━━━━━━━━━━━━━\u001b[0m\u001b[37m\u001b[0m \u001b[1m9s\u001b[0m 26ms/step - accuracy: 0.8916 - loss: 0.2915 - val_accuracy: 0.5536 - val_loss: 1.9199\n",
            "Epoch 299/400\n",
            "\u001b[1m359/359\u001b[0m \u001b[32m━━━━━━━━━━━━━━━━━━━━\u001b[0m\u001b[37m\u001b[0m \u001b[1m10s\u001b[0m 26ms/step - accuracy: 0.8947 - loss: 0.2819 - val_accuracy: 0.5543 - val_loss: 1.8565\n",
            "Epoch 300/400\n",
            "\u001b[1m359/359\u001b[0m \u001b[32m━━━━━━━━━━━━━━━━━━━━\u001b[0m\u001b[37m\u001b[0m \u001b[1m10s\u001b[0m 26ms/step - accuracy: 0.8932 - loss: 0.2893 - val_accuracy: 0.5558 - val_loss: 1.8344\n",
            "Epoch 301/400\n",
            "\u001b[1m359/359\u001b[0m \u001b[32m━━━━━━━━━━━━━━━━━━━━\u001b[0m\u001b[37m\u001b[0m \u001b[1m10s\u001b[0m 25ms/step - accuracy: 0.8946 - loss: 0.2883 - val_accuracy: 0.5604 - val_loss: 1.9309\n",
            "Epoch 302/400\n",
            "\u001b[1m359/359\u001b[0m \u001b[32m━━━━━━━━━━━━━━━━━━━━\u001b[0m\u001b[37m\u001b[0m \u001b[1m10s\u001b[0m 25ms/step - accuracy: 0.8944 - loss: 0.2902 - val_accuracy: 0.5553 - val_loss: 1.8803\n",
            "Epoch 303/400\n",
            "\u001b[1m359/359\u001b[0m \u001b[32m━━━━━━━━━━━━━━━━━━━━\u001b[0m\u001b[37m\u001b[0m \u001b[1m9s\u001b[0m 26ms/step - accuracy: 0.8930 - loss: 0.2898 - val_accuracy: 0.5609 - val_loss: 1.9183\n",
            "Epoch 304/400\n",
            "\u001b[1m359/359\u001b[0m \u001b[32m━━━━━━━━━━━━━━━━━━━━\u001b[0m\u001b[37m\u001b[0m \u001b[1m9s\u001b[0m 26ms/step - accuracy: 0.9004 - loss: 0.2726 - val_accuracy: 0.5569 - val_loss: 1.9058\n",
            "Epoch 305/400\n",
            "\u001b[1m359/359\u001b[0m \u001b[32m━━━━━━━━━━━━━━━━━━━━\u001b[0m\u001b[37m\u001b[0m \u001b[1m9s\u001b[0m 26ms/step - accuracy: 0.9008 - loss: 0.2693 - val_accuracy: 0.5611 - val_loss: 1.8545\n",
            "Epoch 306/400\n",
            "\u001b[1m359/359\u001b[0m \u001b[32m━━━━━━━━━━━━━━━━━━━━\u001b[0m\u001b[37m\u001b[0m \u001b[1m11s\u001b[0m 28ms/step - accuracy: 0.8946 - loss: 0.2797 - val_accuracy: 0.5562 - val_loss: 1.9202\n",
            "Epoch 307/400\n",
            "\u001b[1m359/359\u001b[0m \u001b[32m━━━━━━━━━━━━━━━━━━━━\u001b[0m\u001b[37m\u001b[0m \u001b[1m9s\u001b[0m 25ms/step - accuracy: 0.8981 - loss: 0.2708 - val_accuracy: 0.5600 - val_loss: 1.8313\n",
            "Epoch 308/400\n",
            "\u001b[1m359/359\u001b[0m \u001b[32m━━━━━━━━━━━━━━━━━━━━\u001b[0m\u001b[37m\u001b[0m \u001b[1m11s\u001b[0m 26ms/step - accuracy: 0.8954 - loss: 0.2844 - val_accuracy: 0.5550 - val_loss: 1.8773\n",
            "Epoch 309/400\n",
            "\u001b[1m359/359\u001b[0m \u001b[32m━━━━━━━━━━━━━━━━━━━━\u001b[0m\u001b[37m\u001b[0m \u001b[1m9s\u001b[0m 26ms/step - accuracy: 0.8946 - loss: 0.2867 - val_accuracy: 0.5577 - val_loss: 1.8992\n",
            "Epoch 310/400\n",
            "\u001b[1m359/359\u001b[0m \u001b[32m━━━━━━━━━━━━━━━━━━━━\u001b[0m\u001b[37m\u001b[0m \u001b[1m10s\u001b[0m 27ms/step - accuracy: 0.8969 - loss: 0.2763 - val_accuracy: 0.5593 - val_loss: 1.9042\n",
            "Epoch 311/400\n",
            "\u001b[1m359/359\u001b[0m \u001b[32m━━━━━━━━━━━━━━━━━━━━\u001b[0m\u001b[37m\u001b[0m \u001b[1m10s\u001b[0m 27ms/step - accuracy: 0.8967 - loss: 0.2913 - val_accuracy: 0.5543 - val_loss: 1.8700\n",
            "Epoch 312/400\n",
            "\u001b[1m359/359\u001b[0m \u001b[32m━━━━━━━━━━━━━━━━━━━━\u001b[0m\u001b[37m\u001b[0m \u001b[1m9s\u001b[0m 25ms/step - accuracy: 0.8940 - loss: 0.2861 - val_accuracy: 0.5550 - val_loss: 1.8705\n",
            "Epoch 313/400\n",
            "\u001b[1m359/359\u001b[0m \u001b[32m━━━━━━━━━━━━━━━━━━━━\u001b[0m\u001b[37m\u001b[0m \u001b[1m10s\u001b[0m 25ms/step - accuracy: 0.8966 - loss: 0.2749 - val_accuracy: 0.5562 - val_loss: 1.8919\n",
            "Epoch 314/400\n",
            "\u001b[1m359/359\u001b[0m \u001b[32m━━━━━━━━━━━━━━━━━━━━\u001b[0m\u001b[37m\u001b[0m \u001b[1m11s\u001b[0m 30ms/step - accuracy: 0.8927 - loss: 0.2958 - val_accuracy: 0.5525 - val_loss: 1.8954\n",
            "Epoch 315/400\n",
            "\u001b[1m359/359\u001b[0m \u001b[32m━━━━━━━━━━━━━━━━━━━━\u001b[0m\u001b[37m\u001b[0m \u001b[1m19s\u001b[0m 26ms/step - accuracy: 0.8930 - loss: 0.2854 - val_accuracy: 0.5550 - val_loss: 1.8433\n",
            "Epoch 316/400\n",
            "\u001b[1m359/359\u001b[0m \u001b[32m━━━━━━━━━━━━━━━━━━━━\u001b[0m\u001b[37m\u001b[0m \u001b[1m10s\u001b[0m 26ms/step - accuracy: 0.8989 - loss: 0.2787 - val_accuracy: 0.5562 - val_loss: 1.8712\n",
            "Epoch 317/400\n",
            "\u001b[1m359/359\u001b[0m \u001b[32m━━━━━━━━━━━━━━━━━━━━\u001b[0m\u001b[37m\u001b[0m \u001b[1m11s\u001b[0m 27ms/step - accuracy: 0.8921 - loss: 0.2921 - val_accuracy: 0.5534 - val_loss: 1.8515\n",
            "Epoch 318/400\n",
            "\u001b[1m359/359\u001b[0m \u001b[32m━━━━━━━━━━━━━━━━━━━━\u001b[0m\u001b[37m\u001b[0m \u001b[1m9s\u001b[0m 25ms/step - accuracy: 0.8925 - loss: 0.2861 - val_accuracy: 0.5600 - val_loss: 1.8782\n",
            "Epoch 319/400\n",
            "\u001b[1m359/359\u001b[0m \u001b[32m━━━━━━━━━━━━━━━━━━━━\u001b[0m\u001b[37m\u001b[0m \u001b[1m10s\u001b[0m 25ms/step - accuracy: 0.8982 - loss: 0.2774 - val_accuracy: 0.5569 - val_loss: 1.9314\n",
            "Epoch 320/400\n",
            "\u001b[1m359/359\u001b[0m \u001b[32m━━━━━━━━━━━━━━━━━━━━\u001b[0m\u001b[37m\u001b[0m \u001b[1m11s\u001b[0m 26ms/step - accuracy: 0.8960 - loss: 0.2794 - val_accuracy: 0.5557 - val_loss: 1.8958\n",
            "Epoch 321/400\n",
            "\u001b[1m359/359\u001b[0m \u001b[32m━━━━━━━━━━━━━━━━━━━━\u001b[0m\u001b[37m\u001b[0m \u001b[1m9s\u001b[0m 26ms/step - accuracy: 0.8974 - loss: 0.2727 - val_accuracy: 0.5536 - val_loss: 1.9393\n",
            "Epoch 322/400\n",
            "\u001b[1m359/359\u001b[0m \u001b[32m━━━━━━━━━━━━━━━━━━━━\u001b[0m\u001b[37m\u001b[0m \u001b[1m10s\u001b[0m 26ms/step - accuracy: 0.8976 - loss: 0.2845 - val_accuracy: 0.5565 - val_loss: 1.8723\n",
            "Epoch 323/400\n",
            "\u001b[1m359/359\u001b[0m \u001b[32m━━━━━━━━━━━━━━━━━━━━\u001b[0m\u001b[37m\u001b[0m \u001b[1m10s\u001b[0m 27ms/step - accuracy: 0.9007 - loss: 0.2740 - val_accuracy: 0.5569 - val_loss: 1.9019\n",
            "Epoch 324/400\n",
            "\u001b[1m359/359\u001b[0m \u001b[32m━━━━━━━━━━━━━━━━━━━━\u001b[0m\u001b[37m\u001b[0m \u001b[1m9s\u001b[0m 24ms/step - accuracy: 0.8983 - loss: 0.2742 - val_accuracy: 0.5583 - val_loss: 1.8606\n",
            "Epoch 325/400\n",
            "\u001b[1m359/359\u001b[0m \u001b[32m━━━━━━━━━━━━━━━━━━━━\u001b[0m\u001b[37m\u001b[0m \u001b[1m9s\u001b[0m 26ms/step - accuracy: 0.8999 - loss: 0.2690 - val_accuracy: 0.5520 - val_loss: 1.9554\n",
            "Epoch 326/400\n",
            "\u001b[1m359/359\u001b[0m \u001b[32m━━━━━━━━━━━━━━━━━━━━\u001b[0m\u001b[37m\u001b[0m \u001b[1m9s\u001b[0m 26ms/step - accuracy: 0.8989 - loss: 0.2746 - val_accuracy: 0.5546 - val_loss: 1.9461\n",
            "Epoch 327/400\n",
            "\u001b[1m359/359\u001b[0m \u001b[32m━━━━━━━━━━━━━━━━━━━━\u001b[0m\u001b[37m\u001b[0m \u001b[1m9s\u001b[0m 26ms/step - accuracy: 0.9000 - loss: 0.2765 - val_accuracy: 0.5537 - val_loss: 1.9699\n",
            "Epoch 328/400\n",
            "\u001b[1m359/359\u001b[0m \u001b[32m━━━━━━━━━━━━━━━━━━━━\u001b[0m\u001b[37m\u001b[0m \u001b[1m10s\u001b[0m 24ms/step - accuracy: 0.9018 - loss: 0.2684 - val_accuracy: 0.5544 - val_loss: 1.9207\n",
            "Epoch 329/400\n",
            "\u001b[1m359/359\u001b[0m \u001b[32m━━━━━━━━━━━━━━━━━━━━\u001b[0m\u001b[37m\u001b[0m \u001b[1m11s\u001b[0m 27ms/step - accuracy: 0.9011 - loss: 0.2703 - val_accuracy: 0.5541 - val_loss: 1.9625\n",
            "Epoch 330/400\n",
            "\u001b[1m359/359\u001b[0m \u001b[32m━━━━━━━━━━━━━━━━━━━━\u001b[0m\u001b[37m\u001b[0m \u001b[1m11s\u001b[0m 29ms/step - accuracy: 0.8963 - loss: 0.2868 - val_accuracy: 0.5567 - val_loss: 1.8533\n",
            "Epoch 331/400\n",
            "\u001b[1m359/359\u001b[0m \u001b[32m━━━━━━━━━━━━━━━━━━━━\u001b[0m\u001b[37m\u001b[0m \u001b[1m20s\u001b[0m 29ms/step - accuracy: 0.9045 - loss: 0.2594 - val_accuracy: 0.5598 - val_loss: 1.8811\n",
            "Epoch 332/400\n",
            "\u001b[1m359/359\u001b[0m \u001b[32m━━━━━━━━━━━━━━━━━━━━\u001b[0m\u001b[37m\u001b[0m \u001b[1m10s\u001b[0m 28ms/step - accuracy: 0.8973 - loss: 0.2867 - val_accuracy: 0.5570 - val_loss: 1.8818\n",
            "Epoch 333/400\n",
            "\u001b[1m359/359\u001b[0m \u001b[32m━━━━━━━━━━━━━━━━━━━━\u001b[0m\u001b[37m\u001b[0m \u001b[1m10s\u001b[0m 27ms/step - accuracy: 0.8961 - loss: 0.2861 - val_accuracy: 0.5523 - val_loss: 1.9092\n",
            "Epoch 334/400\n",
            "\u001b[1m359/359\u001b[0m \u001b[32m━━━━━━━━━━━━━━━━━━━━\u001b[0m\u001b[37m\u001b[0m \u001b[1m10s\u001b[0m 28ms/step - accuracy: 0.8943 - loss: 0.2815 - val_accuracy: 0.5569 - val_loss: 1.9189\n",
            "Epoch 335/400\n",
            "\u001b[1m359/359\u001b[0m \u001b[32m━━━━━━━━━━━━━━━━━━━━\u001b[0m\u001b[37m\u001b[0m \u001b[1m21s\u001b[0m 29ms/step - accuracy: 0.8944 - loss: 0.2932 - val_accuracy: 0.5570 - val_loss: 1.8824\n",
            "Epoch 336/400\n",
            "\u001b[1m359/359\u001b[0m \u001b[32m━━━━━━━━━━━━━━━━━━━━\u001b[0m\u001b[37m\u001b[0m \u001b[1m9s\u001b[0m 26ms/step - accuracy: 0.9000 - loss: 0.2754 - val_accuracy: 0.5586 - val_loss: 1.9156\n",
            "Epoch 337/400\n",
            "\u001b[1m359/359\u001b[0m \u001b[32m━━━━━━━━━━━━━━━━━━━━\u001b[0m\u001b[37m\u001b[0m \u001b[1m10s\u001b[0m 26ms/step - accuracy: 0.8984 - loss: 0.2866 - val_accuracy: 0.5577 - val_loss: 1.9563\n",
            "Epoch 338/400\n",
            "\u001b[1m359/359\u001b[0m \u001b[32m━━━━━━━━━━━━━━━━━━━━\u001b[0m\u001b[37m\u001b[0m \u001b[1m11s\u001b[0m 26ms/step - accuracy: 0.8943 - loss: 0.2798 - val_accuracy: 0.5583 - val_loss: 1.8574\n",
            "Epoch 339/400\n",
            "\u001b[1m359/359\u001b[0m \u001b[32m━━━━━━━━━━━━━━━━━━━━\u001b[0m\u001b[37m\u001b[0m \u001b[1m11s\u001b[0m 27ms/step - accuracy: 0.8976 - loss: 0.2679 - val_accuracy: 0.5563 - val_loss: 1.9368\n",
            "Epoch 340/400\n",
            "\u001b[1m359/359\u001b[0m \u001b[32m━━━━━━━━━━━━━━━━━━━━\u001b[0m\u001b[37m\u001b[0m \u001b[1m9s\u001b[0m 24ms/step - accuracy: 0.9018 - loss: 0.2777 - val_accuracy: 0.5555 - val_loss: 1.8745\n",
            "Epoch 341/400\n",
            "\u001b[1m359/359\u001b[0m \u001b[32m━━━━━━━━━━━━━━━━━━━━\u001b[0m\u001b[37m\u001b[0m \u001b[1m9s\u001b[0m 26ms/step - accuracy: 0.9011 - loss: 0.2729 - val_accuracy: 0.5593 - val_loss: 1.9242\n",
            "Epoch 342/400\n",
            "\u001b[1m359/359\u001b[0m \u001b[32m━━━━━━━━━━━━━━━━━━━━\u001b[0m\u001b[37m\u001b[0m \u001b[1m10s\u001b[0m 27ms/step - accuracy: 0.8997 - loss: 0.2772 - val_accuracy: 0.5591 - val_loss: 1.8441\n",
            "Epoch 343/400\n",
            "\u001b[1m359/359\u001b[0m \u001b[32m━━━━━━━━━━━━━━━━━━━━\u001b[0m\u001b[37m\u001b[0m \u001b[1m10s\u001b[0m 28ms/step - accuracy: 0.9029 - loss: 0.2641 - val_accuracy: 0.5583 - val_loss: 1.8975\n",
            "Epoch 344/400\n",
            "\u001b[1m359/359\u001b[0m \u001b[32m━━━━━━━━━━━━━━━━━━━━\u001b[0m\u001b[37m\u001b[0m \u001b[1m10s\u001b[0m 27ms/step - accuracy: 0.8948 - loss: 0.2809 - val_accuracy: 0.5588 - val_loss: 1.8694\n",
            "Epoch 345/400\n",
            "\u001b[1m359/359\u001b[0m \u001b[32m━━━━━━━━━━━━━━━━━━━━\u001b[0m\u001b[37m\u001b[0m \u001b[1m9s\u001b[0m 24ms/step - accuracy: 0.9008 - loss: 0.2756 - val_accuracy: 0.5577 - val_loss: 1.9506\n",
            "Epoch 346/400\n",
            "\u001b[1m359/359\u001b[0m \u001b[32m━━━━━━━━━━━━━━━━━━━━\u001b[0m\u001b[37m\u001b[0m \u001b[1m11s\u001b[0m 26ms/step - accuracy: 0.8990 - loss: 0.2753 - val_accuracy: 0.5577 - val_loss: 1.8879\n",
            "Epoch 347/400\n",
            "\u001b[1m359/359\u001b[0m \u001b[32m━━━━━━━━━━━━━━━━━━━━\u001b[0m\u001b[37m\u001b[0m \u001b[1m10s\u001b[0m 26ms/step - accuracy: 0.9017 - loss: 0.2652 - val_accuracy: 0.5597 - val_loss: 1.8698\n",
            "Epoch 348/400\n",
            "\u001b[1m359/359\u001b[0m \u001b[32m━━━━━━━━━━━━━━━━━━━━\u001b[0m\u001b[37m\u001b[0m \u001b[1m10s\u001b[0m 26ms/step - accuracy: 0.9002 - loss: 0.2679 - val_accuracy: 0.5598 - val_loss: 1.9315\n",
            "Epoch 349/400\n",
            "\u001b[1m359/359\u001b[0m \u001b[32m━━━━━━━━━━━━━━━━━━━━\u001b[0m\u001b[37m\u001b[0m \u001b[1m10s\u001b[0m 26ms/step - accuracy: 0.9005 - loss: 0.2701 - val_accuracy: 0.5623 - val_loss: 1.9022\n",
            "Epoch 350/400\n",
            "\u001b[1m359/359\u001b[0m \u001b[32m━━━━━━━━━━━━━━━━━━━━\u001b[0m\u001b[37m\u001b[0m \u001b[1m10s\u001b[0m 28ms/step - accuracy: 0.9006 - loss: 0.2644 - val_accuracy: 0.5565 - val_loss: 1.9230\n",
            "Epoch 351/400\n",
            "\u001b[1m359/359\u001b[0m \u001b[32m━━━━━━━━━━━━━━━━━━━━\u001b[0m\u001b[37m\u001b[0m \u001b[1m9s\u001b[0m 25ms/step - accuracy: 0.9033 - loss: 0.2616 - val_accuracy: 0.5576 - val_loss: 1.9256\n",
            "Epoch 352/400\n",
            "\u001b[1m359/359\u001b[0m \u001b[32m━━━━━━━━━━━━━━━━━━━━\u001b[0m\u001b[37m\u001b[0m \u001b[1m10s\u001b[0m 29ms/step - accuracy: 0.8988 - loss: 0.2731 - val_accuracy: 0.5621 - val_loss: 1.9148\n",
            "Epoch 353/400\n",
            "\u001b[1m359/359\u001b[0m \u001b[32m━━━━━━━━━━━━━━━━━━━━\u001b[0m\u001b[37m\u001b[0m \u001b[1m9s\u001b[0m 26ms/step - accuracy: 0.9015 - loss: 0.2657 - val_accuracy: 0.5600 - val_loss: 1.9104\n",
            "Epoch 354/400\n",
            "\u001b[1m359/359\u001b[0m \u001b[32m━━━━━━━━━━━━━━━━━━━━\u001b[0m\u001b[37m\u001b[0m \u001b[1m10s\u001b[0m 27ms/step - accuracy: 0.9003 - loss: 0.2720 - val_accuracy: 0.5583 - val_loss: 1.9527\n",
            "Epoch 355/400\n",
            "\u001b[1m359/359\u001b[0m \u001b[32m━━━━━━━━━━━━━━━━━━━━\u001b[0m\u001b[37m\u001b[0m \u001b[1m9s\u001b[0m 25ms/step - accuracy: 0.9008 - loss: 0.2722 - val_accuracy: 0.5671 - val_loss: 1.9243\n",
            "Epoch 356/400\n",
            "\u001b[1m359/359\u001b[0m \u001b[32m━━━━━━━━━━━━━━━━━━━━\u001b[0m\u001b[37m\u001b[0m \u001b[1m9s\u001b[0m 26ms/step - accuracy: 0.9010 - loss: 0.2637 - val_accuracy: 0.5623 - val_loss: 1.8579\n",
            "Epoch 357/400\n",
            "\u001b[1m359/359\u001b[0m \u001b[32m━━━━━━━━━━━━━━━━━━━━\u001b[0m\u001b[37m\u001b[0m \u001b[1m11s\u001b[0m 29ms/step - accuracy: 0.8986 - loss: 0.2776 - val_accuracy: 0.5572 - val_loss: 1.9111\n",
            "Epoch 358/400\n",
            "\u001b[1m359/359\u001b[0m \u001b[32m━━━━━━━━━━━━━━━━━━━━\u001b[0m\u001b[37m\u001b[0m \u001b[1m10s\u001b[0m 27ms/step - accuracy: 0.9000 - loss: 0.2712 - val_accuracy: 0.5624 - val_loss: 1.9299\n",
            "Epoch 359/400\n",
            "\u001b[1m359/359\u001b[0m \u001b[32m━━━━━━━━━━━━━━━━━━━━\u001b[0m\u001b[37m\u001b[0m \u001b[1m10s\u001b[0m 28ms/step - accuracy: 0.9012 - loss: 0.2703 - val_accuracy: 0.5572 - val_loss: 1.8415\n",
            "Epoch 360/400\n",
            "\u001b[1m359/359\u001b[0m \u001b[32m━━━━━━━━━━━━━━━━━━━━\u001b[0m\u001b[37m\u001b[0m \u001b[1m9s\u001b[0m 25ms/step - accuracy: 0.8988 - loss: 0.2742 - val_accuracy: 0.5597 - val_loss: 1.9524\n",
            "Epoch 361/400\n",
            "\u001b[1m359/359\u001b[0m \u001b[32m━━━━━━━━━━━━━━━━━━━━\u001b[0m\u001b[37m\u001b[0m \u001b[1m9s\u001b[0m 26ms/step - accuracy: 0.8985 - loss: 0.2686 - val_accuracy: 0.5570 - val_loss: 1.8784\n",
            "Epoch 362/400\n",
            "\u001b[1m359/359\u001b[0m \u001b[32m━━━━━━━━━━━━━━━━━━━━\u001b[0m\u001b[37m\u001b[0m \u001b[1m10s\u001b[0m 26ms/step - accuracy: 0.9025 - loss: 0.2630 - val_accuracy: 0.5617 - val_loss: 1.9003\n",
            "Epoch 363/400\n",
            "\u001b[1m359/359\u001b[0m \u001b[32m━━━━━━━━━━━━━━━━━━━━\u001b[0m\u001b[37m\u001b[0m \u001b[1m9s\u001b[0m 26ms/step - accuracy: 0.9056 - loss: 0.2562 - val_accuracy: 0.5581 - val_loss: 1.9384\n",
            "Epoch 364/400\n",
            "\u001b[1m359/359\u001b[0m \u001b[32m━━━━━━━━━━━━━━━━━━━━\u001b[0m\u001b[37m\u001b[0m \u001b[1m10s\u001b[0m 28ms/step - accuracy: 0.8990 - loss: 0.2736 - val_accuracy: 0.5574 - val_loss: 1.8804\n",
            "Epoch 365/400\n",
            "\u001b[1m359/359\u001b[0m \u001b[32m━━━━━━━━━━━━━━━━━━━━\u001b[0m\u001b[37m\u001b[0m \u001b[1m9s\u001b[0m 25ms/step - accuracy: 0.9039 - loss: 0.2628 - val_accuracy: 0.5597 - val_loss: 1.9582\n",
            "Epoch 366/400\n",
            "\u001b[1m359/359\u001b[0m \u001b[32m━━━━━━━━━━━━━━━━━━━━\u001b[0m\u001b[37m\u001b[0m \u001b[1m9s\u001b[0m 26ms/step - accuracy: 0.8982 - loss: 0.2723 - val_accuracy: 0.5626 - val_loss: 1.8820\n",
            "Epoch 367/400\n",
            "\u001b[1m359/359\u001b[0m \u001b[32m━━━━━━━━━━━━━━━━━━━━\u001b[0m\u001b[37m\u001b[0m \u001b[1m10s\u001b[0m 28ms/step - accuracy: 0.9007 - loss: 0.2672 - val_accuracy: 0.5595 - val_loss: 1.8889\n",
            "Epoch 368/400\n",
            "\u001b[1m359/359\u001b[0m \u001b[32m━━━━━━━━━━━━━━━━━━━━\u001b[0m\u001b[37m\u001b[0m \u001b[1m10s\u001b[0m 28ms/step - accuracy: 0.9027 - loss: 0.2677 - val_accuracy: 0.5600 - val_loss: 1.8538\n",
            "Epoch 369/400\n",
            "\u001b[1m359/359\u001b[0m \u001b[32m━━━━━━━━━━━━━━━━━━━━\u001b[0m\u001b[37m\u001b[0m \u001b[1m10s\u001b[0m 29ms/step - accuracy: 0.9014 - loss: 0.2745 - val_accuracy: 0.5642 - val_loss: 1.8841\n",
            "Epoch 370/400\n",
            "\u001b[1m359/359\u001b[0m \u001b[32m━━━━━━━━━━━━━━━━━━━━\u001b[0m\u001b[37m\u001b[0m \u001b[1m10s\u001b[0m 29ms/step - accuracy: 0.9031 - loss: 0.2673 - val_accuracy: 0.5604 - val_loss: 1.8440\n",
            "Epoch 371/400\n",
            "\u001b[1m359/359\u001b[0m \u001b[32m━━━━━━━━━━━━━━━━━━━━\u001b[0m\u001b[37m\u001b[0m \u001b[1m9s\u001b[0m 25ms/step - accuracy: 0.9009 - loss: 0.2765 - val_accuracy: 0.5633 - val_loss: 1.8669\n",
            "Epoch 372/400\n",
            "\u001b[1m359/359\u001b[0m \u001b[32m━━━━━━━━━━━━━━━━━━━━\u001b[0m\u001b[37m\u001b[0m \u001b[1m10s\u001b[0m 26ms/step - accuracy: 0.9018 - loss: 0.2732 - val_accuracy: 0.5607 - val_loss: 1.9316\n",
            "Epoch 373/400\n",
            "\u001b[1m359/359\u001b[0m \u001b[32m━━━━━━━━━━━━━━━━━━━━\u001b[0m\u001b[37m\u001b[0m \u001b[1m9s\u001b[0m 26ms/step - accuracy: 0.9066 - loss: 0.2575 - val_accuracy: 0.5588 - val_loss: 1.9019\n",
            "Epoch 374/400\n",
            "\u001b[1m359/359\u001b[0m \u001b[32m━━━━━━━━━━━━━━━━━━━━\u001b[0m\u001b[37m\u001b[0m \u001b[1m9s\u001b[0m 26ms/step - accuracy: 0.9029 - loss: 0.2665 - val_accuracy: 0.5619 - val_loss: 2.0445\n",
            "Epoch 375/400\n",
            "\u001b[1m359/359\u001b[0m \u001b[32m━━━━━━━━━━━━━━━━━━━━\u001b[0m\u001b[37m\u001b[0m \u001b[1m10s\u001b[0m 25ms/step - accuracy: 0.8996 - loss: 0.2683 - val_accuracy: 0.5553 - val_loss: 1.9685\n",
            "Epoch 376/400\n",
            "\u001b[1m359/359\u001b[0m \u001b[32m━━━━━━━━━━━━━━━━━━━━\u001b[0m\u001b[37m\u001b[0m \u001b[1m11s\u001b[0m 29ms/step - accuracy: 0.8996 - loss: 0.2762 - val_accuracy: 0.5574 - val_loss: 1.9648\n",
            "Epoch 377/400\n",
            "\u001b[1m359/359\u001b[0m \u001b[32m━━━━━━━━━━━━━━━━━━━━\u001b[0m\u001b[37m\u001b[0m \u001b[1m10s\u001b[0m 29ms/step - accuracy: 0.9071 - loss: 0.2582 - val_accuracy: 0.5607 - val_loss: 1.9002\n",
            "Epoch 378/400\n",
            "\u001b[1m359/359\u001b[0m \u001b[32m━━━━━━━━━━━━━━━━━━━━\u001b[0m\u001b[37m\u001b[0m \u001b[1m10s\u001b[0m 29ms/step - accuracy: 0.9062 - loss: 0.2600 - val_accuracy: 0.5631 - val_loss: 1.8946\n",
            "Epoch 379/400\n",
            "\u001b[1m359/359\u001b[0m \u001b[32m━━━━━━━━━━━━━━━━━━━━\u001b[0m\u001b[37m\u001b[0m \u001b[1m9s\u001b[0m 26ms/step - accuracy: 0.9044 - loss: 0.2625 - val_accuracy: 0.5569 - val_loss: 1.9058\n",
            "Epoch 380/400\n",
            "\u001b[1m359/359\u001b[0m \u001b[32m━━━━━━━━━━━━━━━━━━━━\u001b[0m\u001b[37m\u001b[0m \u001b[1m10s\u001b[0m 27ms/step - accuracy: 0.9017 - loss: 0.2620 - val_accuracy: 0.5570 - val_loss: 1.9289\n",
            "Epoch 381/400\n",
            "\u001b[1m359/359\u001b[0m \u001b[32m━━━━━━━━━━━━━━━━━━━━\u001b[0m\u001b[37m\u001b[0m \u001b[1m10s\u001b[0m 27ms/step - accuracy: 0.9004 - loss: 0.2686 - val_accuracy: 0.5560 - val_loss: 1.8998\n",
            "Epoch 382/400\n",
            "\u001b[1m359/359\u001b[0m \u001b[32m━━━━━━━━━━━━━━━━━━━━\u001b[0m\u001b[37m\u001b[0m \u001b[1m10s\u001b[0m 29ms/step - accuracy: 0.9050 - loss: 0.2587 - val_accuracy: 0.5563 - val_loss: 1.8539\n",
            "Epoch 383/400\n",
            "\u001b[1m359/359\u001b[0m \u001b[32m━━━━━━━━━━━━━━━━━━━━\u001b[0m\u001b[37m\u001b[0m \u001b[1m9s\u001b[0m 26ms/step - accuracy: 0.9013 - loss: 0.2700 - val_accuracy: 0.5546 - val_loss: 1.9378\n",
            "Epoch 384/400\n",
            "\u001b[1m359/359\u001b[0m \u001b[32m━━━━━━━━━━━━━━━━━━━━\u001b[0m\u001b[37m\u001b[0m \u001b[1m9s\u001b[0m 25ms/step - accuracy: 0.9011 - loss: 0.2764 - val_accuracy: 0.5595 - val_loss: 1.9175\n",
            "Epoch 385/400\n",
            "\u001b[1m359/359\u001b[0m \u001b[32m━━━━━━━━━━━━━━━━━━━━\u001b[0m\u001b[37m\u001b[0m \u001b[1m12s\u001b[0m 29ms/step - accuracy: 0.9040 - loss: 0.2627 - val_accuracy: 0.5593 - val_loss: 1.8868\n",
            "Epoch 386/400\n",
            "\u001b[1m359/359\u001b[0m \u001b[32m━━━━━━━━━━━━━━━━━━━━\u001b[0m\u001b[37m\u001b[0m \u001b[1m10s\u001b[0m 28ms/step - accuracy: 0.9050 - loss: 0.2648 - val_accuracy: 0.5621 - val_loss: 1.9379\n",
            "Epoch 387/400\n",
            "\u001b[1m359/359\u001b[0m \u001b[32m━━━━━━━━━━━━━━━━━━━━\u001b[0m\u001b[37m\u001b[0m \u001b[1m9s\u001b[0m 26ms/step - accuracy: 0.9052 - loss: 0.2600 - val_accuracy: 0.5593 - val_loss: 1.9322\n",
            "Epoch 388/400\n",
            "\u001b[1m359/359\u001b[0m \u001b[32m━━━━━━━━━━━━━━━━━━━━\u001b[0m\u001b[37m\u001b[0m \u001b[1m11s\u001b[0m 30ms/step - accuracy: 0.9040 - loss: 0.2589 - val_accuracy: 0.5569 - val_loss: 1.8813\n",
            "Epoch 389/400\n",
            "\u001b[1m359/359\u001b[0m \u001b[32m━━━━━━━━━━━━━━━━━━━━\u001b[0m\u001b[37m\u001b[0m \u001b[1m10s\u001b[0m 29ms/step - accuracy: 0.9046 - loss: 0.2538 - val_accuracy: 0.5548 - val_loss: 1.9768\n",
            "Epoch 390/400\n",
            "\u001b[1m359/359\u001b[0m \u001b[32m━━━━━━━━━━━━━━━━━━━━\u001b[0m\u001b[37m\u001b[0m \u001b[1m11s\u001b[0m 29ms/step - accuracy: 0.9042 - loss: 0.2655 - val_accuracy: 0.5572 - val_loss: 1.9020\n",
            "Epoch 391/400\n",
            "\u001b[1m359/359\u001b[0m \u001b[32m━━━━━━━━━━━━━━━━━━━━\u001b[0m\u001b[37m\u001b[0m \u001b[1m10s\u001b[0m 26ms/step - accuracy: 0.9037 - loss: 0.2606 - val_accuracy: 0.5570 - val_loss: 1.8997\n",
            "Epoch 392/400\n",
            "\u001b[1m359/359\u001b[0m \u001b[32m━━━━━━━━━━━━━━━━━━━━\u001b[0m\u001b[37m\u001b[0m \u001b[1m10s\u001b[0m 28ms/step - accuracy: 0.9058 - loss: 0.2561 - val_accuracy: 0.5588 - val_loss: 1.9011\n",
            "Epoch 393/400\n",
            "\u001b[1m359/359\u001b[0m \u001b[32m━━━━━━━━━━━━━━━━━━━━\u001b[0m\u001b[37m\u001b[0m \u001b[1m9s\u001b[0m 25ms/step - accuracy: 0.9057 - loss: 0.2546 - val_accuracy: 0.5570 - val_loss: 1.9528\n",
            "Epoch 394/400\n",
            "\u001b[1m359/359\u001b[0m \u001b[32m━━━━━━━━━━━━━━━━━━━━\u001b[0m\u001b[37m\u001b[0m \u001b[1m10s\u001b[0m 25ms/step - accuracy: 0.9062 - loss: 0.2639 - val_accuracy: 0.5628 - val_loss: 1.9013\n",
            "Epoch 395/400\n",
            "\u001b[1m359/359\u001b[0m \u001b[32m━━━━━━━━━━━━━━━━━━━━\u001b[0m\u001b[37m\u001b[0m \u001b[1m12s\u001b[0m 29ms/step - accuracy: 0.9021 - loss: 0.2684 - val_accuracy: 0.5541 - val_loss: 1.9034\n",
            "Epoch 396/400\n",
            "\u001b[1m359/359\u001b[0m \u001b[32m━━━━━━━━━━━━━━━━━━━━\u001b[0m\u001b[37m\u001b[0m \u001b[1m11s\u001b[0m 30ms/step - accuracy: 0.9046 - loss: 0.2616 - val_accuracy: 0.5605 - val_loss: 1.9516\n",
            "Epoch 397/400\n",
            "\u001b[1m359/359\u001b[0m \u001b[32m━━━━━━━━━━━━━━━━━━━━\u001b[0m\u001b[37m\u001b[0m \u001b[1m19s\u001b[0m 26ms/step - accuracy: 0.9050 - loss: 0.2628 - val_accuracy: 0.5583 - val_loss: 1.8659\n",
            "Epoch 398/400\n",
            "\u001b[1m359/359\u001b[0m \u001b[32m━━━━━━━━━━━━━━━━━━━━\u001b[0m\u001b[37m\u001b[0m \u001b[1m11s\u001b[0m 27ms/step - accuracy: 0.9020 - loss: 0.2630 - val_accuracy: 0.5624 - val_loss: 1.9526\n",
            "Epoch 399/400\n",
            "\u001b[1m359/359\u001b[0m \u001b[32m━━━━━━━━━━━━━━━━━━━━\u001b[0m\u001b[37m\u001b[0m \u001b[1m10s\u001b[0m 27ms/step - accuracy: 0.9018 - loss: 0.2678 - val_accuracy: 0.5572 - val_loss: 1.9720\n",
            "Epoch 400/400\n",
            "\u001b[1m359/359\u001b[0m \u001b[32m━━━━━━━━━━━━━━━━━━━━\u001b[0m\u001b[37m\u001b[0m \u001b[1m11s\u001b[0m 30ms/step - accuracy: 0.9022 - loss: 0.2644 - val_accuracy: 0.5570 - val_loss: 1.8926\n"
          ]
        }
      ]
    },
    {
      "cell_type": "markdown",
      "source": [
        "# 📌 Step 7: Evaluate on Test Data\n"
      ],
      "metadata": {
        "id": "taJSuB_eWcsZ"
      }
    },
    {
      "cell_type": "code",
      "source": [
        "test_loss, test_accuracy = model.evaluate(test_generator)\n",
        "print(f\"Test Accuracy: {test_accuracy:.4f}\")"
      ],
      "metadata": {
        "colab": {
          "base_uri": "https://localhost:8080/"
        },
        "id": "9AQaKa12WfNy",
        "outputId": "64882077-dc26-4c05-b745-84074be69a38"
      },
      "execution_count": null,
      "outputs": [
        {
          "output_type": "stream",
          "name": "stdout",
          "text": [
            "\u001b[1m  4/113\u001b[0m \u001b[37m━━━━━━━━━━━━━━━━━━━━\u001b[0m \u001b[1m1s\u001b[0m 17ms/step - accuracy: 0.4316 - loss: 2.4380"
          ]
        },
        {
          "output_type": "stream",
          "name": "stderr",
          "text": [
            "/usr/local/lib/python3.11/dist-packages/keras/src/trainers/data_adapters/py_dataset_adapter.py:121: UserWarning: Your `PyDataset` class should call `super().__init__(**kwargs)` in its constructor. `**kwargs` can include `workers`, `use_multiprocessing`, `max_queue_size`. Do not pass these arguments to `fit()`, as they will be ignored.\n",
            "  self._warn_if_super_not_called()\n"
          ]
        },
        {
          "output_type": "stream",
          "name": "stdout",
          "text": [
            "\u001b[1m113/113\u001b[0m \u001b[32m━━━━━━━━━━━━━━━━━━━━\u001b[0m\u001b[37m\u001b[0m \u001b[1m3s\u001b[0m 28ms/step - accuracy: 0.5102 - loss: 2.0870\n",
            "Test Accuracy: 0.5646\n"
          ]
        }
      ]
    },
    {
      "cell_type": "markdown",
      "source": [
        "# 📌 Step 8: Plot Training and Validation Metrics"
      ],
      "metadata": {
        "id": "XelK6wQ-OAjx"
      }
    },
    {
      "cell_type": "code",
      "source": [
        "import matplotlib.pyplot as plt\n",
        "\n",
        "# Accuracy\n",
        "plt.plot(history.history['accuracy'], label='Train')\n",
        "plt.plot(history.history['val_accuracy'], label='Valid')\n",
        "plt.title('Model Accuracy')\n",
        "plt.xlabel('Epoch')\n",
        "plt.ylabel('Accuracy')\n",
        "plt.legend()\n",
        "plt.show()\n",
        "\n",
        "# Loss\n",
        "plt.plot(history.history['loss'], label='Train')\n",
        "plt.plot(history.history['val_loss'], label='Valid')\n",
        "plt.title('Model Loss')\n",
        "plt.xlabel('Epoch')\n",
        "plt.ylabel('Loss')\n",
        "plt.legend()\n",
        "plt.show()"
      ],
      "metadata": {
        "colab": {
          "base_uri": "https://localhost:8080/",
          "height": 927
        },
        "id": "HLQwdMXrH5Sj",
        "outputId": "fe83d251-a5d9-404c-b398-66d1bf79113f"
      },
      "execution_count": null,
      "outputs": [
        {
          "output_type": "display_data",
          "data": {
            "text/plain": [
              "<Figure size 640x480 with 1 Axes>"
            ],
            "image/png": "[encoded data removed]"
          },
          "metadata": {}
        },
        {
          "output_type": "display_data",
          "data": {
            "text/plain": [
              "<Figure size 640x480 with 1 Axes>"
            ],
            "image/png": "[encoded data removed]"
          },
          "metadata": {}
        }
      ]
    },
    {
      "cell_type": "markdown",
      "source": [
        "# 📌 Step 9: Inference on a single image"
      ],
      "metadata": {
        "id": "4n3AYVFFWCFJ"
      }
    },
    {
      "cell_type": "code",
      "source": [
        "class_labels = list(train_generator.class_indices.keys())"
      ],
      "metadata": {
        "id": "twSqTqkuXA2A"
      },
      "execution_count": null,
      "outputs": []
    },
    {
      "cell_type": "code",
      "source": [
        "class_labels"
      ],
      "metadata": {
        "colab": {
          "base_uri": "https://localhost:8080/"
        },
        "id": "5wEiuIQBXCCC",
        "outputId": "e46f06d4-9e46-43b9-ed65-58e61c4aec8b"
      },
      "execution_count": null,
      "outputs": [
        {
          "output_type": "execute_result",
          "data": {
            "text/plain": [
              "['angry', 'disgust', 'fear', 'happy', 'neutral', 'sad', 'surprise']"
            ]
          },
          "metadata": {},
          "execution_count": 14
        }
      ]
    },
    {
      "cell_type": "code",
      "source": [
        "from tensorflow.keras.preprocessing import image\n",
        "import numpy as np"
      ],
      "metadata": {
        "id": "S8nsQIR6cAtY"
      },
      "execution_count": null,
      "outputs": []
    },
    {
      "cell_type": "code",
      "source": [
        "import os\n",
        "\n",
        "def predict_emotion(img_path):\n",
        "    # Get actual class name from file path\n",
        "    actual_label = os.path.basename(os.path.dirname(img_path))\n",
        "\n",
        "    # Load and preprocess image\n",
        "    img = image.load_img(img_path, color_mode='grayscale')\n",
        "    img_array = image.img_to_array(img)\n",
        "    img_array = np.expand_dims(img_array, axis=0) / 255.0\n",
        "\n",
        "    # Predict\n",
        "    prediction = model.predict(img_array)\n",
        "    predicted_class = np.argmax(prediction)\n",
        "    predicted_label = class_labels[predicted_class]\n",
        "\n",
        "    # Display image with actual & predicted label\n",
        "    plt.imshow(img_array[0].squeeze(), cmap='gray')\n",
        "    plt.title(f\"Actual: {actual_label.capitalize()} | Predicted: {predicted_label.capitalize()}\")\n",
        "    plt.axis('off')\n",
        "    plt.show()"
      ],
      "metadata": {
        "id": "AeI9R27wWEIp"
      },
      "execution_count": null,
      "outputs": []
    },
    {
      "cell_type": "code",
      "source": [
        "predict_emotion(\"/content/test/happy/PrivateTest_13103594.jpg\")"
      ],
      "metadata": {
        "colab": {
          "base_uri": "https://localhost:8080/",
          "height": 446
        },
        "id": "5LTQrExgXE6x",
        "outputId": "3a6b3b8e-97d7-4a7c-9f06-14fd8d87bab5"
      },
      "execution_count": null,
      "outputs": [
        {
          "output_type": "stream",
          "name": "stdout",
          "text": [
            "\u001b[1m1/1\u001b[0m \u001b[32m━━━━━━━━━━━━━━━━━━━━\u001b[0m\u001b[37m\u001b[0m \u001b[1m1s\u001b[0m 531ms/step\n"
          ]
        },
        {
          "output_type": "display_data",
          "data": {
            "text/plain": [
              "<Figure size 640x480 with 1 Axes>"
            ],
            "image/png": "[encoded data removed]"
          },
          "metadata": {}
        }
      ]
    },
    {
      "cell_type": "code",
      "source": [
        "predict_emotion(\"/content/test/surprise/PrivateTest_13683211.jpg\")"
      ],
      "metadata": {
        "colab": {
          "base_uri": "https://localhost:8080/",
          "height": 446
        },
        "id": "g4sl_VvgcQrJ",
        "outputId": "854b8d10-5b16-48e6-facf-212c0a1cccd5"
      },
      "execution_count": null,
      "outputs": [
        {
          "output_type": "stream",
          "name": "stdout",
          "text": [
            "\u001b[1m1/1\u001b[0m \u001b[32m━━━━━━━━━━━━━━━━━━━━\u001b[0m\u001b[37m\u001b[0m \u001b[1m0s\u001b[0m 33ms/step\n"
          ]
        },
        {
          "output_type": "display_data",
          "data": {
            "text/plain": [
              "<Figure size 640x480 with 1 Axes>"
            ],
            "image/png": "[encoded data removed]"
          },
          "metadata": {}
        }
      ]
    },
    {
      "cell_type": "code",
      "source": [
        "predict_emotion(\"/content/test/fear/PrivateTest_11014592.jpg\")"
      ],
      "metadata": {
        "colab": {
          "base_uri": "https://localhost:8080/",
          "height": 446
        },
        "id": "hm1qtqulcafS",
        "outputId": "28fda415-15dd-46d6-d16b-c81b70f89715"
      },
      "execution_count": null,
      "outputs": [
        {
          "output_type": "stream",
          "name": "stdout",
          "text": [
            "\u001b[1m1/1\u001b[0m \u001b[32m━━━━━━━━━━━━━━━━━━━━\u001b[0m\u001b[37m\u001b[0m \u001b[1m0s\u001b[0m 32ms/step\n"
          ]
        },
        {
          "output_type": "display_data",
          "data": {
            "text/plain": [
              "<Figure size 640x480 with 1 Axes>"
            ],
            "image/png": "[encoded data removed]"
          },
          "metadata": {}
        }
      ]
    },
    {
      "cell_type": "code",
      "source": [
        "predict_emotion(\"/content/test/sad/PrivateTest_10814167.jpg\")"
      ],
      "metadata": {
        "colab": {
          "base_uri": "https://localhost:8080/",
          "height": 446
        },
        "id": "G6jKUmbVct6w",
        "outputId": "aeb675e7-5a5d-4cd6-c9f8-f97b9136f81e"
      },
      "execution_count": null,
      "outputs": [
        {
          "output_type": "stream",
          "name": "stdout",
          "text": [
            "\u001b[1m1/1\u001b[0m \u001b[32m━━━━━━━━━━━━━━━━━━━━\u001b[0m\u001b[37m\u001b[0m \u001b[1m0s\u001b[0m 32ms/step\n"
          ]
        },
        {
          "output_type": "display_data",
          "data": {
            "text/plain": [
              "<Figure size 640x480 with 1 Axes>"
            ],
            "image/png": "[encoded data removed]"
          },
          "metadata": {}
        }
      ]
    }
  ]
}