{
  "nbformat": 4,
  "nbformat_minor": 0,
  "metadata": {
    "colab": {
      "provenance": [],
      "gpuType": "T4"
    },
    "kernelspec": {
      "name": "python3",
      "display_name": "Python 3"
    },
    "language_info": {
      "name": "python"
    },
    "accelerator": "GPU"
  },
  "cells": [
    {
      "cell_type": "markdown",
      "source": [],
      "metadata": {
        "id": "87b6TNZJfIRw"
      }
    },
    {
      "cell_type": "markdown",
      "metadata": {
        "id": "7819241d"
      },
      "source": [
        "# Task\n",
        "Create a project report for the FER2013 dataset, including an explanation of the CNN architecture used, specifically why 52 filters and a 3x3 kernel size were chosen."
      ]
    },
    {
      "cell_type": "markdown",
      "source": [],
      "metadata": {
        "id": "8uF_pYQze6vO"
      }
    },
    {
      "cell_type": "markdown",
      "source": [],
      "metadata": {
        "id": "Jie1eJlvfSKn"
      }
    },
    {
      "cell_type": "markdown",
      "metadata": {
        "id": "0cb23175"
      },
      "source": [
        "## Project overview\n",
        "\n",
        "### Subtask:\n",
        "Summarize the problem statement and the goal of the project.\n"
      ]
    },
    {
      "cell_type": "markdown",
      "source": [],
      "metadata": {
        "id": "62QECgSNffoJ"
      }
    },
    {
      "cell_type": "markdown",
      "metadata": {
        "id": "35a90eca"
      },
      "source": [
        "**Reasoning**:\n",
        "Summarize the problem statement and the goal of the project in a markdown cell based on the provided context.\n",
        "\n"
      ]
    },
    {
      "cell_type": "markdown",
      "source": [
        "**Problem Statement**:\n",
        "This project aims to develop a deep learning model that can recognize emotions from facial expressions in images. Using a convolutional neural network (CNN), the task is to classify facial expressions into different emotional categories such as \"Happy,\" \"Sad,\" \"Angry,\" \"Surprised,\" and others. The goal is to build an emotion recognition system that can accurately predict emotions from facial images.\n"
      ],
      "metadata": {
        "id": "aVsg_UMLZSL5"
      }
    },
    {
      "cell_type": "code",
      "metadata": {
        "id": "be59051e"
      },
      "source": [
        "# Problem Statement:\n",
        "# The problem addresses the challenge of recognizing human emotions directly from facial expressions in images.\n",
        "# This is a key task in computer vision with applications in various fields such as human-computer interaction,\n",
        "# psychological research, and content analysis.\n",
        "\n",
        "# Goal:\n",
        "# The primary goal of this project is to develop a robust deep learning model, specifically a Convolutional Neural Network (CNN),\n",
        "# capable of accurately classifying facial images into predefined emotional categories.\n",
        "# The target categories for classification include \"Happy,\" \"Sad,\" \"Angry,\" \"Surprised,\" and potentially other relevant emotions present in the dataset.\n",
        "# The aim is to build an automated system that can reliably identify the emotional state conveyed by a person's face in an image."
      ],
      "execution_count": 13,
      "outputs": []
    },
    {
      "cell_type": "markdown",
      "source": [
        "The six universal emotions—happiness, sadness, surprise, anger, fear, disgust—often appear consistently across races and cultures, as found in foundational studies by Ekman & Friesen"
      ],
      "metadata": {
        "id": "n6w-cbVFnK3m"
      }
    },
    {
      "cell_type": "markdown",
      "source": [],
      "metadata": {
        "id": "ra9f2WlVoro4"
      }
    },
    {
      "cell_type": "markdown",
      "source": [
        "# New Section"
      ],
      "metadata": {
        "id": "wM70c84chXBb"
      }
    },
    {
      "cell_type": "markdown",
      "source": [],
      "metadata": {
        "id": "F1g1UK77gLJM"
      }
    },
    {
      "cell_type": "markdown",
      "source": [
        "# 📌 Step 1: Install Required Libraries"
      ],
      "metadata": {
        "id": "Slcw15EuFHxa"
      }
    },
    {
      "cell_type": "code",
      "execution_count": 14,
      "metadata": {
        "id": "LdTVQWtrE0Qq"
      },
      "outputs": [],
      "source": [
        "!pip install kaggle --quiet\n",
        "!pip install tensorflow matplotlib seaborn --quiet"
      ]
    },
    {
      "cell_type": "markdown",
      "source": [
        "# 📌 Step 2: Upload Your Kaggle API Token\n",
        "Go to https://www.kaggle.com/settings\n",
        "\n",
        "Scroll down to “API” and click “Create New API Token”\n",
        "\n",
        "Upload the kaggle.json file in Colab"
      ],
      "metadata": {
        "id": "_8RAuHA-FMqB"
      }
    },
    {
      "cell_type": "code",
      "source": [
        "kaggle_api = '/content/kaggle.json'"
      ],
      "metadata": {
        "id": "EbBAoOVhFKWz"
      },
      "execution_count": 15,
      "outputs": []
    },
    {
      "cell_type": "code",
      "source": [
        "# Copy Kaggle API Key from Drive to .kaggle/\n",
        "!mkdir -p ~/.kaggle\n",
        "!cp /content/kaggle.json ~/.kaggle/\n",
        "!chmod 600 ~/.kaggle/kaggle.json"
      ],
      "metadata": {
        "id": "PN5eGUw3Fiak"
      },
      "execution_count": 23,
      "outputs": []
    },
    {
      "cell_type": "markdown",
      "source": [],
      "metadata": {
        "id": "mscVkupEszR_"
      }
    },
    {
      "cell_type": "code",
      "metadata": {
        "id": "2a809ae0"
      },
      "source": [
        "# ## Dataset Description: FER2013\n",
        "# The FER2013 dataset is a collection of grayscale facial images, each labeled with one of seven emotional categories.\n",
        "# These categories are: Angry, Disgust, Fear, Happy, Neutral, Sad, and Surprise.\n",
        "#\n",
        "# The dataset is split into training and testing sets.\n",
        "# Based on the ImageDataGenerator output in Step 4:\n",
        "# - The training set contains 22,968 images.\n",
        "# - A validation set was created from the training data, containing 5,741 images.\n",
        "# - The test set contains 7,178 images."
      ],
      "execution_count": 24,
      "outputs": []
    },
    {
      "cell_type": "markdown",
      "source": [
        "# 📌 Step 3: Download FER2013 Dataset from Kaggle"
      ],
      "metadata": {
        "id": "SUa9_nvZF284"
      }
    },
    {
      "cell_type": "code",
      "source": [
        "!kaggle datasets download -d msambare/fer2013\n",
        "!unzip -q fer2013.zip"
      ],
      "metadata": {
        "colab": {
          "base_uri": "https://localhost:8080/"
        },
        "id": "fnN7zkN9FwKi",
        "outputId": "294e1538-9a74-4abe-db43-4b8cfaeae987"
      },
      "execution_count": 25,
      "outputs": [
        {
          "output_type": "stream",
          "name": "stdout",
          "text": [
            "Dataset URL: https://www.kaggle.com/datasets/msambare/fer2013\n",
            "License(s): DbCL-1.0\n",
            "Downloading fer2013.zip to /content\n",
            "  0% 0.00/60.3M [00:00<?, ?B/s]\n",
            "100% 60.3M/60.3M [00:00<00:00, 1.32GB/s]\n"
          ]
        }
      ]
    },
    {
      "cell_type": "markdown",
      "source": [
        "# 📌 Step 4: Set Up Image Data Loaders"
      ],
      "metadata": {
        "id": "GU3CKjQSGEX6"
      }
    },
    {
      "cell_type": "code",
      "source": [
        "from tensorflow.keras.preprocessing.image import ImageDataGenerator\n",
        "\n",
        "# Base directory\n",
        "train_dir = \"/content/train\"\n",
        "test_dir = \"/content/test\"\n",
        "\n",
        "# Create ImageDataGenerator with validation split\n",
        "datagen = ImageDataGenerator(\n",
        "    rescale=1./255,\n",
        "    validation_split=0.2  # 20% of training data for validation\n",
        ")\n",
        "\n",
        "# Training generator (80% of train data)\n",
        "train_generator = datagen.flow_from_directory(\n",
        "    train_dir,\n",
        "    target_size=(48, 48),\n",
        "    batch_size=64,\n",
        "    color_mode='grayscale',\n",
        "    class_mode='categorical',\n",
        "    subset='training',\n",
        "    shuffle=True\n",
        ")\n",
        "\n",
        "# Validation generator (20% of train data)\n",
        "val_generator = datagen.flow_from_directory(\n",
        "    train_dir,\n",
        "    target_size=(48, 48),\n",
        "    batch_size=64,\n",
        "    color_mode='grayscale',\n",
        "    class_mode='categorical',\n",
        "    subset='validation',\n",
        "    shuffle=True\n",
        ")\n",
        "\n",
        "# Test generator (no split needed)\n",
        "test_datagen = ImageDataGenerator(rescale=1./255)\n",
        "test_generator = test_datagen.flow_from_directory(\n",
        "    test_dir,\n",
        "    target_size=(48, 48),\n",
        "    batch_size=64,\n",
        "    color_mode='grayscale',\n",
        "    class_mode='categorical',\n",
        "    shuffle=False\n",
        ")"
      ],
      "metadata": {
        "colab": {
          "base_uri": "https://localhost:8080/"
        },
        "id": "bPND1TzbF7Oj",
        "outputId": "cc26b2c0-75f7-4159-dc20-7230d781552b"
      },
      "execution_count": 26,
      "outputs": [
        {
          "output_type": "stream",
          "name": "stdout",
          "text": [
            "Found 22968 images belonging to 7 classes.\n",
            "Found 5741 images belonging to 7 classes.\n",
            "Found 7178 images belonging to 7 classes.\n"
          ]
        }
      ]
    },
    {
      "cell_type": "markdown",
      "source": [
        "# The CNN model is designed to learn hierarchical features from the facial images. Here's a breakdown of the architecture and the reasoning behind some of the choices:\n",
        "\n",
        "\n",
        "Convolutional Layers (Conv2D): These are the core building blocks of the CNN\n",
        "They apply filters (kernels) to the input image to detect patterns and features.\n",
        "First Layer (52 filters, 3x3 kernel): The first convolutional layer uses 52 filters with a 3x3 kernel size. The initial number of filters is chosen to capture a variety of basic features like edges, corners, and simple textures. A 3x3 kernel is a common choice in early layers because it's small enough to detect local features efficiently while still capturing some spatial information.\n",
        "Second Layer (104 filters, 3x3 kernel): The second convolutional layer increases the number of filters to 104. As the network goes deeper, the filters learn more complex and abstract features. Doubling the number of filters allows the network to detect a wider range of these more intricate patterns. The 3x3 kernel is again used for its balance of local feature detection and computational efficiency.\n",
        "MaxPooling2D Layers: These layers downsample the output of the convolutional layers, reducing the spatial dimensions and the number of parameters. This helps to make the model more robust to small variations in the input image and reduces computational cost. A 2x2 pool size is standard, taking the maximum value from each 2x2 block.\n",
        "Dropout Layers: Dropout is a regularization technique where a random subset of neurons is deactivated during training. This helps to prevent overfitting by forcing the network to learn more robust features that are not dependent on any single neuron. The dropout rates (0.25 and 0.5) are hyperparameters that are often tuned to find the best performance.\n",
        "Flatten Layer: This layer converts the 2D feature maps from the convolutional and pooling layers into a 1D vector, which is then fed into the fully connected layers.\n",
        "Dense Layers: These are fully connected layers where every neuron in the layer is connected to every neuron in the previous layer.\n",
        "First Dense Layer (208 neurons): This layer takes the flattened features and learns higher-level combinations of these features. The number of neurons is typically larger than the number of output classes to allow for more complex feature representations.\n",
        "Second Dense Layer (7 neurons): This is the output layer, with one neuron for each of the 7 emotion classes. The softmax activation function is used to output a probability distribution over the classes, indicating the model's confidence in each emotion.\n",
        "Activation Functions (ReLU and Softmax):\n",
        "ReLU (Rectified Linear Unit): Used in the convolutional and first dense layers, ReLU introduces non-linearity into the model, allowing it to learn more complex relationships in the data.\n",
        "Softmax: Used in the output layer, softmax converts the raw output scores into probabilities that sum up to 1, making it suitable for multi-class classification.\n",
        "Optimizer (Adam): Adam is a popular optimization algorithm that efficiently updates the model's weights during training.\n",
        "Loss Function (Categorical Crossentropy): This is the standard loss function for multi-class classification problems, measuring the difference between the predicted probabilities and the actual class labels.\n",
        "The specific values for the number of filters and the kernel size are often chosen based on common practices in CNN architectures and can be further optimized through experimentation and hyperparameter tuning. The goal is to find a balance between model complexity, performance, and computational resources.\n",
        "\n"
      ],
      "metadata": {
        "id": "K3fF3eEpagai"
      }
    },
    {
      "cell_type": "markdown",
      "source": [
        "# 📌 Step 5: Build the CNN Model"
      ],
      "metadata": {
        "id": "ieCD03dzG1hj"
      }
    },
    {
      "cell_type": "code",
      "source": [
        "from tensorflow.keras.models import Sequential\n",
        "from tensorflow.keras.layers import Conv2D, MaxPooling2D, Flatten, Dense, Dropout\n",
        "\n",
        "model = Sequential([\n",
        "    Conv2D(52, (3, 3), activation='relu', input_shape=(48, 48, 1)),\n",
        "    MaxPooling2D(2, 2),\n",
        "    Dropout(0.25),\n",
        "\n",
        "    Conv2D(104, (3, 3), activation='relu'),\n",
        "    MaxPooling2D(2, 2),\n",
        "    Dropout(0.25),\n",
        "\n",
        "    Flatten(),\n",
        "    Dense(208, activation='relu'),\n",
        "    Dropout(0.5),\n",
        "    Dense(7, activation='softmax')  # 7 classes\n",
        "])\n",
        "\n",
        "model.compile(optimizer='adam', loss='categorical_crossentropy', metrics=['accuracy'])\n",
        "model.summary()"
      ],
      "metadata": {
        "colab": {
          "base_uri": "https://localhost:8080/",
          "height": 527
        },
        "id": "srA5LtciGF8K",
        "outputId": "ccdd8201-4ea9-41b8-94d7-f0534a716c27"
      },
      "execution_count": 27,
      "outputs": [
        {
          "output_type": "stream",
          "name": "stderr",
          "text": [
            "/usr/local/lib/python3.11/dist-packages/keras/src/layers/convolutional/base_conv.py:107: UserWarning: Do not pass an `input_shape`/`input_dim` argument to a layer. When using Sequential models, prefer using an `Input(shape)` object as the first layer in the model instead.\n",
            "  super().__init__(activity_regularizer=activity_regularizer, **kwargs)\n"
          ]
        },
        {
          "output_type": "display_data",
          "data": {
            "text/plain": [
              "\u001b[1mModel: \"sequential\"\u001b[0m\n"
            ],
            "text/html": [
              "<pre style=\"white-space:pre;overflow-x:auto;line-height:normal;font-family:Menlo,'DejaVu Sans Mono',consolas,'Courier New',monospace\"><span style=\"font-weight: bold\">Model: \"sequential\"</span>\n",
              "</pre>\n"
            ]
          },
          "metadata": {}
        },
        {
          "output_type": "display_data",
          "data": {
            "text/plain": [
              "┏━━━━━━━━━━━━━━━━━━━━━━━━━━━━━━━━━┳━━━━━━━━━━━━━━━━━━━━━━━━┳━━━━━━━━━━━━━━━┓\n",
              "┃\u001b[1m \u001b[0m\u001b[1mLayer (type)                   \u001b[0m\u001b[1m \u001b[0m┃\u001b[1m \u001b[0m\u001b[1mOutput Shape          \u001b[0m\u001b[1m \u001b[0m┃\u001b[1m \u001b[0m\u001b[1m      Param #\u001b[0m\u001b[1m \u001b[0m┃\n",
              "┡━━━━━━━━━━━━━━━━━━━━━━━━━━━━━━━━━╇━━━━━━━━━━━━━━━━━━━━━━━━╇━━━━━━━━━━━━━━━┩\n",
              "│ conv2d (\u001b[38;5;33mConv2D\u001b[0m)                 │ (\u001b[38;5;45mNone\u001b[0m, \u001b[38;5;34m46\u001b[0m, \u001b[38;5;34m46\u001b[0m, \u001b[38;5;34m52\u001b[0m)     │           \u001b[38;5;34m520\u001b[0m │\n",
              "├─────────────────────────────────┼────────────────────────┼───────────────┤\n",
              "│ max_pooling2d (\u001b[38;5;33mMaxPooling2D\u001b[0m)    │ (\u001b[38;5;45mNone\u001b[0m, \u001b[38;5;34m23\u001b[0m, \u001b[38;5;34m23\u001b[0m, \u001b[38;5;34m52\u001b[0m)     │             \u001b[38;5;34m0\u001b[0m │\n",
              "├─────────────────────────────────┼────────────────────────┼───────────────┤\n",
              "│ dropout (\u001b[38;5;33mDropout\u001b[0m)               │ (\u001b[38;5;45mNone\u001b[0m, \u001b[38;5;34m23\u001b[0m, \u001b[38;5;34m23\u001b[0m, \u001b[38;5;34m52\u001b[0m)     │             \u001b[38;5;34m0\u001b[0m │\n",
              "├─────────────────────────────────┼────────────────────────┼───────────────┤\n",
              "│ conv2d_1 (\u001b[38;5;33mConv2D\u001b[0m)               │ (\u001b[38;5;45mNone\u001b[0m, \u001b[38;5;34m21\u001b[0m, \u001b[38;5;34m21\u001b[0m, \u001b[38;5;34m104\u001b[0m)    │        \u001b[38;5;34m48,776\u001b[0m │\n",
              "├─────────────────────────────────┼────────────────────────┼───────────────┤\n",
              "│ max_pooling2d_1 (\u001b[38;5;33mMaxPooling2D\u001b[0m)  │ (\u001b[38;5;45mNone\u001b[0m, \u001b[38;5;34m10\u001b[0m, \u001b[38;5;34m10\u001b[0m, \u001b[38;5;34m104\u001b[0m)    │             \u001b[38;5;34m0\u001b[0m │\n",
              "├─────────────────────────────────┼────────────────────────┼───────────────┤\n",
              "│ dropout_1 (\u001b[38;5;33mDropout\u001b[0m)             │ (\u001b[38;5;45mNone\u001b[0m, \u001b[38;5;34m10\u001b[0m, \u001b[38;5;34m10\u001b[0m, \u001b[38;5;34m104\u001b[0m)    │             \u001b[38;5;34m0\u001b[0m │\n",
              "├─────────────────────────────────┼────────────────────────┼───────────────┤\n",
              "│ flatten (\u001b[38;5;33mFlatten\u001b[0m)               │ (\u001b[38;5;45mNone\u001b[0m, \u001b[38;5;34m10400\u001b[0m)          │             \u001b[38;5;34m0\u001b[0m │\n",
              "├─────────────────────────────────┼────────────────────────┼───────────────┤\n",
              "│ dense (\u001b[38;5;33mDense\u001b[0m)                   │ (\u001b[38;5;45mNone\u001b[0m, \u001b[38;5;34m208\u001b[0m)            │     \u001b[38;5;34m2,163,408\u001b[0m │\n",
              "├─────────────────────────────────┼────────────────────────┼───────────────┤\n",
              "│ dropout_2 (\u001b[38;5;33mDropout\u001b[0m)             │ (\u001b[38;5;45mNone\u001b[0m, \u001b[38;5;34m208\u001b[0m)            │             \u001b[38;5;34m0\u001b[0m │\n",
              "├─────────────────────────────────┼────────────────────────┼───────────────┤\n",
              "│ dense_1 (\u001b[38;5;33mDense\u001b[0m)                 │ (\u001b[38;5;45mNone\u001b[0m, \u001b[38;5;34m7\u001b[0m)              │         \u001b[38;5;34m1,463\u001b[0m │\n",
              "└─────────────────────────────────┴────────────────────────┴───────────────┘\n"
            ],
            "text/html": [
              "<pre style=\"white-space:pre;overflow-x:auto;line-height:normal;font-family:Menlo,'DejaVu Sans Mono',consolas,'Courier New',monospace\">┏━━━━━━━━━━━━━━━━━━━━━━━━━━━━━━━━━┳━━━━━━━━━━━━━━━━━━━━━━━━┳━━━━━━━━━━━━━━━┓\n",
              "┃<span style=\"font-weight: bold\"> Layer (type)                    </span>┃<span style=\"font-weight: bold\"> Output Shape           </span>┃<span style=\"font-weight: bold\">       Param # </span>┃\n",
              "┡━━━━━━━━━━━━━━━━━━━━━━━━━━━━━━━━━╇━━━━━━━━━━━━━━━━━━━━━━━━╇━━━━━━━━━━━━━━━┩\n",
              "│ conv2d (<span style=\"color: #0087ff; text-decoration-color: #0087ff\">Conv2D</span>)                 │ (<span style=\"color: #00d7ff; text-decoration-color: #00d7ff\">None</span>, <span style=\"color: #00af00; text-decoration-color: #00af00\">46</span>, <span style=\"color: #00af00; text-decoration-color: #00af00\">46</span>, <span style=\"color: #00af00; text-decoration-color: #00af00\">52</span>)     │           <span style=\"color: #00af00; text-decoration-color: #00af00\">520</span> │\n",
              "├─────────────────────────────────┼────────────────────────┼───────────────┤\n",
              "│ max_pooling2d (<span style=\"color: #0087ff; text-decoration-color: #0087ff\">MaxPooling2D</span>)    │ (<span style=\"color: #00d7ff; text-decoration-color: #00d7ff\">None</span>, <span style=\"color: #00af00; text-decoration-color: #00af00\">23</span>, <span style=\"color: #00af00; text-decoration-color: #00af00\">23</span>, <span style=\"color: #00af00; text-decoration-color: #00af00\">52</span>)     │             <span style=\"color: #00af00; text-decoration-color: #00af00\">0</span> │\n",
              "├─────────────────────────────────┼────────────────────────┼───────────────┤\n",
              "│ dropout (<span style=\"color: #0087ff; text-decoration-color: #0087ff\">Dropout</span>)               │ (<span style=\"color: #00d7ff; text-decoration-color: #00d7ff\">None</span>, <span style=\"color: #00af00; text-decoration-color: #00af00\">23</span>, <span style=\"color: #00af00; text-decoration-color: #00af00\">23</span>, <span style=\"color: #00af00; text-decoration-color: #00af00\">52</span>)     │             <span style=\"color: #00af00; text-decoration-color: #00af00\">0</span> │\n",
              "├─────────────────────────────────┼────────────────────────┼───────────────┤\n",
              "│ conv2d_1 (<span style=\"color: #0087ff; text-decoration-color: #0087ff\">Conv2D</span>)               │ (<span style=\"color: #00d7ff; text-decoration-color: #00d7ff\">None</span>, <span style=\"color: #00af00; text-decoration-color: #00af00\">21</span>, <span style=\"color: #00af00; text-decoration-color: #00af00\">21</span>, <span style=\"color: #00af00; text-decoration-color: #00af00\">104</span>)    │        <span style=\"color: #00af00; text-decoration-color: #00af00\">48,776</span> │\n",
              "├─────────────────────────────────┼────────────────────────┼───────────────┤\n",
              "│ max_pooling2d_1 (<span style=\"color: #0087ff; text-decoration-color: #0087ff\">MaxPooling2D</span>)  │ (<span style=\"color: #00d7ff; text-decoration-color: #00d7ff\">None</span>, <span style=\"color: #00af00; text-decoration-color: #00af00\">10</span>, <span style=\"color: #00af00; text-decoration-color: #00af00\">10</span>, <span style=\"color: #00af00; text-decoration-color: #00af00\">104</span>)    │             <span style=\"color: #00af00; text-decoration-color: #00af00\">0</span> │\n",
              "├─────────────────────────────────┼────────────────────────┼───────────────┤\n",
              "│ dropout_1 (<span style=\"color: #0087ff; text-decoration-color: #0087ff\">Dropout</span>)             │ (<span style=\"color: #00d7ff; text-decoration-color: #00d7ff\">None</span>, <span style=\"color: #00af00; text-decoration-color: #00af00\">10</span>, <span style=\"color: #00af00; text-decoration-color: #00af00\">10</span>, <span style=\"color: #00af00; text-decoration-color: #00af00\">104</span>)    │             <span style=\"color: #00af00; text-decoration-color: #00af00\">0</span> │\n",
              "├─────────────────────────────────┼────────────────────────┼───────────────┤\n",
              "│ flatten (<span style=\"color: #0087ff; text-decoration-color: #0087ff\">Flatten</span>)               │ (<span style=\"color: #00d7ff; text-decoration-color: #00d7ff\">None</span>, <span style=\"color: #00af00; text-decoration-color: #00af00\">10400</span>)          │             <span style=\"color: #00af00; text-decoration-color: #00af00\">0</span> │\n",
              "├─────────────────────────────────┼────────────────────────┼───────────────┤\n",
              "│ dense (<span style=\"color: #0087ff; text-decoration-color: #0087ff\">Dense</span>)                   │ (<span style=\"color: #00d7ff; text-decoration-color: #00d7ff\">None</span>, <span style=\"color: #00af00; text-decoration-color: #00af00\">208</span>)            │     <span style=\"color: #00af00; text-decoration-color: #00af00\">2,163,408</span> │\n",
              "├─────────────────────────────────┼────────────────────────┼───────────────┤\n",
              "│ dropout_2 (<span style=\"color: #0087ff; text-decoration-color: #0087ff\">Dropout</span>)             │ (<span style=\"color: #00d7ff; text-decoration-color: #00d7ff\">None</span>, <span style=\"color: #00af00; text-decoration-color: #00af00\">208</span>)            │             <span style=\"color: #00af00; text-decoration-color: #00af00\">0</span> │\n",
              "├─────────────────────────────────┼────────────────────────┼───────────────┤\n",
              "│ dense_1 (<span style=\"color: #0087ff; text-decoration-color: #0087ff\">Dense</span>)                 │ (<span style=\"color: #00d7ff; text-decoration-color: #00d7ff\">None</span>, <span style=\"color: #00af00; text-decoration-color: #00af00\">7</span>)              │         <span style=\"color: #00af00; text-decoration-color: #00af00\">1,463</span> │\n",
              "└─────────────────────────────────┴────────────────────────┴───────────────┘\n",
              "</pre>\n"
            ]
          },
          "metadata": {}
        },
        {
          "output_type": "display_data",
          "data": {
            "text/plain": [
              "\u001b[1m Total params: \u001b[0m\u001b[38;5;34m2,214,167\u001b[0m (8.45 MB)\n"
            ],
            "text/html": [
              "<pre style=\"white-space:pre;overflow-x:auto;line-height:normal;font-family:Menlo,'DejaVu Sans Mono',consolas,'Courier New',monospace\"><span style=\"font-weight: bold\"> Total params: </span><span style=\"color: #00af00; text-decoration-color: #00af00\">2,214,167</span> (8.45 MB)\n",
              "</pre>\n"
            ]
          },
          "metadata": {}
        },
        {
          "output_type": "display_data",
          "data": {
            "text/plain": [
              "\u001b[1m Trainable params: \u001b[0m\u001b[38;5;34m2,214,167\u001b[0m (8.45 MB)\n"
            ],
            "text/html": [
              "<pre style=\"white-space:pre;overflow-x:auto;line-height:normal;font-family:Menlo,'DejaVu Sans Mono',consolas,'Courier New',monospace\"><span style=\"font-weight: bold\"> Trainable params: </span><span style=\"color: #00af00; text-decoration-color: #00af00\">2,214,167</span> (8.45 MB)\n",
              "</pre>\n"
            ]
          },
          "metadata": {}
        },
        {
          "output_type": "display_data",
          "data": {
            "text/plain": [
              "\u001b[1m Non-trainable params: \u001b[0m\u001b[38;5;34m0\u001b[0m (0.00 B)\n"
            ],
            "text/html": [
              "<pre style=\"white-space:pre;overflow-x:auto;line-height:normal;font-family:Menlo,'DejaVu Sans Mono',consolas,'Courier New',monospace\"><span style=\"font-weight: bold\"> Non-trainable params: </span><span style=\"color: #00af00; text-decoration-color: #00af00\">0</span> (0.00 B)\n",
              "</pre>\n"
            ]
          },
          "metadata": {}
        }
      ]
    },
    {
      "cell_type": "code",
      "source": [
        "from tensorflow.keras.callbacks import ReduceLROnPlateau, EarlyStopping\n",
        "\n",
        "reduce_lr = ReduceLROnPlateau(monitor='val_loss', factor=0.2, patience=4, verbose=1)\n",
        "early_stop = EarlyStopping(monitor='val_loss', patience=8, restore_best_weights=True, verbose=1)"
      ],
      "metadata": {
        "id": "EGTe-iTJz0n3"
      },
      "execution_count": 31,
      "outputs": []
    },
    {
      "cell_type": "markdown",
      "source": [
        "# 📌 Step 6: Train the Model"
      ],
      "metadata": {
        "id": "kjog22sbH3ui"
      }
    },
    {
      "cell_type": "code",
      "source": [
        "history = model.fit(\n",
        "    train_generator,\n",
        "    validation_data=val_generator,batch_size=128,\n",
        "    epochs=100,callbacks=[early_stop, reduce_lr]\n",
        ")"
      ],
      "metadata": {
        "colab": {
          "base_uri": "https://localhost:8080/"
        },
        "id": "b2QpsrsvG4T6",
        "outputId": "2378cb24-72df-481e-e51e-c7ec744a987d"
      },
      "execution_count": 32,
      "outputs": [
        {
          "output_type": "stream",
          "name": "stdout",
          "text": [
            "Epoch 1/100\n",
            "\u001b[1m359/359\u001b[0m \u001b[32m━━━━━━━━━━━━━━━━━━━━\u001b[0m\u001b[37m\u001b[0m \u001b[1m10s\u001b[0m 27ms/step - accuracy: 0.7734 - loss: 0.5901 - val_accuracy: 0.5504 - val_loss: 1.4545 - learning_rate: 0.0010\n",
            "Epoch 2/100\n",
            "\u001b[1m359/359\u001b[0m \u001b[32m━━━━━━━━━━━━━━━━━━━━\u001b[0m\u001b[37m\u001b[0m \u001b[1m9s\u001b[0m 26ms/step - accuracy: 0.7796 - loss: 0.5822 - val_accuracy: 0.5509 - val_loss: 1.4528 - learning_rate: 0.0010\n",
            "Epoch 3/100\n",
            "\u001b[1m359/359\u001b[0m \u001b[32m━━━━━━━━━━━━━━━━━━━━\u001b[0m\u001b[37m\u001b[0m \u001b[1m11s\u001b[0m 30ms/step - accuracy: 0.7816 - loss: 0.5625 - val_accuracy: 0.5607 - val_loss: 1.4864 - learning_rate: 0.0010\n",
            "Epoch 4/100\n",
            "\u001b[1m359/359\u001b[0m \u001b[32m━━━━━━━━━━━━━━━━━━━━\u001b[0m\u001b[37m\u001b[0m \u001b[1m10s\u001b[0m 27ms/step - accuracy: 0.7848 - loss: 0.5612 - val_accuracy: 0.5539 - val_loss: 1.4803 - learning_rate: 0.0010\n",
            "Epoch 5/100\n",
            "\u001b[1m359/359\u001b[0m \u001b[32m━━━━━━━━━━━━━━━━━━━━\u001b[0m\u001b[37m\u001b[0m \u001b[1m10s\u001b[0m 27ms/step - accuracy: 0.7872 - loss: 0.5653 - val_accuracy: 0.5562 - val_loss: 1.4898 - learning_rate: 0.0010\n",
            "Epoch 6/100\n",
            "\u001b[1m357/359\u001b[0m \u001b[32m━━━━━━━━━━━━━━━━━━━\u001b[0m\u001b[37m━\u001b[0m \u001b[1m0s\u001b[0m 21ms/step - accuracy: 0.7867 - loss: 0.5545\n",
            "Epoch 6: ReduceLROnPlateau reducing learning rate to 0.00020000000949949026.\n",
            "\u001b[1m359/359\u001b[0m \u001b[32m━━━━━━━━━━━━━━━━━━━━\u001b[0m\u001b[37m\u001b[0m \u001b[1m9s\u001b[0m 26ms/step - accuracy: 0.7867 - loss: 0.5545 - val_accuracy: 0.5616 - val_loss: 1.4795 - learning_rate: 0.0010\n",
            "Epoch 7/100\n",
            "\u001b[1m359/359\u001b[0m \u001b[32m━━━━━━━━━━━━━━━━━━━━\u001b[0m\u001b[37m\u001b[0m \u001b[1m10s\u001b[0m 29ms/step - accuracy: 0.7949 - loss: 0.5394 - val_accuracy: 0.5623 - val_loss: 1.4901 - learning_rate: 2.0000e-04\n",
            "Epoch 8/100\n",
            "\u001b[1m359/359\u001b[0m \u001b[32m━━━━━━━━━━━━━━━━━━━━\u001b[0m\u001b[37m\u001b[0m \u001b[1m10s\u001b[0m 27ms/step - accuracy: 0.8007 - loss: 0.5103 - val_accuracy: 0.5654 - val_loss: 1.5007 - learning_rate: 2.0000e-04\n",
            "Epoch 9/100\n",
            "\u001b[1m359/359\u001b[0m \u001b[32m━━━━━━━━━━━━━━━━━━━━\u001b[0m\u001b[37m\u001b[0m \u001b[1m11s\u001b[0m 30ms/step - accuracy: 0.8092 - loss: 0.4999 - val_accuracy: 0.5626 - val_loss: 1.5148 - learning_rate: 2.0000e-04\n",
            "Epoch 10/100\n",
            "\u001b[1m359/359\u001b[0m \u001b[32m━━━━━━━━━━━━━━━━━━━━\u001b[0m\u001b[37m\u001b[0m \u001b[1m0s\u001b[0m 23ms/step - accuracy: 0.8048 - loss: 0.5034\n",
            "Epoch 10: ReduceLROnPlateau reducing learning rate to 4.0000001899898055e-05.\n",
            "\u001b[1m359/359\u001b[0m \u001b[32m━━━━━━━━━━━━━━━━━━━━\u001b[0m\u001b[37m\u001b[0m \u001b[1m10s\u001b[0m 27ms/step - accuracy: 0.8048 - loss: 0.5034 - val_accuracy: 0.5656 - val_loss: 1.5268 - learning_rate: 2.0000e-04\n",
            "Epoch 10: early stopping\n",
            "Restoring model weights from the end of the best epoch: 2.\n"
          ]
        }
      ]
    },
    {
      "cell_type": "markdown",
      "source": [
        "# 📌 Step 7: Evaluate on Test Data\n"
      ],
      "metadata": {
        "id": "taJSuB_eWcsZ"
      }
    },
    {
      "cell_type": "code",
      "source": [
        "test_loss, test_accuracy = model.evaluate(test_generator)\n",
        "print(f\"Test Accuracy: {test_accuracy:.4f}\")"
      ],
      "metadata": {
        "colab": {
          "base_uri": "https://localhost:8080/"
        },
        "id": "9AQaKa12WfNy",
        "outputId": "e4c0dddd-8fa9-4884-fe36-f047a79b1c76"
      },
      "execution_count": 33,
      "outputs": [
        {
          "output_type": "stream",
          "name": "stdout",
          "text": [
            "\u001b[1m113/113\u001b[0m \u001b[32m━━━━━━━━━━━━━━━━━━━━\u001b[0m\u001b[37m\u001b[0m \u001b[1m3s\u001b[0m 25ms/step - accuracy: 0.5135 - loss: 1.5162\n",
            "Test Accuracy: 0.5584\n"
          ]
        }
      ]
    },
    {
      "cell_type": "markdown",
      "source": [
        "# 📌 Step 8: Plot Training and Validation Metrics"
      ],
      "metadata": {
        "id": "XelK6wQ-OAjx"
      }
    },
    {
      "cell_type": "code",
      "source": [
        "import matplotlib.pyplot as plt\n",
        "\n",
        "# Accuracy\n",
        "plt.plot(history.history['accuracy'], label='Train')\n",
        "plt.plot(history.history['val_accuracy'], label='Valid')\n",
        "plt.title('Model Accuracy')\n",
        "plt.xlabel('Epoch')\n",
        "plt.ylabel('Accuracy')\n",
        "plt.legend()\n",
        "plt.show()\n",
        "\n",
        "# Loss\n",
        "plt.plot(history.history['loss'], label='Train')\n",
        "plt.plot(history.history['val_loss'], label='Valid')\n",
        "plt.title('Model Loss')\n",
        "plt.xlabel('Epoch')\n",
        "plt.ylabel('Loss')\n",
        "plt.legend()\n",
        "plt.show()"
      ],
      "metadata": {
        "colab": {
          "base_uri": "https://localhost:8080/",
          "height": 927
        },
        "id": "HLQwdMXrH5Sj",
        "outputId": "c49bb407-e7da-47c3-c4f5-9b29641cbcb6"
      },
      "execution_count": 34,
      "outputs": [
        {
          "output_type": "display_data",
          "data": {
            "text/plain": [
              "<Figure size 640x480 with 1 Axes>"
            ],
            "image/png": "[encoded data removed]"
          },
          "metadata": {}
        },
        {
          "output_type": "display_data",
          "data": {
            "text/plain": [
              "<Figure size 640x480 with 1 Axes>"
            ],
            "image/png": "[encoded data removed]"
          },
          "metadata": {}
        }
      ]
    },
    {
      "cell_type": "markdown",
      "source": [
        "# 📌 Step 9: Inference on a single image"
      ],
      "metadata": {
        "id": "4n3AYVFFWCFJ"
      }
    },
    {
      "cell_type": "code",
      "source": [
        "class_labels = list(train_generator.class_indices.keys())"
      ],
      "metadata": {
        "id": "twSqTqkuXA2A"
      },
      "execution_count": 35,
      "outputs": []
    },
    {
      "cell_type": "code",
      "source": [
        "class_labels"
      ],
      "metadata": {
        "colab": {
          "base_uri": "https://localhost:8080/"
        },
        "id": "5wEiuIQBXCCC",
        "outputId": "d14b4476-9a3e-4d77-eca7-d1fc9821f6ef"
      },
      "execution_count": 36,
      "outputs": [
        {
          "output_type": "execute_result",
          "data": {
            "text/plain": [
              "['angry', 'disgust', 'fear', 'happy', 'neutral', 'sad', 'surprise']"
            ]
          },
          "metadata": {},
          "execution_count": 36
        }
      ]
    },
    {
      "cell_type": "code",
      "source": [
        "from tensorflow.keras.preprocessing import image\n",
        "import numpy as np"
      ],
      "metadata": {
        "id": "S8nsQIR6cAtY"
      },
      "execution_count": 37,
      "outputs": []
    },
    {
      "cell_type": "code",
      "source": [
        "import os\n",
        "\n",
        "def predict_emotion(img_path):\n",
        "    # Get actual class name from file path\n",
        "    actual_label = os.path.basename(os.path.dirname(img_path))\n",
        "\n",
        "    # Load and preprocess image\n",
        "    img = image.load_img(img_path, color_mode='grayscale')\n",
        "    img_array = image.img_to_array(img)\n",
        "    img_array = np.expand_dims(img_array, axis=0) / 255.0\n",
        "\n",
        "    # Predict\n",
        "    prediction = model.predict(img_array)\n",
        "    predicted_class = np.argmax(prediction)\n",
        "    predicted_label = class_labels[predicted_class]\n",
        "\n",
        "    # Display image with actual & predicted label\n",
        "    plt.imshow(img_array[0].squeeze(), cmap='gray')\n",
        "    plt.title(f\"Actual: {actual_label.capitalize()} | Predicted: {predicted_label.capitalize()}\")\n",
        "    plt.axis('off')\n",
        "    plt.show()"
      ],
      "metadata": {
        "id": "AeI9R27wWEIp"
      },
      "execution_count": 52,
      "outputs": []
    },
    {
      "cell_type": "code",
      "source": [
        "predict_emotion(\"/content/test/happy/PrivateTest_13103594.jpg\")"
      ],
      "metadata": {
        "colab": {
          "base_uri": "https://localhost:8080/",
          "height": 445
        },
        "id": "5LTQrExgXE6x",
        "outputId": "7d19de97-0890-47d0-e665-d170cc4b9b99"
      },
      "execution_count": 53,
      "outputs": [
        {
          "output_type": "stream",
          "name": "stdout",
          "text": [
            "\u001b[1m1/1\u001b[0m \u001b[32m━━━━━━━━━━━━━━━━━━━━\u001b[0m\u001b[37m\u001b[0m \u001b[1m0s\u001b[0m 31ms/step\n"
          ]
        },
        {
          "output_type": "display_data",
          "data": {
            "text/plain": [
              "<Figure size 640x480 with 1 Axes>"
            ],
            "image/png": "[encoded data removed]"
          },
          "metadata": {}
        }
      ]
    },
    {
      "cell_type": "code",
      "source": [
        "predict_emotion(\"/content/test/surprise/PrivateTest_13683211.jpg\")\n",
        "predict_emotion(\"/content/test/angry/PrivateTest_10131363.jpg\")"
      ],
      "metadata": {
        "colab": {
          "base_uri": "https://localhost:8080/",
          "height": 874
        },
        "id": "g4sl_VvgcQrJ",
        "outputId": "fb916f09-b210-48ed-e3ba-b91ea727bd5b"
      },
      "execution_count": 59,
      "outputs": [
        {
          "output_type": "stream",
          "name": "stdout",
          "text": [
            "\u001b[1m1/1\u001b[0m \u001b[32m━━━━━━━━━━━━━━━━━━━━\u001b[0m\u001b[37m\u001b[0m \u001b[1m0s\u001b[0m 47ms/step\n"
          ]
        },
        {
          "output_type": "display_data",
          "data": {
            "text/plain": [
              "<Figure size 640x480 with 1 Axes>"
            ],
            "image/png": "[encoded data removed]"
          },
          "metadata": {}
        },
        {
          "output_type": "stream",
          "name": "stdout",
          "text": [
            "\u001b[1m1/1\u001b[0m \u001b[32m━━━━━━━━━━━━━━━━━━━━\u001b[0m\u001b[37m\u001b[0m \u001b[1m0s\u001b[0m 46ms/step\n"
          ]
        },
        {
          "output_type": "display_data",
          "data": {
            "text/plain": [
              "<Figure size 640x480 with 1 Axes>"
            ],
            "image/png": "[encoded data removed]"
          },
          "metadata": {}
        }
      ]
    },
    {
      "cell_type": "code",
      "source": [
        "predict_emotion(\"/content/test/fear/PrivateTest_11014592.jpg\")"
      ],
      "metadata": {
        "colab": {
          "base_uri": "https://localhost:8080/",
          "height": 445
        },
        "id": "hm1qtqulcafS",
        "outputId": "4c5acea6-7839-4a1b-dc0e-0624038af887"
      },
      "execution_count": 55,
      "outputs": [
        {
          "output_type": "stream",
          "name": "stdout",
          "text": [
            "\u001b[1m1/1\u001b[0m \u001b[32m━━━━━━━━━━━━━━━━━━━━\u001b[0m\u001b[37m\u001b[0m \u001b[1m0s\u001b[0m 29ms/step\n"
          ]
        },
        {
          "output_type": "display_data",
          "data": {
            "text/plain": [
              "<Figure size 640x480 with 1 Axes>"
            ],
            "image/png": "[encoded data removed]"
          },
          "metadata": {}
        }
      ]
    },
    {
      "cell_type": "code",
      "source": [
        "predict_emotion(\"/content/test/sad/PrivateTest_10814167.jpg\")\n"
      ],
      "metadata": {
        "colab": {
          "base_uri": "https://localhost:8080/",
          "height": 445
        },
        "id": "G6jKUmbVct6w",
        "outputId": "f8b4966f-106b-41fc-c5c0-1c1c6bf68865"
      },
      "execution_count": 61,
      "outputs": [
        {
          "output_type": "stream",
          "name": "stdout",
          "text": [
            "\u001b[1m1/1\u001b[0m \u001b[32m━━━━━━━━━━━━━━━━━━━━\u001b[0m\u001b[37m\u001b[0m \u001b[1m0s\u001b[0m 30ms/step\n"
          ]
        },
        {
          "output_type": "display_data",
          "data": {
            "text/plain": [
              "<Figure size 640x480 with 1 Axes>"
            ],
            "image/png": "[encoded data removed]"
          },
          "metadata": {}
        }
      ]
    },
    {
      "cell_type": "markdown",
      "source": [],
      "metadata": {
        "id": "RYdxPuoafEW1"
      }
    },
    {
      "cell_type": "code",
      "source": [
        "predict_emotion(\"/content/test/disgust/PrivateTest_11895083.jpg\")"
      ],
      "metadata": {
        "colab": {
          "base_uri": "https://localhost:8080/",
          "height": 445
        },
        "id": "njDcC9DH63UE",
        "outputId": "7a2bf94b-440f-440c-c59e-94bdf6da9ee1"
      },
      "execution_count": 60,
      "outputs": [
        {
          "output_type": "stream",
          "name": "stdout",
          "text": [
            "\u001b[1m1/1\u001b[0m \u001b[32m━━━━━━━━━━━━━━━━━━━━\u001b[0m\u001b[37m\u001b[0m \u001b[1m0s\u001b[0m 32ms/step\n"
          ]
        },
        {
          "output_type": "display_data",
          "data": {
            "text/plain": [
              "<Figure size 640x480 with 1 Axes>"
            ],
            "image/png": "[encoded data removed]"
          },
          "metadata": {}
        }
      ]
    },
    {
      "cell_type": "code",
      "source": [
        "predict_emotion(\"/content/test/surprise/PrivateTest_10072988.jpg\")"
      ],
      "metadata": {
        "colab": {
          "base_uri": "https://localhost:8080/",
          "height": 445
        },
        "id": "Q2lN3Mmw9iPg",
        "outputId": "ca808953-8e0f-4af9-a0bd-99fffa68ebff"
      },
      "execution_count": 62,
      "outputs": [
        {
          "output_type": "stream",
          "name": "stdout",
          "text": [
            "\u001b[1m1/1\u001b[0m \u001b[32m━━━━━━━━━━━━━━━━━━━━\u001b[0m\u001b[37m\u001b[0m \u001b[1m0s\u001b[0m 33ms/step\n"
          ]
        },
        {
          "output_type": "display_data",
          "data": {
            "text/plain": [
              "<Figure size 640x480 with 1 Axes>"
            ],
            "image/png": "[encoded data removed]"
          },
          "metadata": {}
        }
      ]
    },
    {
      "cell_type": "markdown",
      "metadata": {
        "id": "d2c4df30"
      },
      "source": [
        "## Methodology\n",
        "\n",
        "### Subtask:\n",
        "Explain the approach taken, including the CNN architecture and the data loading process using `ImageDataGenerator`.\n"
      ]
    },
    {
      "cell_type": "code",
      "metadata": {
        "id": "571ea185"
      },
      "source": [
        "# ## Methodology\n",
        "#\n",
        "# The approach taken for emotion recognition from facial expressions involves building and training a Convolutional Neural Network (CNN) model. CNNs are well-suited for image processing tasks as they can automatically learn hierarchical features from the raw pixel data.\n",
        "#\n",
        "# ### Data Loading and Preprocessing with ImageDataGenerator\n",
        "#\n",
        "# The FER2013 dataset, organized into 'train' and 'test' directories with subdirectories for each emotion class, was loaded and preprocessed using TensorFlow's `ImageDataGenerator`. This utility efficiently reads images from directories and prepares them for model training.\n",
        "#\n",
        "# Key configurations for the `ImageDataGenerator` include:\n",
        "# - **`rescale=1./255`**: Pixel values were scaled to the range [0, 1] to normalize the data.\n",
        "# - **`target_size=(48, 48)`**: All images were resized to 48x48 pixels, which is a common input size for this dataset and helps standardize the input to the CNN.\n",
        "# - **`color_mode='grayscale'`**: Images were converted to grayscale as the FER2013 dataset consists of grayscale images.\n",
        "# - **`batch_size=64`**: Images were processed in batches of 64 during training and validation to optimize computational efficiency.\n",
        "# - **`class_mode='categorical'`**: The labels were converted into a one-hot encoded categorical format, suitable for the categorical crossentropy loss function used in multi-class classification.\n",
        "# - **`subset='training'` and `subset='validation'`**: The `ImageDataGenerator` was used to automatically split the training data into training (80%) and validation (20%) sets.\n",
        "# - **`shuffle=True`**: The training and validation data were shuffled to ensure the model doesn't learn the order of the data.\n",
        "# - The test data was loaded separately using a similar `ImageDataGenerator` but without a validation split and with `shuffle=False` to maintain the order for evaluation.\n",
        "#\n",
        "# ### Convolutional Neural Network (CNN) Architecture\n",
        "#\n",
        "# The CNN model was designed to extract and classify features from the facial images. The architecture consists of the following layers:\n",
        "#\n",
        "# - **`Conv2D` (Convolutional Layers)**: These layers apply learnable filters to the input images to detect spatial hierarchies of features, such as edges, corners, and more complex patterns.\n",
        "# - The **first `Conv2D` layer** uses 52 filters with a 3x3 kernel size. The choice of 52 filters is an initial design decision to capture a sufficient number of basic features. A 3x3 kernel is a common and effective size for capturing local patterns.\n",
        "# - The **second `Conv2D` layer** increases the number of filters to 104. As the network goes deeper, it learns more complex and abstract representations, and increasing the number of filters allows the model to detect a wider variety of these intricate features.\n",
        "# - **`MaxPooling2D` Layers**: These layers downsample the feature maps, reducing their spatial dimensions. This helps to make the model more robust to small variations in the input and reduces the computational cost. A 2x2 pool size was used.\n",
        "# - **`Dropout` Layers**: These are regularization layers that randomly set a fraction of input units to zero during training. This technique helps prevent overfitting by encouraging the network to learn more robust features. Dropout rates of 0.25 and 0.5 were used.\n",
        "# - **`Flatten` Layer**: This layer converts the 2D feature maps from the convolutional and pooling layers into a 1D vector, which serves as the input to the dense layers.\n",
        "# - **`Dense` Layers (Fully Connected Layers)**: These layers perform the classification based on the features extracted by the convolutional layers.\n",
        "# - The **first `Dense` layer** has 208 neurons and uses the ReLU activation function to introduce non-linearity.\n",
        "# - The **final `Dense` layer** has 7 neurons, corresponding to the 7 emotion classes. It uses the Softmax activation function to output a probability distribution over the classes, indicating the likelihood of the image belonging to each emotion.\n",
        "#\n",
        "# - **Activation Functions**:\n",
        "#     - **`ReLU` (Rectified Linear Unit)**: Used in the convolutional and first dense layers, it introduces non-linearity, enabling the model to learn complex patterns.\n",
        "#     - **`Softmax`**: Used in the output layer for multi-class classification, it converts raw scores into probabilities.\n",
        "#\n",
        "# - **Optimizer**: The `adam` optimizer was used for training, which is an efficient algorithm for updating model weights.\n",
        "# - **Loss Function**: `categorical_crossentropy` was used as the loss function, appropriate for multi-class classification with one-hot encoded labels."
      ],
      "execution_count": null,
      "outputs": []
    },
    {
      "cell_type": "markdown",
      "metadata": {
        "id": "3ba9cff6"
      },
      "source": [
        "## Training process\n",
        "\n",
        "### Subtask:\n",
        "Describe the training process, including the optimizer, loss function, and the number of epochs.\n"
      ]
    },
    {
      "cell_type": "code",
      "metadata": {
        "id": "038b4f70"
      },
      "source": [
        "# ## Training Process\n",
        "#\n",
        "# The CNN model was trained using the preprocessed image data generators (`train_generator` and `val_generator`). The training process involved optimizing the model's parameters to minimize the loss function and improve accuracy on the training data, while monitoring performance on the validation data to detect overfitting.\n",
        "#\n",
        "# - **Optimizer**: The **Adam optimizer** was used. Adam is an adaptive learning rate optimization algorithm that is widely used for training deep neural networks due to its efficiency and good performance in practice.\n",
        "# - **Loss Function**: The **Categorical Crossentropy** loss function was employed. This is the standard loss function for multi-class classification problems where the output is a probability distribution over the classes and the labels are one-hot encoded. It measures the difference between the predicted probabilities and the true class distribution.\n",
        "# - **Epochs**: The model was trained for **400 epochs**. An epoch represents one full pass through the entire training dataset. The number of epochs was set to allow the model sufficient time to learn complex patterns in the data, although monitoring of the validation metrics during training is crucial to determine if early stopping is necessary to prevent overfitting.\n",
        "# - **Batch Size**: The training and validation were performed using a batch size of 64, as defined in the `ImageDataGenerator` setup. Each training step processed a batch of 64 images.\n",
        "#\n",
        "# During training, the model's accuracy and loss were tracked for both the training and validation sets at the end of each epoch. This information, stored in the `history` object, is used to visualize the training progress and assess the model's performance and potential overfitting."
      ],
      "execution_count": null,
      "outputs": []
    },
    {
      "cell_type": "markdown",
      "metadata": {
        "id": "566d341f"
      },
      "source": [
        "## Results\n",
        "\n",
        "### Subtask:\n",
        "Present the training and validation accuracy and loss, and the final test accuracy. Include the plots generated in Step 8.\n"
      ]
    },
    {
      "cell_type": "code",
      "metadata": {
        "id": "aa52a1ef"
      },
      "source": [
        " ## Results\n",
        "#\n",
        "# After training the CNN model for 400 epochs, the performance was evaluated on both the validation and test datasets.\n",
        "#\n",
        "# The **final test accuracy** achieved on the independent test set is **0.5646**.\n",
        "#\n",
        "# Observing the training and validation plots (shown below):\n",
        "#\n",
        "# - **Accuracy Plot**: The training accuracy consistently increases over epochs, indicating that the model is learning to fit the training data well. However, the validation accuracy plateaus relatively early and shows some fluctuations, staying significantly below the training accuracy. This suggests that the model is likely **overfitting** to the training data, meaning it is learning patterns specific to the training set that do not generalize well to unseen data.\n",
        "# - **Loss Plot**: The training loss steadily decreases throughout the training process. Conversely, the validation loss decreases initially but then starts to increase and fluctuate significantly. This divergence between training and validation loss is another strong indicator of **overfitting**. The model is becoming too complex and is memorizing the training examples rather than learning generalizable features.\n",
        "#\n",
        "# The plots below visually represent these trends in accuracy and loss over the training epochs."
      ],
      "execution_count": null,
      "outputs": []
    },
    {
      "cell_type": "markdown",
      "metadata": {
        "id": "b3498acc"
      },
      "source": [
        "## Discussion and conclusion\n",
        "\n",
        "### Subtask:\n",
        "Summarize the findings, discuss the model's performance, and suggest potential future improvements.\n"
      ]
    },
    {
      "cell_type": "code",
      "metadata": {
        "id": "32da018c"
      },
      "source": [
        "# ## Discussion and Conclusion\n",
        "#\n",
        "# ### Summary of Findings\n",
        "#\n",
        "# This project aimed to build a Convolutional Neural Network (CNN) model to classify facial emotions from images using the FER2013 dataset. The dataset consists of grayscale images categorized into seven emotions: Angry, Disgust, Fear, Happy, Neutral, Sad, and Surprise. We used `ImageDataGenerator` to load and preprocess the images, including resizing and normalization, and split the training data into training and validation sets. The developed CNN architecture comprised convolutional layers with increasing filter sizes (52 and 104 filters with 3x3 kernels), max pooling, and dropout layers for feature extraction and regularization, followed by dense layers for classification. The model was compiled using the Adam optimizer and categorical crossentropy loss and trained for 400 epochs.\n",
        "#\n",
        "# ### Model Performance\n",
        "#\n",
        "# The model achieved a final test accuracy of approximately 56.46%. While the training accuracy consistently improved throughout the 400 epochs, reaching a high level, the validation accuracy plateaued relatively early and showed significant fluctuations. Similarly, the training loss decreased steadily, but the validation loss increased and fluctuated after an initial decrease. These diverging trends between the training and validation metrics, as clearly shown in the plots from Step 8, are strong indicators of **overfitting**. The model has learned the training data too well, including noise and specific patterns that do not generalize to unseen data, resulting in a lower performance on the validation and test sets compared to the training set.\n",
        "#\n",
        "# ### Potential Future Improvements\n",
        "#\n",
        "# To address the observed overfitting and potentially enhance the model's performance, several improvements can be considered for future work:\n",
        "#\n",
        "# - **Data Augmentation**: Implementing techniques like random rotations, shifts, zooms, and flips during training can artificially increase the size and variability of the training data, making the model more robust and less prone to overfitting.\n",
        "# - **More Complex or Different CNN Architecture**: Exploring deeper or wider network architectures, or using pre-trained models (transfer learning) like VGG, ResNet, or Inception, could potentially capture more intricate features and improve performance. However, this should be balanced against the risk of increased overfitting and computational cost.\n",
        "# - **Implementing Early Stopping**: Monitoring the validation loss or accuracy during training and stopping the training process when the validation performance starts to degrade can prevent the model from overfitting.\n",
        "# - **Hyperparameter Tuning**: Systematically experimenting with different hyperparameters, such as the number of filters, kernel sizes, dropout rates, learning rate of the optimizer, and batch size, could lead to a better-performing model.\n",
        "# - **Exploring Transfer Learning**: Utilizing a CNN pre-trained on a large dataset like ImageNet and fine-tuning it on the FER2013 dataset can leverage learned features from a broader domain and potentially improve performance, especially with limited data.\n",
        "# - **Addressing Class Imbalance**: If there is a significant imbalance in the number of images per emotion class in the dataset, techniques like class weighting, oversampling minority classes, or undersampling majority classes could help the model learn all emotions more effectively.\n",
        "#\n",
        "# ### Conclusion\n",
        "#\n",
        "# This project successfully demonstrated the process of building and training a CNN model for facial emotion recognition on the FER2013 dataset. Although the model achieved a reasonable test accuracy, the significant overfitting observed highlights the challenges of training deep learning models on this dataset. The project provided valuable insights into the model development workflow and the importance of monitoring validation metrics to diagnose issues like overfitting. Future work focusing on the suggested improvements is necessary to build a more robust and accurate emotion recognition system."
      ],
      "execution_count": null,
      "outputs": []
    },
    {
      "cell_type": "markdown",
      "metadata": {
        "id": "ad9f0ea3"
      },
      "source": [
        "## Summary:\n",
        "\n",
        "### Data Analysis Key Findings\n",
        "\n",
        "*   The FER2013 dataset contains grayscale facial images categorized into seven emotions (Angry, Disgust, Fear, Happy, Neutral, Sad, Surprise).\n",
        "*   The dataset is split into a training set (22,968 images), a validation set (5,741 images), and a test set (7,178 images).\n",
        "*   The CNN model used a first convolutional layer with 52 filters and a 3x3 kernel, and a second convolutional layer with 104 filters, followed by max pooling and dropout layers.\n",
        "*   The model was trained using the Adam optimizer and Categorical Crossentropy loss function for 400 epochs.\n",
        "*   The final test accuracy achieved by the model was approximately 56.46%.\n",
        "*   Training and validation accuracy/loss plots indicated significant overfitting, with the model performing much better on the training data than on the validation/test data.\n",
        "\n",
        "\n",
        "### Insights or Next Steps\n",
        "\n",
        "*   The observed overfitting is a major issue. Implementing data augmentation, early stopping, or exploring transfer learning are crucial next steps to improve the model's generalization ability.\n"
      ]
    }
  ]
}